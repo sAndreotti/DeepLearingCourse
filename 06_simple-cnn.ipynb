{
 "metadata": {
  "kernelspec": {
   "language": "python",
   "display_name": "Python 3",
   "name": "python3"
  },
  "language_info": {
   "name": "python",
   "version": "3.10.14",
   "mimetype": "text/x-python",
   "codemirror_mode": {
    "name": "ipython",
    "version": 3
   },
   "pygments_lexer": "ipython3",
   "nbconvert_exporter": "python",
   "file_extension": ".py"
  },
  "kaggle": {
   "accelerator": "none",
   "dataSources": [],
   "dockerImageVersionId": 30787,
   "isInternetEnabled": true,
   "language": "python",
   "sourceType": "notebook",
   "isGpuEnabled": false
  }
 },
 "nbformat_minor": 4,
 "nbformat": 4,
 "cells": [
  {
   "cell_type": "markdown",
   "source": "# Template code for CNN\n\nIn this notebook, we will show a simple usage of CNN on the MNIST dataset. \nThe usage of GPUs is highly recommended",
   "metadata": {}
  },
  {
   "cell_type": "code",
   "source": "#!pip install torch==2.4 # Run just once\nimport torch\nimport torch.nn as nn\nimport torch.nn.functional as F\nimport torchvision.datasets as datasets\nfrom torchvision import transforms\nimport matplotlib.pyplot as plt\nfrom torch.utils.data import DataLoader\nimport torch.optim as optim\nfrom math import floor\n\n# Set torch seed\n",
   "metadata": {
    "_uuid": "8f2839f25d086af736a60e9eeb907d3b93b6e0e5",
    "_cell_guid": "b1076dfc-b9ad-4769-8c92-a6c4dae69d19",
    "execution": {
     "iopub.status.busy": "2024-10-18T15:20:05.125925Z",
     "iopub.execute_input": "2024-10-18T15:20:05.126419Z",
     "iopub.status.idle": "2024-10-18T15:20:05.134336Z",
     "shell.execute_reply.started": "2024-10-18T15:20:05.126372Z",
     "shell.execute_reply": "2024-10-18T15:20:05.132286Z"
    },
    "trusted": true,
    "ExecuteTime": {
     "end_time": "2024-10-21T13:58:07.663093Z",
     "start_time": "2024-10-21T13:58:06.498651Z"
    }
   },
   "outputs": [],
   "execution_count": 1
  },
  {
   "cell_type": "markdown",
   "source": "## Dataset\nFirst, we load the [MNIST dataset](https://pytorch.org/vision/main/generated/torchvision.datasets.MNIST.html) directly from PyTorch. As usual, we split data within train, evaluation and test. Then, we create the `Dataloader` object",
   "metadata": {}
  },
  {
   "cell_type": "code",
   "source": "dataset_train = datasets.MNIST('.', train=True, download=True, transform=transforms.ToTensor()) # download = True just once\ndataset_test = datasets.MNIST('.', train=False, download=True, transform=transforms.ToTensor())\n\ndataset_validation, dataset_test = torch.utils.data.random_split(dataset_test, [0.5, 0.5])\nprint(\"We have\", len(dataset_validation), \"items for validation and\", len(dataset_test), \"items for test\")\n\nbatch_size = 64 # Reduce it in case you need it\n\ntrain_loader = DataLoader(dataset_train, batch_size=batch_size)\nvalidation_loader = DataLoader(dataset_validation, batch_size=len(dataset_validation))\ntest_loader = DataLoader(dataset_test, batch_size=len(dataset_test))",
   "metadata": {
    "execution": {
     "iopub.status.busy": "2024-10-18T15:20:05.136850Z",
     "iopub.execute_input": "2024-10-18T15:20:05.137875Z",
     "iopub.status.idle": "2024-10-18T15:20:05.251121Z",
     "shell.execute_reply.started": "2024-10-18T15:20:05.137783Z",
     "shell.execute_reply": "2024-10-18T15:20:05.249835Z"
    },
    "trusted": true,
    "ExecuteTime": {
     "end_time": "2024-10-21T13:58:07.841574Z",
     "start_time": "2024-10-21T13:58:07.666766Z"
    }
   },
   "outputs": [
    {
     "name": "stdout",
     "output_type": "stream",
     "text": [
      "Downloading http://yann.lecun.com/exdb/mnist/train-images-idx3-ubyte.gz\n",
      "Using downloaded and verified file: ./MNIST/raw/train-images-idx3-ubyte.gz\n",
      "Extracting ./MNIST/raw/train-images-idx3-ubyte.gz to ./MNIST/raw\n",
      "\n",
      "Downloading http://yann.lecun.com/exdb/mnist/train-labels-idx1-ubyte.gz\n",
      "Using downloaded and verified file: ./MNIST/raw/train-labels-idx1-ubyte.gz\n",
      "Extracting ./MNIST/raw/train-labels-idx1-ubyte.gz to ./MNIST/raw\n",
      "\n",
      "Downloading http://yann.lecun.com/exdb/mnist/t10k-images-idx3-ubyte.gz\n",
      "Using downloaded and verified file: ./MNIST/raw/t10k-images-idx3-ubyte.gz\n",
      "Extracting ./MNIST/raw/t10k-images-idx3-ubyte.gz to ./MNIST/raw\n",
      "\n",
      "Downloading http://yann.lecun.com/exdb/mnist/t10k-labels-idx1-ubyte.gz\n",
      "Using downloaded and verified file: ./MNIST/raw/t10k-labels-idx1-ubyte.gz\n",
      "Extracting ./MNIST/raw/t10k-labels-idx1-ubyte.gz to ./MNIST/raw\n",
      "\n",
      "We have 5000 items for validation and 5000 items for test\n"
     ]
    }
   ],
   "execution_count": 2
  },
  {
   "cell_type": "markdown",
   "source": "## Model\n\nDefine a simple Convolutional neural network having 3 conv + pool layers. As activation function, use ReLu",
   "metadata": {}
  },
  {
   "cell_type": "code",
   "source": "def out_dimensions(conv_layer, h_in, w_in):\n    '''\n    This function computes the output dimension of each convolutional layers in the most general way. \n    '''\n    h_out = floor((h_in + 2 * conv_layer.padding[0] - conv_layer.dilation[0] * (conv_layer.kernel_size[0] - 1) - 1) /\n                  conv_layer.stride[0] + 1)\n    w_out = floor((w_in + 2 * conv_layer.padding[1] - conv_layer.dilation[1] * (conv_layer.kernel_size[1] - 1) - 1) /\n                  conv_layer.stride[1] + 1)\n    return h_out, w_out\n    \n    \nclass CNN(nn.Module):\n    def __init__(self):\n        super(CNN, self).__init__()\n        self.conv1 = nn.Conv2d(in_channels=1, out_channels=32, kernel_size=(3, 3))\n        h_out, w_out = out_dimensions(self.conv1, 28, 28)\n        self.conv2 = nn.Conv2d(in_channels=32, out_channels=32, kernel_size=(3, 3))\n        h_out, w_out = out_dimensions(self.conv2, h_out, w_out)\n        self.pool1 = nn.MaxPool2d(2, 2)\n        h_out, w_out = int(h_out/2), int(w_out/2)\n        self.fc1 = nn.Linear(32 * h_out * w_out, 10)\n        self.dimensions_final = (32, h_out, w_out)\n\n    def forward(self, x):\n        x = self.conv1(x)\n        x = self.conv2(x)\n        x = F.relu(x)\n        x = self.pool1(x)\n        n_channels, h, w = self.dimensions_final\n        x = x.view(-1, n_channels * h * w)\n        x = self.fc1(x)\n        return x",
   "metadata": {
    "execution": {
     "iopub.status.busy": "2024-10-18T15:20:05.253634Z",
     "iopub.execute_input": "2024-10-18T15:20:05.254170Z",
     "iopub.status.idle": "2024-10-18T15:20:05.275080Z",
     "shell.execute_reply.started": "2024-10-18T15:20:05.254113Z",
     "shell.execute_reply": "2024-10-18T15:20:05.273541Z"
    },
    "trusted": true,
    "ExecuteTime": {
     "end_time": "2024-10-21T13:58:07.913405Z",
     "start_time": "2024-10-21T13:58:07.910142Z"
    }
   },
   "outputs": [],
   "execution_count": 3
  },
  {
   "cell_type": "markdown",
   "source": "## Training",
   "metadata": {}
  },
  {
   "cell_type": "code",
   "source": "model = CNN()\nlearning_rate = 0.001\noptimizer = optim.Adam(model.parameters(), lr=learning_rate)\nloss_fn = nn.CrossEntropyLoss()",
   "metadata": {
    "execution": {
     "iopub.status.busy": "2024-10-18T15:20:05.278365Z",
     "iopub.execute_input": "2024-10-18T15:20:05.278923Z",
     "iopub.status.idle": "2024-10-18T15:20:05.296252Z",
     "shell.execute_reply.started": "2024-10-18T15:20:05.278863Z",
     "shell.execute_reply": "2024-10-18T15:20:05.294750Z"
    },
    "trusted": true,
    "ExecuteTime": {
     "end_time": "2024-10-21T13:58:07.920773Z",
     "start_time": "2024-10-21T13:58:07.918234Z"
    }
   },
   "outputs": [],
   "execution_count": 4
  },
  {
   "cell_type": "code",
   "source": "DEVICE = torch.device('cuda' if torch.cuda.is_available() else 'mps' \n    if torch.backends.mps.is_available() else 'cpu')\nmodel = model.to(DEVICE)\nprint(\"Working on\", DEVICE)",
   "metadata": {
    "execution": {
     "iopub.status.busy": "2024-10-18T15:20:05.297799Z",
     "iopub.execute_input": "2024-10-18T15:20:05.298356Z",
     "iopub.status.idle": "2024-10-18T15:20:05.307436Z",
     "shell.execute_reply.started": "2024-10-18T15:20:05.298297Z",
     "shell.execute_reply": "2024-10-18T15:20:05.306235Z"
    },
    "trusted": true,
    "ExecuteTime": {
     "end_time": "2024-10-21T13:58:07.942352Z",
     "start_time": "2024-10-21T13:58:07.925223Z"
    }
   },
   "outputs": [
    {
     "name": "stdout",
     "output_type": "stream",
     "text": [
      "Working on mps\n"
     ]
    }
   ],
   "execution_count": 5
  },
  {
   "cell_type": "code",
   "source": "n_epochs = 3\ntrain_loss_list = []\nvalidation_loss_list = []\nfor epoch in range(n_epochs):\n    loss_train = 0\n    for data, target in train_loader:\n        # Set the model in training mode\n        model.train()\n        data, target = data.to(DEVICE), target.to(DEVICE)\n        # Set the gradient to 0\n        optimizer.zero_grad()\n        # Make a prediction\n        output = model(data)\n        # Compute the loss function\n        loss = loss_fn(output, target)\n        loss_train += loss.item()\n        # Backpropagation\n        loss.backward()\n        # Update parameters\n        optimizer.step()\n    loss_train = loss_train / len(train_loader) # Consider this alternative method of tracking training loss. \n    train_loss_list.append(loss_train)\n    \n    # At the end of every epoch, check the validation loss value\n    with torch.no_grad():\n        model.eval()\n        for data, target in validation_loader: # Just one batch\n            data, target = data.to(DEVICE), target.to(DEVICE)\n            # Make a prediction\n            output = model(data)\n            # Compute the loss function\n            validation_loss = loss_fn(output, target).item()\n            print(f\"Epoch {epoch + 1}: Train loss: {loss_train}, Validation loss {validation_loss}\")\n            validation_loss_list.append(validation_loss)\n    ",
   "metadata": {
    "execution": {
     "iopub.status.busy": "2024-10-18T15:20:05.309349Z",
     "iopub.execute_input": "2024-10-18T15:20:05.309935Z",
     "iopub.status.idle": "2024-10-18T15:22:26.098032Z",
     "shell.execute_reply.started": "2024-10-18T15:20:05.309878Z",
     "shell.execute_reply": "2024-10-18T15:22:26.096022Z"
    },
    "trusted": true,
    "ExecuteTime": {
     "end_time": "2024-10-21T13:58:22.112878Z",
     "start_time": "2024-10-21T13:58:07.946337Z"
    }
   },
   "outputs": [
    {
     "name": "stdout",
     "output_type": "stream",
     "text": [
      "Epoch 1: Train loss: 0.18120815149813232, Validation loss 0.07126805186271667\n",
      "Epoch 2: Train loss: 0.06194848869561102, Validation loss 0.05450356379151344\n",
      "Epoch 3: Train loss: 0.04383909128977285, Validation loss 0.05225325748324394\n"
     ]
    }
   ],
   "execution_count": 6
  },
  {
   "cell_type": "code",
   "source": "plt.figure()\nplt.plot(range(n_epochs), train_loss_list)\nplt.plot(range(n_epochs), validation_loss_list)\nplt.legend([\"Train loss\", \"Validation Loss\"])\nplt.xlabel(\"Epochs\")\nplt.ylabel(\"Loss value\")\nplt.show()",
   "metadata": {
    "execution": {
     "iopub.status.busy": "2024-10-18T15:22:26.099525Z",
     "iopub.execute_input": "2024-10-18T15:22:26.099931Z",
     "iopub.status.idle": "2024-10-18T15:22:26.450522Z",
     "shell.execute_reply.started": "2024-10-18T15:22:26.099891Z",
     "shell.execute_reply": "2024-10-18T15:22:26.449155Z"
    },
    "trusted": true,
    "ExecuteTime": {
     "end_time": "2024-10-21T13:58:22.300500Z",
     "start_time": "2024-10-21T13:58:22.244510Z"
    }
   },
   "outputs": [
    {
     "data": {
      "text/plain": [
       "<Figure size 640x480 with 1 Axes>"
      ],
      "image/png": "[encoded data removed]"
     },
     "metadata": {},
     "output_type": "display_data"
    }
   ],
   "execution_count": 7
  },
  {
   "cell_type": "markdown",
   "source": "## Test\n\nIn this section, we test our model on new data by computing the accuracy",
   "metadata": {}
  },
  {
   "cell_type": "code",
   "source": "with torch.no_grad():\n    n_correct = 0\n    n_samples = 0\n    for data, target in test_loader:\n        data, target = data.to(DEVICE), target.to(DEVICE)\n        outputs = model(data)\n        _, predicted = torch.max(outputs.data, 1)\n        n_samples += target.size(0)\n        n_correct += (predicted == target).sum().item()\n\n    acc = 100.0 * n_correct / n_samples\nprint(\"Accuracy on the test set:\", acc, \"%\")",
   "metadata": {
    "execution": {
     "iopub.status.busy": "2024-10-18T15:22:26.452426Z",
     "iopub.execute_input": "2024-10-18T15:22:26.452976Z",
     "iopub.status.idle": "2024-10-18T15:22:29.757241Z",
     "shell.execute_reply.started": "2024-10-18T15:22:26.452915Z",
     "shell.execute_reply": "2024-10-18T15:22:29.755743Z"
    },
    "trusted": true,
    "ExecuteTime": {
     "end_time": "2024-10-21T13:58:22.466796Z",
     "start_time": "2024-10-21T13:58:22.337704Z"
    }
   },
   "outputs": [
    {
     "name": "stdout",
     "output_type": "stream",
     "text": [
      "Accuracy on the test set: 98.1 %\n"
     ]
    }
   ],
   "execution_count": 8
  }
 ]
}
