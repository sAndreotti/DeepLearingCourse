{
  "cells": [
    {
      "cell_type": "markdown",
      "source": [
        "# STEFANO ANDREOTTI"
      ],
      "metadata": {
        "id": "RlQvTx54oS7t"
      }
    },
    {
      "cell_type": "markdown",
      "source": [
        "## Packages"
      ],
      "metadata": {
        "id": "rJh8deLYoRB5"
      }
    },
    {
      "cell_type": "code",
      "execution_count": 1,
      "metadata": {
        "id": "NPVZfDeiEZZM"
      },
      "outputs": [],
      "source": [
        "# Import necessary libraries\n",
        "import networkx as nx # For graphs\n",
        "import pickle # For data parsing\n",
        "from networkx.algorithms.approximation import greedy_tsp # For approx TSP\n",
        "import numpy as np\n",
        "\n",
        "import torch\n",
        "import torch.nn as nn\n",
        "import torch.optim as optim\n",
        "from torch import Tensor\n",
        "from torch.utils.data import Dataset, DataLoader\n",
        "\n",
        "import matplotlib.pyplot as plt\n",
        "import seaborn as sns\n",
        "import pandas as pd\n",
        "import math\n",
        "import warnings\n",
        "\n",
        "import time\n",
        "from timeit import default_timer as timer"
      ]
    },
    {
      "cell_type": "markdown",
      "source": [
        "## Helper functions"
      ],
      "metadata": {
        "id": "-NyIcIBydQxK"
      }
    },
    {
      "cell_type": "code",
      "source": [
        "def tour_length(G, tour):\n",
        "    \"\"\"\n",
        "    Compute the length of a tour. A tour is a list having elments 0 and -1 equal\n",
        "    \"\"\"\n",
        "    assert tour[0] == tour[-1], \"Not valid tour\"\n",
        "    estimated = 0\n",
        "    n = G.number_of_nodes()\n",
        "    for i in range(n):\n",
        "        estimated += G[tour[i]][tour[i + 1]]['weight']\n",
        "    return estimated\n",
        "\n",
        "def greedy_algorithm(G):\n",
        "    \"\"\"\n",
        "    Run the value of the greedy approximation algorithm on graph G\n",
        "    \"\"\"\n",
        "    return tour_length(G, greedy_tsp(G, weight='weight'))\n",
        "\n",
        "def random_tour(G, seed = 42):\n",
        "    \"\"\"\n",
        "    Return the value of a random tour\n",
        "    \"\"\"\n",
        "    np.random.seed(seed)\n",
        "    n = G.number_of_nodes()\n",
        "    tour = [0]\n",
        "    for i in range(1, n):\n",
        "        next_node = np.random.choice([j for j in range(n) if j not in tour])\n",
        "        tour.append(next_node)\n",
        "    tour.append(0)\n",
        "    return tour_length(G, tour)\n",
        "\n",
        "def transformer_tsp(G, model, DEVICE = 'cpu'):\n",
        "    \"\"\"\n",
        "    Evaluate your (trained) model on G\n",
        "    \"\"\"\n",
        "    # Set the model in evaluation mode\n",
        "\n",
        "    model.eval()\n",
        "\n",
        "    # Note: number of edges is constant ed equal to n(n-1)/2\n",
        "    n = G.number_of_nodes()\n",
        "\n",
        "    # Get node coordinates\n",
        "    attr = nx.get_node_attributes(G, 'pos')\n",
        "    x = []\n",
        "    for i in range(n):\n",
        "        x.append(torch.tensor(attr[i], dtype=torch.float32))\n",
        "\n",
        "    # From list of tensors to tensor 2d\n",
        "    x = torch.stack(x)\n",
        "\n",
        "    tour = [0]\n",
        "    y = torch.tensor(tour, dtype=torch.long)\n",
        "    x = x.to(DEVICE).unsqueeze(0)\n",
        "    y = y.to(DEVICE).unsqueeze(0)\n",
        "\n",
        "    with torch.no_grad():\n",
        "\n",
        "        _, tgt_mask, _, _ = create_mask(x, y, DEVICE)\n",
        "\n",
        "        out = model(x, y, None, tgt_mask, None, None)\n",
        "\n",
        "        # Loop until the tour is complete\n",
        "        while len(tour) < n:\n",
        "            _, idx = torch.topk(out, n, dim=2)\n",
        "            for i in range(n):\n",
        "                # Check if the node is already in the tour\n",
        "                if idx[0, 0, i] not in tour:\n",
        "                    tour.append(idx[0, 0, i])\n",
        "                    break\n",
        "            y = torch.tensor(tour)\n",
        "            y = y.to(DEVICE).unsqueeze(0)\n",
        "\n",
        "            tgt_seq_len = y.shape[1]\n",
        "\n",
        "            tgt_mask = generate_square_subsequent_mask(tgt_seq_len)\n",
        "\n",
        "            out = model(x, y, None, tgt_mask, None, None)\n",
        "            # out = model(x, y)\n",
        "\n",
        "    tour = [int(i) for i in tour] + [0] # Append the starting node (that is hard-coded to 0)\n",
        "\n",
        "    return tour_length(G, tour)\n",
        "\n",
        "def gap(G, model = None, model_GA = None, random_seed = 42, device = 'cpu'):\n",
        "    \"\"\"\n",
        "    Compute the gap between the optimal solution on graph G and all the analyzed methods\n",
        "    \"\"\"\n",
        "    # Optimal value (hard-coded in the graph)\n",
        "    TSP = sum([G[i][j]['weight']*G[i][j]['tour'] for (i, j) in G.edges()]) # Optimal\n",
        "\n",
        "    # Gaps dictionary\n",
        "    gaps = {'greedy' : 0, 'random' : 0, 'transformer_tsp': 0, 'transformer_tsp_acc_grad': 0}\n",
        "    gaps['greedy'] = 100* (greedy_algorithm(G) -  TSP) / TSP\n",
        "    gaps['random'] = 100 * (random_tour(G, random_seed) - TSP) / TSP\n",
        "    if model is not None:\n",
        "        gaps['transformer_tsp'] = 100 * (transformer_tsp(G, model, DEVICE=device) - TSP) / TSP\n",
        "    else:\n",
        "        gaps['transformer_tsp'] = float('inf') # In case you just train with GA\n",
        "\n",
        "    if model_GA is not None:\n",
        "        gaps['transformer_tsp_acc_grad'] = 100 * (transformer_tsp(G, model_GA, DEVICE=device) - TSP) / TSP\n",
        "    else:\n",
        "        gaps['transformer_tsp_acc_grad'] = float('inf') # In case you just train without GA\n",
        "\n",
        "    return gaps"
      ],
      "metadata": {
        "id": "PO3vDQUrdTOm"
      },
      "execution_count": 2,
      "outputs": []
    },
    {
      "cell_type": "markdown",
      "source": [
        "## Dataset"
      ],
      "metadata": {
        "id": "JM6pbiHGdUKf"
      }
    },
    {
      "cell_type": "code",
      "execution_count": 3,
      "metadata": {
        "id": "C3licxx2EbRt",
        "colab": {
          "base_uri": "https://localhost:8080/"
        },
        "outputId": "c0d3022e-27fa-4e3b-8ddf-084a5c0e0c39"
      },
      "outputs": [
        {
          "output_type": "stream",
          "name": "stdout",
          "text": [
            "Single data item: (<networkx.classes.graph.Graph object at 0x7c329ca3bf90>, [0, 3, 14, 2, 9, 6, 19, 13, 12, 16, 7, 18, 8, 17, 5, 11, 10, 15, 1, 4, 0])\n",
            "Type of single data item: <class 'tuple'>\n",
            "\n",
            "Node attribute 'pos': {0: (0.6049077053425551, 0.5748590937018008), 1: (0.38474987528197846, 0.9428085200806016), 2: (0.6102491981278754, 0.3707527129445174), 3: (0.5497610140601452, 0.514788385568776), 4: (0.5941533303116413, 0.6544475361385552), 5: (0.06187381797691738, 0.433195284467101), 6: (0.7475717305758963, 0.3950876312718402), 7: (0.6548530739834322, 0.06254140180263457), 8: (0.2210796367473482, 0.2142238067774731), 9: (0.6696714621150585, 0.4364218673039507), 10: (0.3206284506117195, 0.7885615893113229), 11: (0.37760295594024584, 0.4963855605324464), 12: (0.8300002368321365, 0.3489482457969727), 13: (0.9983722301898076, 0.2725163812162502), 14: (0.5306200040273271, 0.4146737532387711), 15: (0.2540580284004623, 0.8878378722372976), 16: (0.7024553839343133, 0.2586205516051998), 17: (0.11129635562701035, 0.35987398782201374), 18: (0.33376928628552816, 0.1718375502602505), 19: (0.8952647398936215, 0.6299289412776933)}\n",
            "Edge attribute 'weight': {(0, 1): 0.4287846201876535, (0, 2): 0.20417626260418414, (0, 3): 0.08154537102129383, (0, 4): 0.08031174728403137, (0, 5): 0.5612080164024046, (0, 6): 0.2295012043541082, (0, 7): 0.514746498076055, (0, 8): 0.5266704818162102, (0, 9): 0.15283720045858457, (0, 10): 0.3556451198878696, (0, 11): 0.24046942531001395, (0, 12): 0.3189080728571583, (0, 13): 0.49621109228471955, (0, 14): 0.1765729477183786, (0, 15): 0.4701608359103749, (0, 16): 0.3309416339870591, (0, 17): 0.5383964713091507, (0, 18): 0.4857390315454929, (0, 19): 0.2955332394593224, (1, 2): 0.6148965694180403, (1, 3): 0.458726401538421, (1, 4): 0.35637320892343344, (1, 5): 0.6032864976885546, (1, 6): 0.6569915301709606, (1, 7): 0.9207746398930378, (1, 8): 0.746742011300412, (1, 9): 0.5810402333348532, (1, 10): 0.16704392462309525, (1, 11): 0.44648016447297073, (1, 12): 0.7422384454019971, (1, 13): 0.9087485603102635, (1, 14): 0.5479091406494869, (1, 15): 0.14178198392466582, (1, 16): 0.754354006043937, (1, 17): 0.6438862448532572, (1, 18): 0.7726546814458304, (1, 19): 0.5987646096934333, (2, 3): 0.15622130264510733, (2, 4): 0.2841510683911888, (2, 5): 0.5519190450546716, (2, 6): 0.13946205995874017, (2, 7): 0.3114220898670106, (2, 8): 0.4194690047798088, (2, 9): 0.08856321635783988, (2, 10): 0.5083743055689474, (2, 11): 0.2644009954540205, (2, 12): 0.2208301469437315, (2, 13): 0.4003621671541578, (2, 14): 0.09093880543328159, (2, 15): 0.6278926750270484, (2, 16): 0.14517438585231934, (2, 17): 0.49907142344556654, (2, 18): 0.34060003464189553, (2, 19): 0.3852352221449024, (3, 4): 0.14654472382192782, (3, 5): 0.4946628652419162, (3, 6): 0.2312084560472005, (3, 7): 0.46429696895897604, (3, 8): 0.4453880485781254, (3, 9): 0.14324743187115518, (3, 10): 0.357006300672558, (3, 11): 0.17313884874554414, (3, 12): 0.3256331892473202, (3, 13): 0.5098507108265369, (3, 14): 0.10192800337320708, (3, 15): 0.4760316956166869, (3, 16): 0.2982239590456468, (3, 17): 0.4650265877604502, (3, 18): 0.40529952122582097, (3, 19): 0.3641842557466924, (4, 5): 0.5764321626357953, (4, 6): 0.30133829128093664, (4, 7): 0.5950103618814667, (4, 8): 0.5770449832745134, (4, 9): 0.2307340037832632, (4, 10): 0.3046349275334078, (4, 11): 0.26810007977040523, (4, 12): 0.3859450475320259, (4, 13): 0.5561153892125273, (4, 14): 0.24804828262824546, (4, 15): 0.41247528818868645, (4, 16): 0.410375847856154, (4, 17): 0.5656186289094377, (4, 18): 0.5483723633197157, (4, 19): 0.30210799803116456, (5, 6): 0.6867560124051679, (5, 7): 0.6992915692243714, (5, 8): 0.27073049472112015, (5, 9): 0.6078062084716456, (5, 10): 0.43958977527759663, (5, 11): 0.32199052710954257, (5, 12): 0.7727326567888985, (5, 13): 0.9501826066747174, (5, 14): 0.46911196324102344, (5, 15): 0.4935936115373682, (5, 16): 0.6639435819391838, (5, 17): 0.08842284642269631, (5, 18): 0.3771405718250126, (5, 19): 0.8562970048150594, (6, 7): 0.3452299871310383, (6, 8): 0.5566916991250165, (6, 9): 0.08818713565270636, (6, 10): 0.5806051325658653, (6, 11): 0.38358592867555963, (6, 12): 0.09446322848406911, (6, 13): 0.27914978407080576, (6, 14): 0.2178340373451969, (6, 15): 0.6973941311815144, (6, 16): 0.1437315155664361, (6, 17): 0.6372490513538306, (6, 18): 0.4701840720104889, (6, 19): 0.2774232612572184, (7, 8): 0.45952904895181307, (7, 9): 0.37417400645996296, (7, 10): 0.7992567869828283, (7, 11): 0.5148673440983987, (7, 12): 0.33571626255030856, (7, 13): 0.4026101124667492, (7, 14): 0.37340467136695177, (7, 15): 0.9174698538239648, (7, 16): 0.20177465871599579, (7, 17): 0.6195648253244966, (7, 18): 0.33917612945209147, (7, 19): 0.6162194325540812, (8, 9): 0.500606236365931, (8, 10): 0.5829012393087726, (8, 11): 0.3226682580193532, (8, 12): 0.6236465117971378, (8, 13): 0.7794753363995585, (8, 14): 0.3687755686215689, (8, 15): 0.6744208504349039, (8, 16): 0.48341874284217323, (8, 17): 0.1823906358666875, (8, 18): 0.12039747445267121, (8, 19): 0.7920456502968736, (9, 10): 0.4958159010103946, (9, 11): 0.2981604547970567, (9, 12): 0.18263885255286078, (9, 13): 0.3672998819800728, (9, 14): 0.14074192147940914, (9, 15): 0.6136048694347368, (9, 16): 0.1807984883622037, (9, 17): 0.5635976733439557, (9, 18): 0.4275922503419513, (9, 19): 0.2972159394392491, (10, 11): 0.29767923348870867, (10, 12): 0.6728443418750315, (10, 13): 0.8518446381557372, (10, 14): 0.42882230173921154, (10, 15): 0.11952991870231995, (10, 16): 0.6531686692237917, (10, 17): 0.4770670662090856, (10, 18): 0.6168640222169508, (10, 19): 0.5961301720109755, (11, 12): 0.47581620562438115, (11, 13): 0.6599029483947126, (11, 14): 0.17346768130254947, (11, 15): 0.41048539737715684, (11, 16): 0.4025683785940153, (11, 17): 0.29925677077431195, (11, 18): 0.3274947351745373, (11, 19): 0.5346097241040995, (12, 13): 0.18490797189553923, (12, 14): 0.3065099771993463, (12, 15): 0.7887404243083697, (12, 16): 0.15629069658405714, (12, 17): 0.7187869230155136, (12, 18): 0.5268902682284917, (12, 19): 0.28846075399036875, (13, 14): 0.48887714561053647, (13, 15): 0.9657246855588165, (13, 16): 0.2962429306808471, (13, 17): 0.8913669046263939, (13, 18): 0.6721854655144677, (13, 19): 0.3719877587298442, (14, 15): 0.5480609545208327, (14, 16): 0.2321206572622659, (14, 17): 0.42288927202931514, (14, 18): 0.3126013860373729, (14, 19): 0.4234389913230374, (15, 16): 0.7726413301352619, (15, 17): 0.5469248197512611, (15, 18): 0.7204237265004912, (15, 19): 0.6911317266141075, (16, 17): 0.599767667597168, (16, 18): 0.3787620993736398, (16, 19): 0.41838423486864734, (17, 18): 0.2912935061526579, (17, 19): 0.8291779696877807, (18, 19): 0.7246549985661137}\n",
            "Edge attribute 'tour': {(0, 1): 0, (0, 2): 0, (0, 3): 1, (0, 4): 1, (0, 5): 0, (0, 6): 0, (0, 7): 0, (0, 8): 0, (0, 9): 0, (0, 10): 0, (0, 11): 0, (0, 12): 0, (0, 13): 0, (0, 14): 0, (0, 15): 0, (0, 16): 0, (0, 17): 0, (0, 18): 0, (0, 19): 0, (1, 2): 0, (1, 3): 0, (1, 4): 1, (1, 5): 0, (1, 6): 0, (1, 7): 0, (1, 8): 0, (1, 9): 0, (1, 10): 0, (1, 11): 0, (1, 12): 0, (1, 13): 0, (1, 14): 0, (1, 15): 1, (1, 16): 0, (1, 17): 0, (1, 18): 0, (1, 19): 0, (2, 3): 0, (2, 4): 0, (2, 5): 0, (2, 6): 0, (2, 7): 0, (2, 8): 0, (2, 9): 1, (2, 10): 0, (2, 11): 0, (2, 12): 0, (2, 13): 0, (2, 14): 1, (2, 15): 0, (2, 16): 0, (2, 17): 0, (2, 18): 0, (2, 19): 0, (3, 4): 0, (3, 5): 0, (3, 6): 0, (3, 7): 0, (3, 8): 0, (3, 9): 0, (3, 10): 0, (3, 11): 0, (3, 12): 0, (3, 13): 0, (3, 14): 1, (3, 15): 0, (3, 16): 0, (3, 17): 0, (3, 18): 0, (3, 19): 0, (4, 5): 0, (4, 6): 0, (4, 7): 0, (4, 8): 0, (4, 9): 0, (4, 10): 0, (4, 11): 0, (4, 12): 0, (4, 13): 0, (4, 14): 0, (4, 15): 0, (4, 16): 0, (4, 17): 0, (4, 18): 0, (4, 19): 0, (5, 6): 0, (5, 7): 0, (5, 8): 0, (5, 9): 0, (5, 10): 0, (5, 11): 1, (5, 12): 0, (5, 13): 0, (5, 14): 0, (5, 15): 0, (5, 16): 0, (5, 17): 1, (5, 18): 0, (5, 19): 0, (6, 7): 0, (6, 8): 0, (6, 9): 1, (6, 10): 0, (6, 11): 0, (6, 12): 0, (6, 13): 0, (6, 14): 0, (6, 15): 0, (6, 16): 0, (6, 17): 0, (6, 18): 0, (6, 19): 1, (7, 8): 0, (7, 9): 0, (7, 10): 0, (7, 11): 0, (7, 12): 0, (7, 13): 0, (7, 14): 0, (7, 15): 0, (7, 16): 1, (7, 17): 0, (7, 18): 1, (7, 19): 0, (8, 9): 0, (8, 10): 0, (8, 11): 0, (8, 12): 0, (8, 13): 0, (8, 14): 0, (8, 15): 0, (8, 16): 0, (8, 17): 1, (8, 18): 1, (8, 19): 0, (9, 10): 0, (9, 11): 0, (9, 12): 0, (9, 13): 0, (9, 14): 0, (9, 15): 0, (9, 16): 0, (9, 17): 0, (9, 18): 0, (9, 19): 0, (10, 11): 1, (10, 12): 0, (10, 13): 0, (10, 14): 0, (10, 15): 1, (10, 16): 0, (10, 17): 0, (10, 18): 0, (10, 19): 0, (11, 12): 0, (11, 13): 0, (11, 14): 0, (11, 15): 0, (11, 16): 0, (11, 17): 0, (11, 18): 0, (11, 19): 0, (12, 13): 1, (12, 14): 0, (12, 15): 0, (12, 16): 1, (12, 17): 0, (12, 18): 0, (12, 19): 0, (13, 14): 0, (13, 15): 0, (13, 16): 0, (13, 17): 0, (13, 18): 0, (13, 19): 1, (14, 15): 0, (14, 16): 0, (14, 17): 0, (14, 18): 0, (14, 19): 0, (15, 16): 0, (15, 17): 0, (15, 18): 0, (15, 19): 0, (16, 17): 0, (16, 18): 0, (16, 19): 0, (17, 18): 0, (17, 19): 0, (18, 19): 0}\n"
          ]
        }
      ],
      "source": [
        "# Load the dummy dataset for testing\n",
        "parent_dir = \"/content/drive/MyDrive/Deep/\"\n",
        "with open(parent_dir +'dummy_20_DLL_ass4.pkl', 'rb') as f:\n",
        "    dummy_data = pickle.load(f)\n",
        "\n",
        "# Get a single data item and explain its Python type\n",
        "single_data_item = dummy_data[0]\n",
        "print(\"Single data item:\", single_data_item)\n",
        "print(\"Type of single data item:\", type(single_data_item))\n",
        "print()\n",
        "\n",
        "# Describe the edge attributes 'tour' and 'weight', and the node attribute 'pos'\n",
        "graph, tour = single_data_item\n",
        "print(\"Node attribute 'pos':\", nx.get_node_attributes(graph, 'pos'))\n",
        "print(\"Edge attribute 'weight':\", nx.get_edge_attributes(graph, 'weight'))\n",
        "print(\"Edge attribute 'tour':\", nx.get_edge_attributes(graph, 'tour'))"
      ]
    },
    {
      "cell_type": "code",
      "source": [
        "# Load the real datasets for training, validation, and testing\n",
        "with open(parent_dir +'train_20_DLL_ass4.pkl', 'rb') as f:\n",
        "    train_data = pickle.load(f)\n",
        "\n",
        "with open(parent_dir +'valid_20_DLL_ass4.pkl', 'rb') as f:\n",
        "    valid_data = pickle.load(f)\n",
        "\n",
        "with open(parent_dir +'test_20_DLL_ass4.pkl', 'rb') as f:\n",
        "    test_data = pickle.load(f)"
      ],
      "metadata": {
        "id": "qKUZaEHJWNRg"
      },
      "execution_count": 4,
      "outputs": []
    },
    {
      "cell_type": "code",
      "execution_count": 5,
      "metadata": {
        "id": "AOVDbwUlEclR"
      },
      "outputs": [],
      "source": [
        "# Define the dataset class\n",
        "class TSPDataset(Dataset):\n",
        "    def __init__(self, data):\n",
        "        self.data = data\n",
        "\n",
        "    def __len__(self):\n",
        "        return len(self.data)\n",
        "\n",
        "    def __getitem__(self, idx):\n",
        "        graph, tour = self.data[idx]\n",
        "        pos = nx.get_node_attributes(graph, 'pos')\n",
        "        X = torch.tensor([pos[i] for i in range(len(pos))], dtype=torch.float32)\n",
        "\n",
        "        # Ensure the tour starts and ends with 0\n",
        "        if tour[0] != 0 or tour[-1] != 0:\n",
        "            tour = [0] + tour + [0]\n",
        "\n",
        "        y = torch.tensor(tour, dtype=torch.long)  # y is Long for CrossEntropyLoss\n",
        "        return X, y"
      ]
    },
    {
      "cell_type": "code",
      "execution_count": 6,
      "metadata": {
        "id": "-QgLNUjoEeM9"
      },
      "outputs": [],
      "source": [
        "# Create dataset objects for training, validation, and testing\n",
        "train_dataset = TSPDataset(train_data)\n",
        "valid_dataset = TSPDataset(valid_data)\n",
        "test_dataset = TSPDataset(test_data)\n",
        "\n",
        "# Set seed and device\n",
        "torch.manual_seed(0)\n",
        "DEVICE = torch.device('cuda' if torch.cuda.is_available() else 'mps' if torch.backends.mps.is_available() else 'cpu')\n",
        "\n",
        "# Create DataLoader objects for training, validation, and testing\n",
        "train_loader = DataLoader(train_dataset, batch_size=32, shuffle=True)\n",
        "valid_loader = DataLoader(valid_dataset, batch_size=32, shuffle=False)"
      ]
    },
    {
      "cell_type": "markdown",
      "source": [
        "## Model"
      ],
      "metadata": {
        "id": "rvEeLHlPIqR7"
      }
    },
    {
      "cell_type": "code",
      "execution_count": 7,
      "metadata": {
        "id": "iFR6afW3Ef1a"
      },
      "outputs": [],
      "source": [
        "class PositionalEncoding(nn.Module):\n",
        "    def __init__(self,emb_size: int, dropout: float, maxlen: int = 5000):\n",
        "        super(PositionalEncoding, self).__init__()\n",
        "\n",
        "        pos_embedding = torch.zeros((maxlen, emb_size))\n",
        "        pos = torch.arange(0, maxlen).reshape(maxlen, 1)\n",
        "        den = torch.exp(- torch.arange(0, emb_size, 2)* math.log(10000) / emb_size)\n",
        "\n",
        "        pos_embedding[:, 0::2] = torch.sin(pos * den)\n",
        "        pos_embedding[:, 1::2] = torch.cos(pos * den)\n",
        "        pos_embedding = pos_embedding.unsqueeze(-2)\n",
        "\n",
        "        self.dropout = nn.Dropout(dropout)\n",
        "        self.register_buffer('pos_embedding', pos_embedding)\n",
        "\n",
        "    def forward(self, token_embedding: Tensor):\n",
        "        return self.dropout(token_embedding + self.pos_embedding[:token_embedding.size(0), :])\n",
        "\n",
        "class TSPTransformer(nn.Module):\n",
        "    def __init__(self, n, num_encoder, num_decoder, de, dd, n_head, dropout, dim_feedforward=1024):\n",
        "        super().__init__()\n",
        "        # Encoder\n",
        "        self.linear1 = nn.Linear(2, de)\n",
        "        # Number of expected features in the input.\n",
        "        encoder_layer = nn.TransformerEncoderLayer(d_model=de, nhead=n_head, dim_feedforward=dim_feedforward, batch_first=True)\n",
        "        # Encoder layers\n",
        "        self.encoder = nn.TransformerEncoder(encoder_layer, num_layers=num_encoder)\n",
        "        self.linear2 = nn.Linear(de, dd)\n",
        "\n",
        "        # Decoder\n",
        "        self.embedding = nn.Embedding(n, dd)\n",
        "        self.posEncoding = PositionalEncoding(dd, dropout)\n",
        "        decoder_layer = nn.TransformerDecoderLayer(d_model=dd, nhead=n_head, dim_feedforward=dim_feedforward, batch_first=True)\n",
        "        self.decoder = nn.TransformerDecoder(decoder_layer, num_layers=num_decoder)\n",
        "        self.ffnn = nn.Linear(dd, n)\n",
        "\n",
        "\n",
        "    def forward(self, src: Tensor, trg: Tensor, src_mask: Tensor, tgt_mask: Tensor, src_padding_mask: Tensor, tgt_padding_mask: Tensor):\n",
        "        # Encoding\n",
        "        src = self.linear1(src)\n",
        "        src = self.encoder(src, mask=src_mask, src_key_padding_mask=src_padding_mask)\n",
        "        src = self.linear2(src)\n",
        "\n",
        "        # Decoding\n",
        "        trg = self.embedding(trg)\n",
        "        trg = self.posEncoding(trg)\n",
        "        output = self.decoder(trg, src, tgt_mask=tgt_mask, memory_mask=None,\n",
        "                            tgt_key_padding_mask=tgt_padding_mask,\n",
        "                            memory_key_padding_mask=src_padding_mask)\n",
        "        output = self.ffnn(output)\n",
        "        return output"
      ]
    },
    {
      "cell_type": "code",
      "source": [
        "def generate_square_subsequent_mask(sequence_length: int):\n",
        "    mask = (torch.triu(torch.ones((sequence_length, sequence_length), device=DEVICE)) == 1).transpose(0, 1)\n",
        "    mask = mask.float().masked_fill(mask == 0, float('-inf')).masked_fill(mask == 1, float(0.0))\n",
        "    return mask\n",
        "\n",
        "def create_mask(src, tgt, DEVICE):\n",
        "    src_seq_len = src.shape[1]\n",
        "    tgt_seq_len = tgt.shape[1]\n",
        "\n",
        "    tgt_mask = generate_square_subsequent_mask(tgt_seq_len)\n",
        "    src_mask = torch.zeros((src_seq_len, src_seq_len), device=DEVICE).type(torch.bool)\n",
        "\n",
        "    src_padding_mask = torch.zeros((src.shape[0], src_seq_len), device=DEVICE).bool()\n",
        "    tgt_padding_mask = torch.zeros((tgt.shape[0], tgt_seq_len), device=DEVICE).bool()\n",
        "\n",
        "    return src_mask, tgt_mask, src_padding_mask, tgt_padding_mask"
      ],
      "metadata": {
        "id": "RByrncmnbF0I"
      },
      "execution_count": 8,
      "outputs": []
    },
    {
      "cell_type": "code",
      "execution_count": 9,
      "metadata": {
        "id": "vDZn_rATEjMj"
      },
      "outputs": [],
      "source": [
        "n = 20 # Number of nodes\n",
        "enc = 6 # Numver of encoder layers\n",
        "dec = 6 # Number of decoder layers\n",
        "de = 128 # Size of input coordinates\n",
        "dd = 128 # Size of intermediate y\n",
        "head = 8 # Number of attention heads in the multi-head attention\n",
        "dropout = 0.3 # Dropout rate\n",
        "dim_feedforward=1024 # Size of the feedforward neural network layer\n",
        "\n",
        "TSPmodel = TSPTransformer(n, enc, dec, de, dd, head, dropout, dim_feedforward).to(DEVICE)"
      ]
    },
    {
      "cell_type": "markdown",
      "source": [
        "## Training"
      ],
      "metadata": {
        "id": "CpX-sGxXI6m_"
      }
    },
    {
      "cell_type": "markdown",
      "source": [
        "### Training WITHOUT gradient accumulation"
      ],
      "metadata": {
        "id": "AgKnBZhmsrZv"
      }
    },
    {
      "cell_type": "code",
      "execution_count": 10,
      "metadata": {
        "colab": {
          "base_uri": "https://localhost:8080/"
        },
        "id": "VFdNpQfoElgl",
        "outputId": "fce77d1f-08bc-48fe-90bf-9d7314e78474"
      },
      "outputs": [
        {
          "output_type": "stream",
          "name": "stdout",
          "text": [
            "Epoch: 3: Train loss: 2.019, Val loss: 2.002\n",
            "Epoch: 6: Train loss: 1.994, Val loss: 1.984\n",
            "Epoch: 9: Train loss: 1.986, Val loss: 1.984\n",
            "Reached ten minutes of training without overfitting at epoch 10\n",
            "Training time: 11.88 minutes\n",
            "The best model is obtained at epoch 10 with a training loss of 1.983850385238174 and evaluation loss of 1.9827826842665672\n"
          ]
        }
      ],
      "source": [
        "# Function for training a single epoch\n",
        "def train_epoch(model, optimizer, train_loader, loss_fn, DEVICE):\n",
        "    model.train()\n",
        "    losses = 0\n",
        "\n",
        "    for src, tgt in train_loader:\n",
        "        src = src.to(DEVICE)  # Node coordinates\n",
        "        tgt = tgt.to(DEVICE)  # Tour indices\n",
        "\n",
        "        tgt_input = tgt[:, :-1]  # Input to the decoder (shifted by one token)\n",
        "        tgt_out = tgt[:, 1:]  # Target for loss computation (shifted by one token)\n",
        "\n",
        "        optimizer.zero_grad()\n",
        "\n",
        "        # Generate masks for attention\n",
        "        src_mask, tgt_mask, src_padding_mask, tgt_padding_mask = create_mask(src, tgt_input, DEVICE)\n",
        "        # Forward pass\n",
        "        output = model(src, tgt_input, src_mask, tgt_mask, src_padding_mask, tgt_padding_mask)\n",
        "\n",
        "        loss = loss_fn(output.reshape(-1, output.shape[-1]), tgt_out.reshape(-1))\n",
        "        loss.backward()\n",
        "\n",
        "        # Gradient clipping\n",
        "        torch.nn.utils.clip_grad_norm_(model.parameters(), max_norm=1.0)\n",
        "\n",
        "        # Update weights\n",
        "        optimizer.step()\n",
        "        losses += loss.item()\n",
        "\n",
        "    return losses / len(train_loader)\n",
        "\n",
        "# Function for evaluation\n",
        "def evaluate(model, valid_loader, loss_fn, DEVICE, num_heads):\n",
        "    model.eval()\n",
        "    losses = 0\n",
        "\n",
        "    with torch.no_grad():\n",
        "        for src, tgt in valid_loader:\n",
        "            src = src.to(DEVICE)  # Node coordinates\n",
        "            tgt = tgt.to(DEVICE)  # Tour indices\n",
        "\n",
        "            tgt_input = tgt[:, :-1]  # Input to the decoder (shifted by one token)\n",
        "            tgt_out = tgt[:, 1:]  # Target for loss computation (shifted by one token)\n",
        "\n",
        "            # Generate masks for attention\n",
        "            src_mask, tgt_mask, src_padding_mask, tgt_padding_mask = create_mask(src, tgt_input, DEVICE)\n",
        "            # Forward pass\n",
        "            output = model(src, tgt_input, src_mask, tgt_mask, src_padding_mask, tgt_padding_mask)\n",
        "\n",
        "            loss = loss_fn(output.reshape(-1, output.shape[-1]), tgt_out.reshape(-1))\n",
        "            losses += loss.item()\n",
        "\n",
        "    avg_loss = losses / len(valid_loader)\n",
        "    return avg_loss\n",
        "\n",
        "\n",
        "warnings.filterwarnings(\"ignore\")\n",
        "\n",
        "# Hyperparameters\n",
        "loss_fn = torch.nn.CrossEntropyLoss()\n",
        "optimizer = torch.optim.AdamW(TSPmodel.parameters(), lr=0.0002, betas=(0.9, 0.98), eps=1e-9, weight_decay=0.01)\n",
        "\n",
        "# Training configuration\n",
        "n_epoch = 15\n",
        "train_loss_list = []\n",
        "val_loss_list = []\n",
        "counter = 0\n",
        "best_epoch = 0\n",
        "print_every = 3\n",
        "best_val_loss = float('inf')\n",
        "\n",
        "start_tot_time = timer()\n",
        "\n",
        "# Training loop\n",
        "for epoch in range(n_epoch):\n",
        "    # Train for one epoch\n",
        "    train_loss = train_epoch(TSPmodel, optimizer, train_loader, loss_fn, DEVICE)\n",
        "\n",
        "    # Evaluate on validation data\n",
        "    val_loss = evaluate(TSPmodel, valid_loader, loss_fn, DEVICE, head)\n",
        "\n",
        "    if best_val_loss < val_loss:\n",
        "        counter += 1\n",
        "        if counter == 5:\n",
        "            print(f'Overfitting at epoch {epoch+1}')\n",
        "            break\n",
        "    else:\n",
        "        counter = 0\n",
        "        best_val_loss = val_loss\n",
        "        best_epoch = epoch+1\n",
        "\n",
        "    train_loss_list.append(train_loss)\n",
        "    val_loss_list.append(val_loss)\n",
        "    end_tot_time = timer() - start_tot_time\n",
        "\n",
        "    if (epoch+1) % print_every == 0:\n",
        "        print(f\"Epoch: {epoch+1}: Train loss: {train_loss:.3f}, Val loss: {val_loss:.3f}\")\n",
        "\n",
        "    elif end_tot_time >= 600:\n",
        "        print(f'Reached ten minutes of training at epoch {epoch+1}')\n",
        "        break\n",
        "\n",
        "print(f'Training time: {end_tot_time/60:.2f} minutes')\n",
        "print(f\"The best model is obtained at epoch {best_epoch} with a training loss of {train_loss_list[best_epoch-1]} and evaluation loss of {val_loss_list[best_epoch-1]}\")"
      ]
    },
    {
      "cell_type": "code",
      "source": [
        "# Plot training and validation losses\n",
        "plt.plot(train_loss_list, label='Training Loss')\n",
        "plt.plot(val_loss_list, label='Validation Loss')\n",
        "plt.xlabel('Epoch')\n",
        "plt.ylabel('Loss')\n",
        "\n",
        "plt.title('Training and Validation Loss')\n",
        "plt.legend()\n",
        "plt.show()"
      ],
      "metadata": {
        "colab": {
          "base_uri": "https://localhost:8080/",
          "height": 472
        },
        "id": "i4udlqxscdHf",
        "outputId": "222edd80-dc82-4134-c4ed-1e280427775b"
      },
      "execution_count": 11,
      "outputs": [
        {
          "output_type": "display_data",
          "data": {
            "text/plain": [
              "<Figure size 640x480 with 1 Axes>"
            ],
            "image/png": "[encoded data removed]"
          },
          "metadata": {}
        }
      ]
    },
    {
      "cell_type": "markdown",
      "source": [
        "### Training WITH gradient accumulation"
      ],
      "metadata": {
        "id": "IFKrtXcvstMa"
      }
    },
    {
      "cell_type": "code",
      "execution_count": 12,
      "metadata": {
        "colab": {
          "base_uri": "https://localhost:8080/"
        },
        "id": "elEcX95MEos3",
        "outputId": "d594a2fb-5b59-4374-ba7b-496cb57ed564"
      },
      "outputs": [
        {
          "output_type": "stream",
          "name": "stdout",
          "text": [
            "Epoch: 3: Train loss: 2.038, Val loss: 2.004\n",
            "Epoch: 6: Train loss: 2.009, Val loss: 1.992\n",
            "Epoch: 9: Train loss: 1.997, Val loss: 1.985\n",
            "Reached ten minutes of training without overfitting at epoch 10\n",
            "Training time: 10.86 minutes\n",
            "The best model is obtained at epoch 9 with a training loss of 1.996690170549843 and evaluation loss of 1.9851356968283653\n"
          ]
        }
      ],
      "source": [
        "def train_epoch_acc(model, optimizer, trainloader, loss_fn, DEVICE, accum_iter=4):\n",
        "    model.train()\n",
        "    losses = 0\n",
        "    optimizer.zero_grad()\n",
        "\n",
        "    for batch_idx, (src, tgt) in enumerate(trainloader):\n",
        "        src = src.to(DEVICE)  # Node coordinates\n",
        "        tgt = tgt.to(DEVICE)  # Tour indices\n",
        "\n",
        "        tgt_input = tgt[:, :-1]  # Input to the decoder (shifted by one token)\n",
        "        tgt_out = tgt[:, 1:]  # Target for loss computation (shifted by one token)\n",
        "\n",
        "        # Generate masks for attention\n",
        "        src_mask, tgt_mask, src_padding_mask, tgt_padding_mask = create_mask(src, tgt_input, DEVICE)\n",
        "\n",
        "        # Forward pass\n",
        "        output = model(src, tgt_input, src_mask, tgt_mask, src_padding_mask, tgt_padding_mask)\n",
        "\n",
        "        # Compute the loss divided by accum_iter for gradient accumulation\n",
        "        loss = loss_fn(output.reshape(-1, output.shape[-1]), tgt_out.reshape(-1)) / accum_iter\n",
        "        loss.backward()\n",
        "\n",
        "        if (batch_idx + 1) % accum_iter == 0 or (batch_idx + 1 == len(trainloader)):\n",
        "            torch.nn.utils.clip_grad_norm_(model.parameters(), max_norm=1.0)\n",
        "            optimizer.step()\n",
        "            optimizer.zero_grad()\n",
        "\n",
        "        # Accumulate the loss for logging\n",
        "        losses += loss.item() * accum_iter\n",
        "\n",
        "    return losses / len(trainloader)\n",
        "\n",
        "modelACC = TSPTransformer(n, enc, dec, de, dd, head, dropout, dim_feedforward).to(DEVICE)\n",
        "\n",
        "warnings.filterwarnings(\"ignore\")\n",
        "\n",
        "# Hyperparameters\n",
        "loss_fn = torch.nn.CrossEntropyLoss()\n",
        "optimizer = torch.optim.AdamW(modelACC.parameters(), lr=0.0002, betas=(0.9, 0.98), eps=1e-9, weight_decay=0.01)\n",
        "\n",
        "# Training configuration\n",
        "n_epoch = 15\n",
        "train_loss_list = []\n",
        "val_loss_list = []\n",
        "counter = 0\n",
        "best_epoch = 0\n",
        "print_every = 3\n",
        "best_val_loss = float('inf')\n",
        "\n",
        "start_tot_time = timer()\n",
        "\n",
        "# Training loop\n",
        "for epoch in range(n_epoch):\n",
        "    # Train for one epoch\n",
        "    train_loss = train_epoch_acc(modelACC, optimizer, train_loader, loss_fn, DEVICE)\n",
        "\n",
        "    # Evaluate\n",
        "    val_loss = evaluate(modelACC, valid_loader, loss_fn, DEVICE, head)\n",
        "\n",
        "    if best_val_loss < val_loss:\n",
        "        counter += 1\n",
        "        if counter == 5:\n",
        "            print(f'Overfitting at epoch {epoch+1}')\n",
        "            break\n",
        "    else:\n",
        "        counter = 0\n",
        "        best_val_loss = val_loss\n",
        "        best_epoch = epoch+1\n",
        "\n",
        "    train_loss_list.append(train_loss)\n",
        "    val_loss_list.append(val_loss)\n",
        "\n",
        "    end_tot_time = timer() - start_tot_time\n",
        "\n",
        "    if (epoch+1) % print_every == 0:\n",
        "        print(f\"Epoch: {epoch+1}: Train loss: {train_loss:.3f}, Val loss: {val_loss:.3f}\")\n",
        "\n",
        "    elif end_tot_time >= 600:\n",
        "        print(f'Reached ten minutes of training at epoch {epoch+1}')\n",
        "        break\n",
        "\n",
        "print(f'Training time: {end_tot_time/60:.2f} minutes')\n",
        "print(f\"The best model is obtained at epoch {best_epoch} with a training loss of {train_loss_list[best_epoch-1]} and evaluation loss of {val_loss_list[best_epoch-1]}\")"
      ]
    },
    {
      "cell_type": "code",
      "source": [
        "# Plot training and validation losses\n",
        "plt.plot(train_loss_list, label='Training Loss')\n",
        "plt.plot(val_loss_list, label='Validation Loss')\n",
        "plt.xlabel('Epoch')\n",
        "plt.ylabel('Loss')\n",
        "\n",
        "plt.title('Training and Validation Loss with gradient accumulation')\n",
        "plt.legend()\n",
        "plt.show()"
      ],
      "metadata": {
        "colab": {
          "base_uri": "https://localhost:8080/",
          "height": 472
        },
        "id": "6bq1Zrt5cl4_",
        "outputId": "9e303272-cd94-498b-f425-a97281fe5076"
      },
      "execution_count": 13,
      "outputs": [
        {
          "output_type": "display_data",
          "data": {
            "text/plain": [
              "<Figure size 640x480 with 1 Axes>"
            ],
            "image/png": "[encoded data removed]"
          },
          "metadata": {}
        }
      ]
    },
    {
      "cell_type": "markdown",
      "source": [
        "## Testing"
      ],
      "metadata": {
        "id": "qG_-ggd5coLx"
      }
    },
    {
      "cell_type": "code",
      "source": [
        "# Get test data\n",
        "graph, tour = test_data[0]\n",
        "graph, tour\n",
        "\n",
        "# Lists for gaps\n",
        "gaps_random = []\n",
        "gaps_greedy = []\n",
        "gaps_model = []         # Standard\n",
        "gaps_model_ga = []      # Gradient accumulation\n",
        "\n",
        "for G, _ in test_data:\n",
        "    # Compute gaps\n",
        "    gaps = gap(G, TSPmodel, modelACC, device=DEVICE)\n",
        "\n",
        "    # Store the gaps\n",
        "    gaps_random.append(gaps['random'])\n",
        "    gaps_greedy.append(gaps['greedy'])\n",
        "    gaps_model.append(gaps['transformer_tsp'])\n",
        "    gaps_model_ga.append(gaps['transformer_tsp_acc_grad'])"
      ],
      "metadata": {
        "id": "0aBfjwnac2_l"
      },
      "execution_count": 14,
      "outputs": []
    },
    {
      "cell_type": "code",
      "source": [
        "# Plotting the results\n",
        "sns.set(style=\"whitegrid\")\n",
        "plt.figure(figsize=(12, 6))\n",
        "\n",
        "data = pd.DataFrame({\n",
        "    'Random Tour': gaps_random,\n",
        "    'Greedy Algorithm': gaps_greedy,\n",
        "    'Model': gaps_model,\n",
        "    'Model (GA)': gaps_model_ga\n",
        "})\n",
        "\n",
        "# Melt the DataFrame for boxplot\n",
        "data_melted = data.melt(var_name='Method', value_name='Gap')\n",
        "\n",
        "# Create boxplots\n",
        "sns.boxplot(x='Method', y='Gap', data=data_melted)\n",
        "\n",
        "# Add plot title and labels\n",
        "plt.title('Gap Distribution for Different TSP Solvers')\n",
        "plt.xlabel('Method')\n",
        "plt.ylabel('Gap (%)')\n",
        "\n",
        "# Show the plot\n",
        "plt.show()"
      ],
      "metadata": {
        "colab": {
          "base_uri": "https://localhost:8080/",
          "height": 573
        },
        "id": "wVHi9O6jc4KY",
        "outputId": "fb535fad-952e-4c01-8823-03359df4f6c9"
      },
      "execution_count": 15,
      "outputs": [
        {
          "output_type": "display_data",
          "data": {
            "text/plain": [
              "<Figure size 1200x600 with 1 Axes>"
            ],
            "image/png": "[encoded data removed]"
          },
          "metadata": {}
        }
      ]
    }
  ],
  "metadata": {
    "colab": {
      "provenance": [],
      "gpuType": "T4",
      "toc_visible": true
    },
    "kernelspec": {
      "display_name": "Python 3",
      "name": "python3"
    },
    "language_info": {
      "name": "python"
    },
    "accelerator": "GPU"
  },
  "nbformat": 4,
  "nbformat_minor": 0
}