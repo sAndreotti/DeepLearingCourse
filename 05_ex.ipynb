{
 "metadata": {
  "kernelspec": {
   "display_name": "Python 3 (ipykernel)",
   "name": "python3",
   "language": "python"
  },
  "language_info": {
   "name": "python",
   "version": "3.7.6",
   "mimetype": "text/x-python",
   "codemirror_mode": {
    "name": "ipython",
    "version": 3
   },
   "pygments_lexer": "ipython3",
   "nbconvert_exporter": "python",
   "file_extension": ".py"
  },
  "colab": {
   "provenance": [],
   "gpuType": "T4",
   "toc_visible": true
  },
  "accelerator": "GPU"
 },
 "nbformat_minor": 0,
 "nbformat": 4,
 "cells": [
  {
   "cell_type": "markdown",
   "source": [
    "# Task for Today  \n",
    "\n",
    "***\n",
    "\n",
    "## Legendary Pokémon Classification  \n",
    "\n",
    "Use a FeedForward Neural Network to predict if a given Pokémon is **legendary** or not, based on *Pokémon features*.\n",
    "\n",
    "\n",
    "<img src=\"https://wallpapers.com/images/hd/legendary-pokemon-pictures-7yo7x0f1l2b2tu0r.jpg\" width=\"800\" height=\"500\" alt=\"legendaries\">\n",
    "\n",
    "Data available at: https://github.com/Vaeliss/Pokemon_challenge/blob/main/pokemon.csv\n",
    "\n",
    "Download the `pokemon.csv` file and put it in the file section of Colab."
   ],
   "metadata": {
    "id": "ZzbFUbueF-1I"
   }
  },
  {
   "cell_type": "markdown",
   "source": [
    "# Challenge\n",
    "\n",
    "TAs want to battle!\n",
    "\n",
    "<img src=\"https://pokemongohub.net/wp-content/uploads/2023/06/grunts-1.jpg\" width=\"400\" height=\"300\" alt=\"TAs\">\n",
    "\n",
    "Rules of the challenge:\n",
    "\n",
    "- Gotta catch 'em all! ...But give priority to the legendaries.\n",
    "- F1-score is usually the measure of choice for imbalanced datasets; however in this case we particularly want to avoid not \"catching\" legendaries. They're so rare, you might not have any more chances to catch 'em if they flee...\n",
    "- In ML terms, we give recall more importance than precision for the task (check the whiteboard if you don't know their meaning).\n",
    "- F2-score (i.e., [F-$\\beta$-score](https://scikit-learn.org/stable/modules/generated/sklearn.metrics.fbeta_score.html) with $\\beta = 2$) is hence used as the main evaluation metric for your model.\n",
    "\n",
    "- **TAs achieved a F2-score of 0.80. Can you beat them?!**"
   ],
   "metadata": {
    "id": "xq0moBocV6gU"
   }
  },
  {
   "cell_type": "markdown",
   "source": [
    "# Imports and dataset"
   ],
   "metadata": {
    "id": "4u8Vl29CF-1J"
   }
  },
  {
   "cell_type": "code",
   "source": [
    "from xml.etree.ElementPath import xpath_tokenizer_re\n",
    "\n",
    "import numpy as np\n",
    "import pandas as pd\n",
    "import matplotlib.pyplot as plt\n",
    "import sklearn.metrics\n",
    "from click.core import batch\n",
    "\n",
    "from sklearn.preprocessing import LabelEncoder, StandardScaler\n",
    "from sklearn.model_selection import train_test_split\n",
    "\n",
    "import torch\n",
    "from torch import nn, dtype\n",
    "import torch.optim as optim"
   ],
   "metadata": {
    "_uuid": "d629ff2d2480ee46fbb7e2d37f6b5fab8052498a",
    "_cell_guid": "79c7e3d0-c299-4dcb-8224-4455121ee9b0",
    "execution": {
     "iopub.status.busy": "2023-10-10T14:53:17.491233Z",
     "iopub.execute_input": "2023-10-10T14:53:17.491581Z",
     "iopub.status.idle": "2023-10-10T14:53:26.820229Z",
     "shell.execute_reply.started": "2023-10-10T14:53:17.491549Z",
     "shell.execute_reply": "2023-10-10T14:53:26.818905Z"
    },
    "trusted": true,
    "id": "DQ8jq20NF-1K",
    "ExecuteTime": {
     "end_time": "2024-10-17T20:19:49.368252Z",
     "start_time": "2024-10-17T20:19:49.365640Z"
    }
   },
   "outputs": [],
   "execution_count": 3300
  },
  {
   "cell_type": "code",
   "source": [
    "_ = torch.manual_seed(42) # for a fair comparison, don't change the seed!"
   ],
   "metadata": {
    "id": "kYbH9SzNrbeP",
    "ExecuteTime": {
     "end_time": "2024-10-17T20:19:49.383336Z",
     "start_time": "2024-10-17T20:19:49.380593Z"
    }
   },
   "outputs": [],
   "execution_count": 3301
  },
  {
   "cell_type": "code",
   "source": "data = pd.read_csv('Datasets/pokemon.csv')",
   "metadata": {
    "execution": {
     "iopub.status.busy": "2023-10-09T10:03:59.333013Z",
     "iopub.execute_input": "2023-10-09T10:03:59.333403Z",
     "iopub.status.idle": "2023-10-09T10:03:59.370972Z",
     "shell.execute_reply.started": "2023-10-09T10:03:59.333344Z",
     "shell.execute_reply": "2023-10-09T10:03:59.369989Z"
    },
    "trusted": true,
    "id": "OkMbLcx_F-1L",
    "ExecuteTime": {
     "end_time": "2024-10-17T20:19:49.561173Z",
     "start_time": "2024-10-17T20:19:49.557929Z"
    }
   },
   "outputs": [],
   "execution_count": 3302
  },
  {
   "cell_type": "code",
   "source": [
    "data"
   ],
   "metadata": {
    "execution": {
     "iopub.status.busy": "2023-10-09T10:04:00.050779Z",
     "iopub.execute_input": "2023-10-09T10:04:00.051352Z",
     "iopub.status.idle": "2023-10-09T10:04:00.235069Z",
     "shell.execute_reply.started": "2023-10-09T10:04:00.051296Z",
     "shell.execute_reply": "2023-10-09T10:04:00.234085Z"
    },
    "trusted": true,
    "id": "1cIpYa1HF-1L",
    "ExecuteTime": {
     "end_time": "2024-10-17T20:19:49.712429Z",
     "start_time": "2024-10-17T20:19:49.707259Z"
    }
   },
   "outputs": [
    {
     "data": {
      "text/plain": [
       "      dexnum          name  generation     type1    type2  height  weight  \\\n",
       "0       1025     Pecharunt           9    Poison    Ghost     0.3     0.3   \n",
       "1       1024     Terapagos           9    Normal      NaN     0.2     6.5   \n",
       "2       1023    Iron Crown           9     Steel  Psychic     1.6   156.0   \n",
       "3       1022  Iron Boulder           9      Rock  Psychic     1.5   162.5   \n",
       "4       1021   Raging Bolt           9  Electric   Dragon     5.2   480.0   \n",
       "...      ...           ...         ...       ...      ...     ...     ...   \n",
       "1020       5    Charmeleon           1      Fire      NaN     1.1    19.0   \n",
       "1021       4    Charmander           1      Fire      NaN     0.6     8.5   \n",
       "1022       3      Venusaur           1     Grass   Poison     2.0   100.0   \n",
       "1023       2       Ivysaur           1     Grass   Poison     1.0    13.0   \n",
       "1024       1     Bulbasaur           1     Grass   Poison     0.7     6.9   \n",
       "\n",
       "       hp  attack  defense  sp_atk  sp_def  speed  total  legendary  \n",
       "0      88      88      160      88      88     88    600          1  \n",
       "1      90      65       85      65      85     60    450          1  \n",
       "2      90      72      100     122     108     98    590          0  \n",
       "3      90     120       80      68     108    124    590          0  \n",
       "4     125      73       91     137      89     75    590          0  \n",
       "...   ...     ...      ...     ...     ...    ...    ...        ...  \n",
       "1020   58      64       58      80      65     80    405          0  \n",
       "1021   39      52       43      60      50     65    309          0  \n",
       "1022   80      82       83     100     100     80    525          0  \n",
       "1023   60      62       63      80      80     60    405          0  \n",
       "1024   45      49       49      65      65     45    318          0  \n",
       "\n",
       "[1025 rows x 15 columns]"
      ],
      "text/html": [
       "<div>\n",
       "<style scoped>\n",
       "    .dataframe tbody tr th:only-of-type {\n",
       "        vertical-align: middle;\n",
       "    }\n",
       "\n",
       "    .dataframe tbody tr th {\n",
       "        vertical-align: top;\n",
       "    }\n",
       "\n",
       "    .dataframe thead th {\n",
       "        text-align: right;\n",
       "    }\n",
       "</style>\n",
       "<table border=\"1\" class=\"dataframe\">\n",
       "  <thead>\n",
       "    <tr style=\"text-align: right;\">\n",
       "      <th></th>\n",
       "      <th>dexnum</th>\n",
       "      <th>name</th>\n",
       "      <th>generation</th>\n",
       "      <th>type1</th>\n",
       "      <th>type2</th>\n",
       "      <th>height</th>\n",
       "      <th>weight</th>\n",
       "      <th>hp</th>\n",
       "      <th>attack</th>\n",
       "      <th>defense</th>\n",
       "      <th>sp_atk</th>\n",
       "      <th>sp_def</th>\n",
       "      <th>speed</th>\n",
       "      <th>total</th>\n",
       "      <th>legendary</th>\n",
       "    </tr>\n",
       "  </thead>\n",
       "  <tbody>\n",
       "    <tr>\n",
       "      <th>0</th>\n",
       "      <td>1025</td>\n",
       "      <td>Pecharunt</td>\n",
       "      <td>9</td>\n",
       "      <td>Poison</td>\n",
       "      <td>Ghost</td>\n",
       "      <td>0.3</td>\n",
       "      <td>0.3</td>\n",
       "      <td>88</td>\n",
       "      <td>88</td>\n",
       "      <td>160</td>\n",
       "      <td>88</td>\n",
       "      <td>88</td>\n",
       "      <td>88</td>\n",
       "      <td>600</td>\n",
       "      <td>1</td>\n",
       "    </tr>\n",
       "    <tr>\n",
       "      <th>1</th>\n",
       "      <td>1024</td>\n",
       "      <td>Terapagos</td>\n",
       "      <td>9</td>\n",
       "      <td>Normal</td>\n",
       "      <td>NaN</td>\n",
       "      <td>0.2</td>\n",
       "      <td>6.5</td>\n",
       "      <td>90</td>\n",
       "      <td>65</td>\n",
       "      <td>85</td>\n",
       "      <td>65</td>\n",
       "      <td>85</td>\n",
       "      <td>60</td>\n",
       "      <td>450</td>\n",
       "      <td>1</td>\n",
       "    </tr>\n",
       "    <tr>\n",
       "      <th>2</th>\n",
       "      <td>1023</td>\n",
       "      <td>Iron Crown</td>\n",
       "      <td>9</td>\n",
       "      <td>Steel</td>\n",
       "      <td>Psychic</td>\n",
       "      <td>1.6</td>\n",
       "      <td>156.0</td>\n",
       "      <td>90</td>\n",
       "      <td>72</td>\n",
       "      <td>100</td>\n",
       "      <td>122</td>\n",
       "      <td>108</td>\n",
       "      <td>98</td>\n",
       "      <td>590</td>\n",
       "      <td>0</td>\n",
       "    </tr>\n",
       "    <tr>\n",
       "      <th>3</th>\n",
       "      <td>1022</td>\n",
       "      <td>Iron Boulder</td>\n",
       "      <td>9</td>\n",
       "      <td>Rock</td>\n",
       "      <td>Psychic</td>\n",
       "      <td>1.5</td>\n",
       "      <td>162.5</td>\n",
       "      <td>90</td>\n",
       "      <td>120</td>\n",
       "      <td>80</td>\n",
       "      <td>68</td>\n",
       "      <td>108</td>\n",
       "      <td>124</td>\n",
       "      <td>590</td>\n",
       "      <td>0</td>\n",
       "    </tr>\n",
       "    <tr>\n",
       "      <th>4</th>\n",
       "      <td>1021</td>\n",
       "      <td>Raging Bolt</td>\n",
       "      <td>9</td>\n",
       "      <td>Electric</td>\n",
       "      <td>Dragon</td>\n",
       "      <td>5.2</td>\n",
       "      <td>480.0</td>\n",
       "      <td>125</td>\n",
       "      <td>73</td>\n",
       "      <td>91</td>\n",
       "      <td>137</td>\n",
       "      <td>89</td>\n",
       "      <td>75</td>\n",
       "      <td>590</td>\n",
       "      <td>0</td>\n",
       "    </tr>\n",
       "    <tr>\n",
       "      <th>...</th>\n",
       "      <td>...</td>\n",
       "      <td>...</td>\n",
       "      <td>...</td>\n",
       "      <td>...</td>\n",
       "      <td>...</td>\n",
       "      <td>...</td>\n",
       "      <td>...</td>\n",
       "      <td>...</td>\n",
       "      <td>...</td>\n",
       "      <td>...</td>\n",
       "      <td>...</td>\n",
       "      <td>...</td>\n",
       "      <td>...</td>\n",
       "      <td>...</td>\n",
       "      <td>...</td>\n",
       "    </tr>\n",
       "    <tr>\n",
       "      <th>1020</th>\n",
       "      <td>5</td>\n",
       "      <td>Charmeleon</td>\n",
       "      <td>1</td>\n",
       "      <td>Fire</td>\n",
       "      <td>NaN</td>\n",
       "      <td>1.1</td>\n",
       "      <td>19.0</td>\n",
       "      <td>58</td>\n",
       "      <td>64</td>\n",
       "      <td>58</td>\n",
       "      <td>80</td>\n",
       "      <td>65</td>\n",
       "      <td>80</td>\n",
       "      <td>405</td>\n",
       "      <td>0</td>\n",
       "    </tr>\n",
       "    <tr>\n",
       "      <th>1021</th>\n",
       "      <td>4</td>\n",
       "      <td>Charmander</td>\n",
       "      <td>1</td>\n",
       "      <td>Fire</td>\n",
       "      <td>NaN</td>\n",
       "      <td>0.6</td>\n",
       "      <td>8.5</td>\n",
       "      <td>39</td>\n",
       "      <td>52</td>\n",
       "      <td>43</td>\n",
       "      <td>60</td>\n",
       "      <td>50</td>\n",
       "      <td>65</td>\n",
       "      <td>309</td>\n",
       "      <td>0</td>\n",
       "    </tr>\n",
       "    <tr>\n",
       "      <th>1022</th>\n",
       "      <td>3</td>\n",
       "      <td>Venusaur</td>\n",
       "      <td>1</td>\n",
       "      <td>Grass</td>\n",
       "      <td>Poison</td>\n",
       "      <td>2.0</td>\n",
       "      <td>100.0</td>\n",
       "      <td>80</td>\n",
       "      <td>82</td>\n",
       "      <td>83</td>\n",
       "      <td>100</td>\n",
       "      <td>100</td>\n",
       "      <td>80</td>\n",
       "      <td>525</td>\n",
       "      <td>0</td>\n",
       "    </tr>\n",
       "    <tr>\n",
       "      <th>1023</th>\n",
       "      <td>2</td>\n",
       "      <td>Ivysaur</td>\n",
       "      <td>1</td>\n",
       "      <td>Grass</td>\n",
       "      <td>Poison</td>\n",
       "      <td>1.0</td>\n",
       "      <td>13.0</td>\n",
       "      <td>60</td>\n",
       "      <td>62</td>\n",
       "      <td>63</td>\n",
       "      <td>80</td>\n",
       "      <td>80</td>\n",
       "      <td>60</td>\n",
       "      <td>405</td>\n",
       "      <td>0</td>\n",
       "    </tr>\n",
       "    <tr>\n",
       "      <th>1024</th>\n",
       "      <td>1</td>\n",
       "      <td>Bulbasaur</td>\n",
       "      <td>1</td>\n",
       "      <td>Grass</td>\n",
       "      <td>Poison</td>\n",
       "      <td>0.7</td>\n",
       "      <td>6.9</td>\n",
       "      <td>45</td>\n",
       "      <td>49</td>\n",
       "      <td>49</td>\n",
       "      <td>65</td>\n",
       "      <td>65</td>\n",
       "      <td>45</td>\n",
       "      <td>318</td>\n",
       "      <td>0</td>\n",
       "    </tr>\n",
       "  </tbody>\n",
       "</table>\n",
       "<p>1025 rows × 15 columns</p>\n",
       "</div>"
      ]
     },
     "execution_count": 3303,
     "metadata": {},
     "output_type": "execute_result"
    }
   ],
   "execution_count": 3303
  },
  {
   "cell_type": "code",
   "source": [
    "data_raw = data.copy() # usually, if memory allows it, it's a good idea to keep a raw version of your data"
   ],
   "metadata": {
    "execution": {
     "iopub.status.busy": "2023-10-09T10:04:03.140438Z",
     "iopub.execute_input": "2023-10-09T10:04:03.140795Z",
     "iopub.status.idle": "2023-10-09T10:04:03.145967Z",
     "shell.execute_reply.started": "2023-10-09T10:04:03.140766Z",
     "shell.execute_reply": "2023-10-09T10:04:03.144877Z"
    },
    "trusted": true,
    "id": "4xuE8RS0F-1L",
    "ExecuteTime": {
     "end_time": "2024-10-17T20:19:49.872036Z",
     "start_time": "2024-10-17T20:19:49.870448Z"
    }
   },
   "outputs": [],
   "execution_count": 3304
  },
  {
   "cell_type": "markdown",
   "source": [
    "# Pre-processing / encoding"
   ],
   "metadata": {
    "id": "pW9qbuLEF-1L"
   }
  },
  {
   "cell_type": "code",
   "source": [
    "data.info()"
   ],
   "metadata": {
    "execution": {
     "iopub.status.busy": "2023-10-09T10:04:04.633636Z",
     "iopub.execute_input": "2023-10-09T10:04:04.634264Z",
     "iopub.status.idle": "2023-10-09T10:04:04.650997Z",
     "shell.execute_reply.started": "2023-10-09T10:04:04.634221Z",
     "shell.execute_reply": "2023-10-09T10:04:04.649508Z"
    },
    "trusted": true,
    "id": "otv7GlCxF-1L",
    "ExecuteTime": {
     "end_time": "2024-10-17T20:19:49.895695Z",
     "start_time": "2024-10-17T20:19:49.892106Z"
    }
   },
   "outputs": [
    {
     "name": "stdout",
     "output_type": "stream",
     "text": [
      "<class 'pandas.core.frame.DataFrame'>\n",
      "RangeIndex: 1025 entries, 0 to 1024\n",
      "Data columns (total 15 columns):\n",
      " #   Column      Non-Null Count  Dtype  \n",
      "---  ------      --------------  -----  \n",
      " 0   dexnum      1025 non-null   int64  \n",
      " 1   name        1025 non-null   object \n",
      " 2   generation  1025 non-null   int64  \n",
      " 3   type1       1025 non-null   object \n",
      " 4   type2       526 non-null    object \n",
      " 5   height      1025 non-null   float64\n",
      " 6   weight      1025 non-null   float64\n",
      " 7   hp          1025 non-null   int64  \n",
      " 8   attack      1025 non-null   int64  \n",
      " 9   defense     1025 non-null   int64  \n",
      " 10  sp_atk      1025 non-null   int64  \n",
      " 11  sp_def      1025 non-null   int64  \n",
      " 12  speed       1025 non-null   int64  \n",
      " 13  total       1025 non-null   int64  \n",
      " 14  legendary   1025 non-null   int64  \n",
      "dtypes: float64(2), int64(10), object(3)\n",
      "memory usage: 120.2+ KB\n"
     ]
    }
   ],
   "execution_count": 3305
  },
  {
   "cell_type": "code",
   "source": [
    "data.isna().sum()"
   ],
   "metadata": {
    "execution": {
     "iopub.status.busy": "2023-10-09T10:04:05.073162Z",
     "iopub.execute_input": "2023-10-09T10:04:05.073708Z",
     "iopub.status.idle": "2023-10-09T10:04:05.081791Z",
     "shell.execute_reply.started": "2023-10-09T10:04:05.073676Z",
     "shell.execute_reply": "2023-10-09T10:04:05.080673Z"
    },
    "trusted": true,
    "id": "RjZqyB6bF-1L",
    "ExecuteTime": {
     "end_time": "2024-10-17T20:19:49.938059Z",
     "start_time": "2024-10-17T20:19:49.935334Z"
    }
   },
   "outputs": [
    {
     "data": {
      "text/plain": [
       "dexnum          0\n",
       "name            0\n",
       "generation      0\n",
       "type1           0\n",
       "type2         499\n",
       "height          0\n",
       "weight          0\n",
       "hp              0\n",
       "attack          0\n",
       "defense         0\n",
       "sp_atk          0\n",
       "sp_def          0\n",
       "speed           0\n",
       "total           0\n",
       "legendary       0\n",
       "dtype: int64"
      ]
     },
     "execution_count": 3306,
     "metadata": {},
     "output_type": "execute_result"
    }
   ],
   "execution_count": 3306
  },
  {
   "cell_type": "code",
   "source": [
    "data = data.drop(['dexnum', 'name', 'type2'], axis=1)\n",
    "# dropping type 2 is actually a debeatable step, it may provide useful information\n",
    "# data = data.drop([\"#\", \"Name\"], axis=1)"
   ],
   "metadata": {
    "execution": {
     "iopub.status.busy": "2023-10-09T10:04:05.732052Z",
     "iopub.execute_input": "2023-10-09T10:04:05.732577Z",
     "iopub.status.idle": "2023-10-09T10:04:05.737607Z",
     "shell.execute_reply.started": "2023-10-09T10:04:05.732545Z",
     "shell.execute_reply": "2023-10-09T10:04:05.736726Z"
    },
    "trusted": true,
    "id": "4whGrOvSF-1L",
    "ExecuteTime": {
     "end_time": "2024-10-17T20:19:50.109211Z",
     "start_time": "2024-10-17T20:19:50.107655Z"
    }
   },
   "outputs": [],
   "execution_count": 3307
  },
  {
   "cell_type": "code",
   "source": [
    "data['legendary'] = data['legendary'].astype(int)\n",
    "data['generation'] = data['generation'].astype(str)"
   ],
   "metadata": {
    "execution": {
     "iopub.status.busy": "2023-10-09T10:04:17.132078Z",
     "iopub.execute_input": "2023-10-09T10:04:17.132717Z",
     "iopub.status.idle": "2023-10-09T10:04:17.137572Z",
     "shell.execute_reply.started": "2023-10-09T10:04:17.132680Z",
     "shell.execute_reply": "2023-10-09T10:04:17.136616Z"
    },
    "trusted": true,
    "id": "ZabDJRZaF-1M",
    "ExecuteTime": {
     "end_time": "2024-10-17T20:19:50.131214Z",
     "start_time": "2024-10-17T20:19:50.128948Z"
    }
   },
   "outputs": [],
   "execution_count": 3308
  },
  {
   "cell_type": "code",
   "source": [
    "data.dtypes"
   ],
   "metadata": {
    "execution": {
     "iopub.status.busy": "2023-10-09T10:04:25.424830Z",
     "iopub.execute_input": "2023-10-09T10:04:25.425522Z",
     "iopub.status.idle": "2023-10-09T10:04:25.433340Z",
     "shell.execute_reply.started": "2023-10-09T10:04:25.425473Z",
     "shell.execute_reply": "2023-10-09T10:04:25.432589Z"
    },
    "trusted": true,
    "id": "bqVbYkL3F-1M",
    "ExecuteTime": {
     "end_time": "2024-10-17T20:19:50.158624Z",
     "start_time": "2024-10-17T20:19:50.155564Z"
    }
   },
   "outputs": [
    {
     "data": {
      "text/plain": [
       "generation     object\n",
       "type1          object\n",
       "height        float64\n",
       "weight        float64\n",
       "hp              int64\n",
       "attack          int64\n",
       "defense         int64\n",
       "sp_atk          int64\n",
       "sp_def          int64\n",
       "speed           int64\n",
       "total           int64\n",
       "legendary       int64\n",
       "dtype: object"
      ]
     },
     "execution_count": 3309,
     "metadata": {},
     "output_type": "execute_result"
    }
   ],
   "execution_count": 3309
  },
  {
   "cell_type": "markdown",
   "source": [
    "Categorical variables are one-hot encoded"
   ],
   "metadata": {
    "id": "j4DN8agr8Wp_"
   }
  },
  {
   "cell_type": "code",
   "source": [
    "def onehot_encode(df, column, prefix):\n",
    "    df = df.copy()\n",
    "    dummies = pd.get_dummies(df[column], prefix=prefix)\n",
    "    df = pd.concat([df, dummies], axis=1)\n",
    "    df = df.drop(column, axis=1)\n",
    "    return df"
   ],
   "metadata": {
    "execution": {
     "iopub.status.busy": "2023-10-09T10:04:27.609285Z",
     "iopub.execute_input": "2023-10-09T10:04:27.609994Z",
     "iopub.status.idle": "2023-10-09T10:04:27.616135Z",
     "shell.execute_reply.started": "2023-10-09T10:04:27.609945Z",
     "shell.execute_reply": "2023-10-09T10:04:27.615476Z"
    },
    "trusted": true,
    "id": "FCvblzRqF-1M",
    "ExecuteTime": {
     "end_time": "2024-10-17T20:19:50.330819Z",
     "start_time": "2024-10-17T20:19:50.329247Z"
    }
   },
   "outputs": [],
   "execution_count": 3310
  },
  {
   "cell_type": "code",
   "source": [
    "data = onehot_encode(data, 'type1', 't')\n",
    "data = onehot_encode(data, 'generation', 'g')"
   ],
   "metadata": {
    "execution": {
     "iopub.status.busy": "2023-10-09T10:04:27.940418Z",
     "iopub.execute_input": "2023-10-09T10:04:27.941093Z",
     "iopub.status.idle": "2023-10-09T10:04:27.950841Z",
     "shell.execute_reply.started": "2023-10-09T10:04:27.941046Z",
     "shell.execute_reply": "2023-10-09T10:04:27.949833Z"
    },
    "trusted": true,
    "id": "IOOSfBXJF-1N",
    "ExecuteTime": {
     "end_time": "2024-10-17T20:19:50.352796Z",
     "start_time": "2024-10-17T20:19:50.349380Z"
    }
   },
   "outputs": [],
   "execution_count": 3311
  },
  {
   "cell_type": "code",
   "source": [
    "data.shape"
   ],
   "metadata": {
    "execution": {
     "iopub.status.busy": "2023-10-09T10:04:28.321000Z",
     "iopub.execute_input": "2023-10-09T10:04:28.321322Z",
     "iopub.status.idle": "2023-10-09T10:04:28.345828Z",
     "shell.execute_reply.started": "2023-10-09T10:04:28.321293Z",
     "shell.execute_reply": "2023-10-09T10:04:28.344806Z"
    },
    "trusted": true,
    "id": "lJmDYSiwF-1N",
    "ExecuteTime": {
     "end_time": "2024-10-17T20:19:50.372863Z",
     "start_time": "2024-10-17T20:19:50.370608Z"
    }
   },
   "outputs": [
    {
     "data": {
      "text/plain": [
       "(1025, 37)"
      ]
     },
     "execution_count": 3312,
     "metadata": {},
     "output_type": "execute_result"
    }
   ],
   "execution_count": 3312
  },
  {
   "cell_type": "markdown",
   "source": [
    "## Splitting and Scaling"
   ],
   "metadata": {
    "id": "30niefA6F-1N"
   }
  },
  {
   "cell_type": "code",
   "source": [
    "data.columns # note that only the first 9 features are continuous now"
   ],
   "metadata": {
    "id": "a9N2nv8O8iKT",
    "ExecuteTime": {
     "end_time": "2024-10-17T20:19:50.531366Z",
     "start_time": "2024-10-17T20:19:50.529268Z"
    }
   },
   "outputs": [
    {
     "data": {
      "text/plain": [
       "Index(['height', 'weight', 'hp', 'attack', 'defense', 'sp_atk', 'sp_def',\n",
       "       'speed', 'total', 'legendary', 't_Bug', 't_Dark', 't_Dragon',\n",
       "       't_Electric', 't_Fairy', 't_Fighting', 't_Fire', 't_Flying', 't_Ghost',\n",
       "       't_Grass', 't_Ground', 't_Ice', 't_Normal', 't_Poison', 't_Psychic',\n",
       "       't_Rock', 't_Steel', 't_Water', 'g_1', 'g_2', 'g_3', 'g_4', 'g_5',\n",
       "       'g_6', 'g_7', 'g_8', 'g_9'],\n",
       "      dtype='object')"
      ]
     },
     "execution_count": 3313,
     "metadata": {},
     "output_type": "execute_result"
    }
   ],
   "execution_count": 3313
  },
  {
   "cell_type": "code",
   "source": [
    "y = data['legendary']\n",
    "X = data.drop('legendary', axis=1)"
   ],
   "metadata": {
    "execution": {
     "iopub.status.busy": "2023-10-09T10:04:36.261494Z",
     "iopub.execute_input": "2023-10-09T10:04:36.262122Z",
     "iopub.status.idle": "2023-10-09T10:04:36.269171Z",
     "shell.execute_reply.started": "2023-10-09T10:04:36.262071Z",
     "shell.execute_reply": "2023-10-09T10:04:36.268451Z"
    },
    "trusted": true,
    "id": "KR-yDxraF-1N",
    "ExecuteTime": {
     "end_time": "2024-10-17T20:19:50.682468Z",
     "start_time": "2024-10-17T20:19:50.680308Z"
    }
   },
   "outputs": [],
   "execution_count": 3314
  },
  {
   "cell_type": "code",
   "source": [
    "scaler = StandardScaler()\n",
    "\n",
    "X_scaled = scaler.fit_transform(X.iloc[:,:9])\n",
    "X = np.concatenate((X_scaled, np.array(X.iloc[:,9:])), axis=1)"
   ],
   "metadata": {
    "execution": {
     "iopub.status.busy": "2023-10-09T10:04:37.531465Z",
     "iopub.execute_input": "2023-10-09T10:04:37.532104Z",
     "iopub.status.idle": "2023-10-09T10:04:37.542125Z",
     "shell.execute_reply.started": "2023-10-09T10:04:37.532051Z",
     "shell.execute_reply": "2023-10-09T10:04:37.541465Z"
    },
    "trusted": true,
    "id": "y14BFzZyF-1N",
    "ExecuteTime": {
     "end_time": "2024-10-17T20:19:50.832406Z",
     "start_time": "2024-10-17T20:19:50.829234Z"
    }
   },
   "outputs": [],
   "execution_count": 3315
  },
  {
   "cell_type": "code",
   "source": [
    "# keep the proportions for the split equal and specify a seed of 42, we want a fair fight!\n",
    "# Note: end split should be 0.60,0.20,0.20 for train,valid,test\n",
    "train_size = 0.6\n",
    "valid_size = 0.4\n",
    "test_size = 0.5\n",
    "\n",
    "X_train, X_test, y_train, y_test = train_test_split(X, y, train_size=train_size, test_size=valid_size, random_state=42, shuffle=True)\n",
    "X_valid, X_test, y_valid, y_test = train_test_split(X_test, y_test, train_size=test_size,test_size=test_size, random_state=42, shuffle=True)\n",
    "\n",
    "print('Train split:', 100*X_train.shape[0]/X.shape[0])\n",
    "print('Test split:', 100*X_test.shape[0]/X.shape[0])\n",
    "print('Valid split:', 100*X_valid.shape[0]/X.shape[0])"
   ],
   "metadata": {
    "execution": {
     "iopub.status.busy": "2023-10-09T10:04:40.091562Z",
     "iopub.execute_input": "2023-10-09T10:04:40.092048Z",
     "iopub.status.idle": "2023-10-09T10:04:40.097770Z",
     "shell.execute_reply.started": "2023-10-09T10:04:40.092017Z",
     "shell.execute_reply": "2023-10-09T10:04:40.096980Z"
    },
    "trusted": true,
    "id": "XyY5f5BxF-1N",
    "ExecuteTime": {
     "end_time": "2024-10-17T20:19:50.982979Z",
     "start_time": "2024-10-17T20:19:50.979363Z"
    }
   },
   "outputs": [
    {
     "name": "stdout",
     "output_type": "stream",
     "text": [
      "Train split: 60.0\n",
      "Test split: 20.0\n",
      "Valid split: 20.0\n"
     ]
    }
   ],
   "execution_count": 3316
  },
  {
   "cell_type": "markdown",
   "source": [
    "# Model definition"
   ],
   "metadata": {
    "id": "SeI7sgXRF-1N"
   }
  },
  {
   "cell_type": "code",
   "source": [
    "device = torch.device('cuda' if torch.cuda.is_available() else 'mps' if torch.backends.mps.is_available() else 'cpu')\n",
    "print(f\"Using {device} device\")"
   ],
   "metadata": {
    "execution": {
     "iopub.status.busy": "2023-10-09T10:04:41.289646Z",
     "iopub.execute_input": "2023-10-09T10:04:41.290174Z",
     "iopub.status.idle": "2023-10-09T10:04:41.296775Z",
     "shell.execute_reply.started": "2023-10-09T10:04:41.290135Z",
     "shell.execute_reply": "2023-10-09T10:04:41.295898Z"
    },
    "trusted": true,
    "id": "eYpu0pOIF-1N",
    "ExecuteTime": {
     "end_time": "2024-10-17T20:19:51.139542Z",
     "start_time": "2024-10-17T20:19:51.137603Z"
    }
   },
   "outputs": [
    {
     "name": "stdout",
     "output_type": "stream",
     "text": [
      "Using mps device\n"
     ]
    }
   ],
   "execution_count": 3317
  },
  {
   "cell_type": "markdown",
   "source": [
    "### Define your model :"
   ],
   "metadata": {
    "id": "V6VZp4IQ9IpG"
   }
  },
  {
   "cell_type": "markdown",
   "source": [
    "Choose yourself in the model:\n",
    "- number of hidden layers\n",
    "- number of neurons per layer (careful with input and output, these are not a choice)\n",
    "- activation functions\n",
    "- any other possible component among those seen so far in theory."
   ],
   "metadata": {
    "id": "hnt0qXDZ_29X"
   }
  },
  {
   "cell_type": "code",
   "source": [
    "class Model(nn.Module):\n",
    "    def __init__(self, input_size, d_1, d_2,output_size, p): \n",
    "        super(Model, self).__init__()\n",
    "        self.fc1 = nn.Linear(input_size, d_1)\n",
    "        self.BN = nn.BatchNorm1d(d_1, momentum=0.1)\n",
    "        self.fc2 = nn.Linear(d_1, d_2)\n",
    "        self.dropout = nn.Dropout(p)\n",
    "        self.fc4 = nn.Linear(d_2, output_size)\n",
    "\n",
    "             \n",
    "    def forward(self, x):\n",
    "        x = self.fc1(x)\n",
    "        x = nn.functional.relu(x)\n",
    "        x = self.BN(x)\n",
    "        x = self.fc2(x)\n",
    "        x = nn.functional.relu(x)\n",
    "        x = self.dropout(x)\n",
    "        x = self.fc4(x)\n",
    "        return x\n",
    "    "
   ],
   "metadata": {
    "execution": {
     "iopub.status.busy": "2023-10-09T10:04:42.309954Z",
     "iopub.execute_input": "2023-10-09T10:04:42.310280Z",
     "iopub.status.idle": "2023-10-09T10:04:42.317352Z",
     "shell.execute_reply.started": "2023-10-09T10:04:42.310252Z",
     "shell.execute_reply": "2023-10-09T10:04:42.316057Z"
    },
    "trusted": true,
    "id": "2x2t4rEtF-1N",
    "ExecuteTime": {
     "end_time": "2024-10-17T20:19:51.291156Z",
     "start_time": "2024-10-17T20:19:51.288965Z"
    }
   },
   "outputs": [],
   "execution_count": 3318
  },
  {
   "cell_type": "markdown",
   "source": [
    "Instantiate your model and print it out"
   ],
   "metadata": {
    "id": "_QhXrIWerKfU"
   }
  },
  {
   "cell_type": "code",
   "source": [
    "# Hyperparameters\n",
    "d_1 = 18\n",
    "d_2 = 10\n",
    "model = Model(36, d_1, d_2, 1, p=0.35)\n",
    "\n",
    "print(model)"
   ],
   "metadata": {
    "execution": {
     "iopub.status.busy": "2023-10-09T10:04:49.934535Z",
     "iopub.execute_input": "2023-10-09T10:04:49.934880Z",
     "iopub.status.idle": "2023-10-09T10:04:49.962352Z",
     "shell.execute_reply.started": "2023-10-09T10:04:49.934850Z",
     "shell.execute_reply": "2023-10-09T10:04:49.961502Z"
    },
    "trusted": true,
    "id": "E9ivUgk_F-1N",
    "ExecuteTime": {
     "end_time": "2024-10-17T20:19:51.443685Z",
     "start_time": "2024-10-17T20:19:51.441366Z"
    }
   },
   "outputs": [
    {
     "name": "stdout",
     "output_type": "stream",
     "text": [
      "Model(\n",
      "  (fc1): Linear(in_features=36, out_features=18, bias=True)\n",
      "  (BN): BatchNorm1d(18, eps=1e-05, momentum=0.1, affine=True, track_running_stats=True)\n",
      "  (fc2): Linear(in_features=18, out_features=10, bias=True)\n",
      "  (dropout): Dropout(p=0.35, inplace=False)\n",
      "  (fc4): Linear(in_features=10, out_features=1, bias=True)\n",
      ")\n"
     ]
    }
   ],
   "execution_count": 3319
  },
  {
   "cell_type": "markdown",
   "source": [
    "### Hyperparameters:"
   ],
   "metadata": {
    "id": "sXCiwbQd_T-2"
   }
  },
  {
   "cell_type": "markdown",
   "source": [
    "Choose carefully your:\n",
    "- learning rate (this is usually the most important hyperparameter to get right, but some optimizers are more forgiving than others)\n",
    "- batch size\n",
    "- number of epochs.\n",
    "- other hyperparameters that you might need"
   ],
   "metadata": {
    "id": "L-1fTWhB_9HB"
   }
  },
  {
   "cell_type": "code",
   "source": [
    "# Hyperparameter! - commented are the bests\n",
    "learning_rate = 0.0023 #0.0023\n",
    "batch_size = 64 #64\n",
    "epochs = 200 #200\n",
    "\n",
    "l1 = 0.0015 #0.0015\n",
    "l2 = 0.00032 #0.00032\n",
    "# 0.8252, momentum 0.1, p 0.35"
   ],
   "metadata": {
    "execution": {
     "iopub.status.busy": "2023-10-09T10:04:57.405999Z",
     "iopub.execute_input": "2023-10-09T10:04:57.406348Z",
     "iopub.status.idle": "2023-10-09T10:04:57.410729Z",
     "shell.execute_reply.started": "2023-10-09T10:04:57.406319Z",
     "shell.execute_reply": "2023-10-09T10:04:57.409643Z"
    },
    "trusted": true,
    "id": "GFumcDhCF-1N",
    "ExecuteTime": {
     "end_time": "2024-10-17T20:19:51.592577Z",
     "start_time": "2024-10-17T20:19:51.590821Z"
    }
   },
   "outputs": [],
   "execution_count": 3320
  },
  {
   "cell_type": "markdown",
   "source": [
    "### Loss function and optimizer:"
   ],
   "metadata": {
    "id": "M9LK0StY_kyS"
   }
  },
  {
   "cell_type": "markdown",
   "source": [
    "- What's the appropriate loss function for the task?\n",
    "- Decide which optimizer you want to use ([Documentation](https://pytorch.org/docs/stable/optim.html))"
   ],
   "metadata": {
    "id": "KvHQnWrmABgx"
   }
  },
  {
   "cell_type": "code",
   "source": [
    "optimizer = optim.Adam(model.parameters(), lr=learning_rate, weight_decay=l2)\n",
    "loss_fn = nn.BCEWithLogitsLoss()"
   ],
   "metadata": {
    "execution": {
     "iopub.status.busy": "2023-10-09T10:04:59.179191Z",
     "iopub.execute_input": "2023-10-09T10:04:59.179553Z",
     "iopub.status.idle": "2023-10-09T10:04:59.185130Z",
     "shell.execute_reply.started": "2023-10-09T10:04:59.179521Z",
     "shell.execute_reply": "2023-10-09T10:04:59.183865Z"
    },
    "trusted": true,
    "id": "hFYvvA8GF-1N",
    "ExecuteTime": {
     "end_time": "2024-10-17T20:19:51.739937Z",
     "start_time": "2024-10-17T20:19:51.737948Z"
    }
   },
   "outputs": [],
   "execution_count": 3321
  },
  {
   "cell_type": "markdown",
   "source": [
    "Define your TensorDatasets and DataLoaders; remember to use the appropriate dtype for your tensors."
   ],
   "metadata": {
    "id": "ra1bhn_A_tTj"
   }
  },
  {
   "cell_type": "code",
   "source": [
    "from torch.utils.data import TensorDataset, DataLoader\n",
    "\n",
    "dataset_train = TensorDataset(torch.from_numpy(X_train).float(), torch.from_numpy(y_train.to_numpy()).float())\n",
    "dataset_test = TensorDataset(torch.from_numpy(X_test).float(), torch.tensor(y_test.to_numpy()).float())\n",
    "dataset_valid = TensorDataset(torch.from_numpy(X_valid).float(), torch.tensor(y_valid.to_numpy()).float())\n",
    "\n",
    "trainloader = DataLoader(dataset_train, batch_size=batch_size, shuffle=True)\n",
    "validloader = DataLoader(dataset_valid, batch_size=len(dataset_valid))\n",
    "testloader = DataLoader(dataset_test, batch_size=len(dataset_test))"
   ],
   "metadata": {
    "execution": {
     "iopub.status.busy": "2023-10-09T10:12:27.545708Z",
     "iopub.execute_input": "2023-10-09T10:12:27.546392Z",
     "iopub.status.idle": "2023-10-09T10:12:27.555392Z",
     "shell.execute_reply.started": "2023-10-09T10:12:27.546321Z",
     "shell.execute_reply": "2023-10-09T10:12:27.554394Z"
    },
    "trusted": true,
    "id": "LVpU6mGsF-1O",
    "ExecuteTime": {
     "end_time": "2024-10-17T20:19:51.885345Z",
     "start_time": "2024-10-17T20:19:51.882883Z"
    }
   },
   "outputs": [],
   "execution_count": 3322
  },
  {
   "cell_type": "code",
   "source": [
    "# Keep track of training and validation losses during training\n",
    "train_loss_list = []\n",
    "valid_loss_list = []\n",
    "\n",
    "# Lists for performance report\n",
    "all_predicted = []\n",
    "all_targeted = []\n",
    "\n",
    "print(\"We have\", len(trainloader), \"items for training and\", len(validloader), \"items for validation\", len(testloader), \"items for test\")"
   ],
   "metadata": {
    "id": "ceHoIeQst3mA",
    "ExecuteTime": {
     "end_time": "2024-10-17T20:19:52.031821Z",
     "start_time": "2024-10-17T20:19:52.029847Z"
    }
   },
   "outputs": [
    {
     "name": "stdout",
     "output_type": "stream",
     "text": [
      "We have 10 items for training and 1 items for validation 1 items for test\n"
     ]
    }
   ],
   "execution_count": 3323
  },
  {
   "cell_type": "markdown",
   "source": [
    "# Training"
   ],
   "metadata": {
    "id": "cKeqhHEiOs-6"
   }
  },
  {
   "cell_type": "markdown",
   "source": [
    "Implement your training and evaluation (for the validation set) loops"
   ],
   "metadata": {
    "id": "2KUEZoR_O2ra"
   }
  },
  {
   "cell_type": "code",
   "source": [
    "# Put model into device\n",
    "model.to(device)\n",
    "\n",
    "for epoch in range(epochs):\n",
    "    for data, target in trainloader:\n",
    "        # Set the model in training mode\n",
    "        model.train()\n",
    "        \n",
    "        # Get and flat data\n",
    "        data, target = data.to(device), target.to(device)\n",
    "        data = data.reshape(-1, 36)\n",
    "        \n",
    "        # Set the gradient to 0\n",
    "        optimizer.zero_grad()\n",
    "        \n",
    "        # Make a prediction\n",
    "        output = model(data).squeeze(1)\n",
    "        # Compute the loss function\n",
    "        loss = loss_fn(output, target)\n",
    "        \n",
    "        # l1 normalization\n",
    "        l1_norm = sum(p.abs().sum() for p in model.parameters())\n",
    "        loss += l1 * l1_norm\n",
    "        \n",
    "        # Backpropagation\n",
    "        loss.backward()\n",
    "        \n",
    "        # Update parameters\n",
    "        optimizer.step()\n",
    "        \n",
    "    # Take loss value\n",
    "    train_loss = loss.item()\n",
    "    train_loss_list.append(train_loss)\n",
    "    \n",
    "    # At the end of every epoch, check the validation loss value\n",
    "    with torch.no_grad():\n",
    "        model.eval()\n",
    "        for data, target in validloader: # Just one batch\n",
    "            # Get and flat data\n",
    "            data, target = data.to(device), target.to(device)\n",
    "            data = data.reshape(-1,36)\n",
    "            \n",
    "            # Prediction\n",
    "            output = model(data).squeeze(1)\n",
    "            \n",
    "            # Compute the loss function\n",
    "            validation_loss = loss_fn(output, target).item()\n",
    "            valid_loss_list.append(validation_loss)\n",
    "            \n",
    "            #print(f\"Epoch {epoch + 1}: Train loss: {round(train_loss, 4)}, Validation loss {round(validation_loss, 4)}\")\n",
    "            \n",
    "# Compute test set\n",
    "with torch.no_grad():\n",
    "    n_correct = 0\n",
    "    n_samples = 0\n",
    "    for data, target in testloader:\n",
    "        # Get and flat data\n",
    "        data, target = data.to(device), target.to(device)\n",
    "        data = data.reshape(-1,36)\n",
    "        \n",
    "        # Prediction\n",
    "        outputs = model(data)\n",
    "        \n",
    "        # Cast predicted into 0 or 1\n",
    "        predicted = (outputs > 0).float()\n",
    "        \n",
    "        # Put predicted into lists for plots\n",
    "        all_predicted.extend(predicted.cpu().numpy())\n",
    "        all_targeted.extend(target.cpu().numpy())\n"
   ],
   "metadata": {
    "trusted": true,
    "id": "EqK5jG1NF-1O",
    "ExecuteTime": {
     "end_time": "2024-10-17T20:20:00.395247Z",
     "start_time": "2024-10-17T20:19:52.180647Z"
    }
   },
   "outputs": [],
   "execution_count": 3324
  },
  {
   "cell_type": "markdown",
   "source": [
    "# Results"
   ],
   "metadata": {
    "id": "w2u6ELJpF-1O"
   }
  },
  {
   "cell_type": "markdown",
   "source": [
    "### Plotting"
   ],
   "metadata": {
    "id": "lTAGxV5bMA4b"
   }
  },
  {
   "cell_type": "markdown",
   "source": [
    "Plot out the training and validation losses over the epochs"
   ],
   "metadata": {
    "id": "E5KnF__4LrGK"
   }
  },
  {
   "cell_type": "code",
   "source": [
    "plt.plot( train_loss_list , label='train')\n",
    "plt.plot( valid_loss_list , label='valid')\n",
    "plt.legend(loc=\"best\")\n",
    "plt.grid(True)\n",
    "plt.show()\n",
    "\n",
    "# Spikes are caused by batch size, less size equal more spikes"
   ],
   "metadata": {
    "id": "t5ytQiecNIOC",
    "ExecuteTime": {
     "end_time": "2024-10-17T20:20:01.458763Z",
     "start_time": "2024-10-17T20:20:01.410810Z"
    }
   },
   "outputs": [
    {
     "data": {
      "text/plain": [
       "<Figure size 640x480 with 1 Axes>"
      ],
      "image/png": "[encoded data removed]"
     },
     "metadata": {},
     "output_type": "display_data"
    }
   ],
   "execution_count": 3325
  },
  {
   "cell_type": "markdown",
   "source": [
    "### Metrics"
   ],
   "metadata": {
    "id": "fPs9CwgJMLDq"
   }
  },
  {
   "cell_type": "markdown",
   "source": [
    "Print out appropriate metrics for the task"
   ],
   "metadata": {
    "id": "kAHRX5PgMOoZ"
   }
  },
  {
   "metadata": {
    "id": "0K48qnVJ0b3s",
    "ExecuteTime": {
     "end_time": "2024-10-17T20:20:01.643674Z",
     "start_time": "2024-10-17T20:20:01.636403Z"
    }
   },
   "cell_type": "code",
   "source": [
    "from sklearn.metrics import accuracy_score, confusion_matrix, fbeta_score, classification_report\n",
    "\n",
    "# Calculate accuracy\n",
    "accuracy = accuracy_score(all_targeted, all_predicted)\n",
    "print(\"Accuracy:\", round(accuracy, 4))\n",
    "\n",
    "# Calculate confusion matrix\n",
    "cm = confusion_matrix(all_targeted, all_predicted)\n",
    "print(\"Confusion Matrix:\\n\", cm)\n",
    "\n",
    "# Calculate F-beta score (e.g., F1-score)\n",
    "f1_score = fbeta_score(all_targeted, all_predicted, beta=2)\n",
    "print(\"F2-score:\", round(f1_score, 4))\n",
    "\n",
    "# Print classification report\n",
    "report = classification_report(all_targeted, all_predicted)\n",
    "print(\"Classification Report:\\n\", report)"
   ],
   "outputs": [
    {
     "name": "stdout",
     "output_type": "stream",
     "text": [
      "Accuracy: 0.9561\n",
      "Confusion Matrix:\n",
      " [[179   6]\n",
      " [  3  17]]\n",
      "F2-score: 0.8252\n",
      "Classification Report:\n",
      "               precision    recall  f1-score   support\n",
      "\n",
      "         0.0       0.98      0.97      0.98       185\n",
      "         1.0       0.74      0.85      0.79        20\n",
      "\n",
      "    accuracy                           0.96       205\n",
      "   macro avg       0.86      0.91      0.88       205\n",
      "weighted avg       0.96      0.96      0.96       205\n",
      "\n"
     ]
    }
   ],
   "execution_count": 3326
  },
  {
   "cell_type": "code",
   "source": [
    "# Count wrong predictions\n",
    "number_of_wrong_predictions = len(all_targeted) - int(accuracy * len(all_targeted))\n",
    "print(f'Number of wrong predictions: {number_of_wrong_predictions}')"
   ],
   "metadata": {
    "id": "tc8Ffd5nC5cM",
    "ExecuteTime": {
     "end_time": "2024-10-17T20:20:02.006978Z",
     "start_time": "2024-10-17T20:20:01.998494Z"
    }
   },
   "outputs": [
    {
     "name": "stdout",
     "output_type": "stream",
     "text": [
      "Number of wrong predictions: 9\n"
     ]
    }
   ],
   "execution_count": 3327
  },
  {
   "cell_type": "markdown",
   "source": [
    "  Did you manage to catch them all?"
   ],
   "metadata": {
    "id": "3VpmU6TtKVYy"
   }
  },
  {
   "cell_type": "markdown",
   "source": [
    "______________________________________________________________________________\n",
    "\n",
    "This notebook is largely inspired (with some improvements and updates) by a video featured on [Data Every Day](https://www.youtube.com/watch?v=3Fr1npNxkJk)."
   ],
   "metadata": {
    "id": "_gt2ycYdqGk-"
   }
  }
 ]
}
