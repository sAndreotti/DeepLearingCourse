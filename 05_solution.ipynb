{
 "metadata": {
  "kernelspec": {
   "display_name": "Python 3 (ipykernel)",
   "name": "python3",
   "language": "python"
  },
  "language_info": {
   "name": "python",
   "version": "3.7.6",
   "mimetype": "text/x-python",
   "codemirror_mode": {
    "name": "ipython",
    "version": 3
   },
   "pygments_lexer": "ipython3",
   "nbconvert_exporter": "python",
   "file_extension": ".py"
  },
  "colab": {
   "provenance": [],
   "gpuType": "T4"
  },
  "accelerator": "GPU"
 },
 "nbformat_minor": 0,
 "nbformat": 4,
 "cells": [
  {
   "cell_type": "markdown",
   "source": [
    "# Task for Today  \n",
    "\n",
    "***\n",
    "\n",
    "## Legendary Pokémon Classification  \n",
    "\n",
    "Use a FeedForward Neural Network to predict if a given Pokémon is **legendary** or not, based on *Pokémon features*.\n",
    "\n",
    "\n",
    "<img src=\"https://wallpapers.com/images/hd/legendary-pokemon-pictures-7yo7x0f1l2b2tu0r.jpg\" width=\"800\" height=\"500\" alt=\"legendaries\">\n",
    "\n",
    "Data available at: https://github.com/Vaeliss/Pokemon_challenge/blob/main/pokemon.csv\n",
    "\n",
    "Download the `pokemon.csv` file and put it in the file section of Colab."
   ],
   "metadata": {
    "id": "ZzbFUbueF-1I"
   }
  },
  {
   "cell_type": "markdown",
   "source": [
    "# Challenge\n",
    "\n",
    "TAs want to battle!\n",
    "\n",
    "<img src=\"https://pokemongohub.net/wp-content/uploads/2023/06/grunts-1.jpg\" width=\"400\" height=\"300\" alt=\"TAs\">\n",
    "\n",
    "Rules of the challenge:\n",
    "\n",
    "- Gotta catch 'em all! ...But give priority to the legendaries.\n",
    "- F1-score is usually the measure of choice for imbalanced datasets; however in this case we particularly want to avoid not \"catching\" legendaries. They're so rare, you might not have any more chances to catch 'em if they flee...\n",
    "- In ML terms, we give recall more importance than precision for the task (check the whiteboard if you don't know their meaning).\n",
    "- F2-score (i.e., [F-$\\beta$-score](https://scikit-learn.org/stable/modules/generated/sklearn.metrics.fbeta_score.html) with $\\beta = 2$) is hence used as the main evaluation metric for your model.\n",
    "\n",
    "- **TAs achieved a F2-score of 0.80. Can you beat them?!**"
   ],
   "metadata": {
    "id": "xq0moBocV6gU"
   }
  },
  {
   "cell_type": "markdown",
   "source": [
    "# Imports and dataset"
   ],
   "metadata": {
    "id": "4u8Vl29CF-1J"
   }
  },
  {
   "cell_type": "code",
   "source": [
    "import numpy as np\n",
    "import pandas as pd\n",
    "import matplotlib.pyplot as plt\n",
    "\n",
    "from sklearn.preprocessing import LabelEncoder, StandardScaler\n",
    "from sklearn.model_selection import train_test_split\n",
    "\n",
    "import torch\n",
    "from torch import nn\n",
    "import torch.optim as optim"
   ],
   "metadata": {
    "_uuid": "d629ff2d2480ee46fbb7e2d37f6b5fab8052498a",
    "_cell_guid": "79c7e3d0-c299-4dcb-8224-4455121ee9b0",
    "execution": {
     "iopub.status.busy": "2023-10-10T14:53:17.491233Z",
     "iopub.execute_input": "2023-10-10T14:53:17.491581Z",
     "iopub.status.idle": "2023-10-10T14:53:26.820229Z",
     "shell.execute_reply.started": "2023-10-10T14:53:17.491549Z",
     "shell.execute_reply": "2023-10-10T14:53:26.818905Z"
    },
    "trusted": true,
    "id": "DQ8jq20NF-1K",
    "ExecuteTime": {
     "end_time": "2024-10-21T13:53:20.197953Z",
     "start_time": "2024-10-21T13:53:20.195362Z"
    }
   },
   "outputs": [],
   "execution_count": 13
  },
  {
   "cell_type": "code",
   "source": [
    "_ = torch.manual_seed(42) # for a fair comparison, don't change the seed!"
   ],
   "metadata": {
    "id": "kYbH9SzNrbeP",
    "ExecuteTime": {
     "end_time": "2024-10-21T13:53:20.207558Z",
     "start_time": "2024-10-21T13:53:20.205002Z"
    }
   },
   "outputs": [],
   "execution_count": 14
  },
  {
   "cell_type": "code",
   "source": "data = pd.read_csv('./Datasets/pokemon.csv')",
   "metadata": {
    "execution": {
     "iopub.status.busy": "2023-10-09T10:03:59.333013Z",
     "iopub.execute_input": "2023-10-09T10:03:59.333403Z",
     "iopub.status.idle": "2023-10-09T10:03:59.370972Z",
     "shell.execute_reply.started": "2023-10-09T10:03:59.333344Z",
     "shell.execute_reply": "2023-10-09T10:03:59.369989Z"
    },
    "trusted": true,
    "id": "OkMbLcx_F-1L",
    "ExecuteTime": {
     "end_time": "2024-10-21T13:53:20.218892Z",
     "start_time": "2024-10-21T13:53:20.214743Z"
    }
   },
   "outputs": [],
   "execution_count": 15
  },
  {
   "cell_type": "code",
   "source": [
    "data"
   ],
   "metadata": {
    "execution": {
     "iopub.status.busy": "2023-10-09T10:04:00.050779Z",
     "iopub.execute_input": "2023-10-09T10:04:00.051352Z",
     "iopub.status.idle": "2023-10-09T10:04:00.235069Z",
     "shell.execute_reply.started": "2023-10-09T10:04:00.051296Z",
     "shell.execute_reply": "2023-10-09T10:04:00.234085Z"
    },
    "trusted": true,
    "colab": {
     "base_uri": "https://localhost:8080/",
     "height": 423
    },
    "id": "1cIpYa1HF-1L",
    "outputId": "56beb2e1-f975-4227-b603-521e9160c51c",
    "ExecuteTime": {
     "end_time": "2024-10-21T13:53:20.235752Z",
     "start_time": "2024-10-21T13:53:20.229164Z"
    }
   },
   "outputs": [
    {
     "data": {
      "text/plain": [
       "      dexnum          name  generation     type1    type2  height  weight  \\\n",
       "0       1025     Pecharunt           9    Poison    Ghost     0.3     0.3   \n",
       "1       1024     Terapagos           9    Normal      NaN     0.2     6.5   \n",
       "2       1023    Iron Crown           9     Steel  Psychic     1.6   156.0   \n",
       "3       1022  Iron Boulder           9      Rock  Psychic     1.5   162.5   \n",
       "4       1021   Raging Bolt           9  Electric   Dragon     5.2   480.0   \n",
       "...      ...           ...         ...       ...      ...     ...     ...   \n",
       "1020       5    Charmeleon           1      Fire      NaN     1.1    19.0   \n",
       "1021       4    Charmander           1      Fire      NaN     0.6     8.5   \n",
       "1022       3      Venusaur           1     Grass   Poison     2.0   100.0   \n",
       "1023       2       Ivysaur           1     Grass   Poison     1.0    13.0   \n",
       "1024       1     Bulbasaur           1     Grass   Poison     0.7     6.9   \n",
       "\n",
       "       hp  attack  defense  sp_atk  sp_def  speed  total  legendary  \n",
       "0      88      88      160      88      88     88    600          1  \n",
       "1      90      65       85      65      85     60    450          1  \n",
       "2      90      72      100     122     108     98    590          0  \n",
       "3      90     120       80      68     108    124    590          0  \n",
       "4     125      73       91     137      89     75    590          0  \n",
       "...   ...     ...      ...     ...     ...    ...    ...        ...  \n",
       "1020   58      64       58      80      65     80    405          0  \n",
       "1021   39      52       43      60      50     65    309          0  \n",
       "1022   80      82       83     100     100     80    525          0  \n",
       "1023   60      62       63      80      80     60    405          0  \n",
       "1024   45      49       49      65      65     45    318          0  \n",
       "\n",
       "[1025 rows x 15 columns]"
      ],
      "text/html": [
       "<div>\n",
       "<style scoped>\n",
       "    .dataframe tbody tr th:only-of-type {\n",
       "        vertical-align: middle;\n",
       "    }\n",
       "\n",
       "    .dataframe tbody tr th {\n",
       "        vertical-align: top;\n",
       "    }\n",
       "\n",
       "    .dataframe thead th {\n",
       "        text-align: right;\n",
       "    }\n",
       "</style>\n",
       "<table border=\"1\" class=\"dataframe\">\n",
       "  <thead>\n",
       "    <tr style=\"text-align: right;\">\n",
       "      <th></th>\n",
       "      <th>dexnum</th>\n",
       "      <th>name</th>\n",
       "      <th>generation</th>\n",
       "      <th>type1</th>\n",
       "      <th>type2</th>\n",
       "      <th>height</th>\n",
       "      <th>weight</th>\n",
       "      <th>hp</th>\n",
       "      <th>attack</th>\n",
       "      <th>defense</th>\n",
       "      <th>sp_atk</th>\n",
       "      <th>sp_def</th>\n",
       "      <th>speed</th>\n",
       "      <th>total</th>\n",
       "      <th>legendary</th>\n",
       "    </tr>\n",
       "  </thead>\n",
       "  <tbody>\n",
       "    <tr>\n",
       "      <th>0</th>\n",
       "      <td>1025</td>\n",
       "      <td>Pecharunt</td>\n",
       "      <td>9</td>\n",
       "      <td>Poison</td>\n",
       "      <td>Ghost</td>\n",
       "      <td>0.3</td>\n",
       "      <td>0.3</td>\n",
       "      <td>88</td>\n",
       "      <td>88</td>\n",
       "      <td>160</td>\n",
       "      <td>88</td>\n",
       "      <td>88</td>\n",
       "      <td>88</td>\n",
       "      <td>600</td>\n",
       "      <td>1</td>\n",
       "    </tr>\n",
       "    <tr>\n",
       "      <th>1</th>\n",
       "      <td>1024</td>\n",
       "      <td>Terapagos</td>\n",
       "      <td>9</td>\n",
       "      <td>Normal</td>\n",
       "      <td>NaN</td>\n",
       "      <td>0.2</td>\n",
       "      <td>6.5</td>\n",
       "      <td>90</td>\n",
       "      <td>65</td>\n",
       "      <td>85</td>\n",
       "      <td>65</td>\n",
       "      <td>85</td>\n",
       "      <td>60</td>\n",
       "      <td>450</td>\n",
       "      <td>1</td>\n",
       "    </tr>\n",
       "    <tr>\n",
       "      <th>2</th>\n",
       "      <td>1023</td>\n",
       "      <td>Iron Crown</td>\n",
       "      <td>9</td>\n",
       "      <td>Steel</td>\n",
       "      <td>Psychic</td>\n",
       "      <td>1.6</td>\n",
       "      <td>156.0</td>\n",
       "      <td>90</td>\n",
       "      <td>72</td>\n",
       "      <td>100</td>\n",
       "      <td>122</td>\n",
       "      <td>108</td>\n",
       "      <td>98</td>\n",
       "      <td>590</td>\n",
       "      <td>0</td>\n",
       "    </tr>\n",
       "    <tr>\n",
       "      <th>3</th>\n",
       "      <td>1022</td>\n",
       "      <td>Iron Boulder</td>\n",
       "      <td>9</td>\n",
       "      <td>Rock</td>\n",
       "      <td>Psychic</td>\n",
       "      <td>1.5</td>\n",
       "      <td>162.5</td>\n",
       "      <td>90</td>\n",
       "      <td>120</td>\n",
       "      <td>80</td>\n",
       "      <td>68</td>\n",
       "      <td>108</td>\n",
       "      <td>124</td>\n",
       "      <td>590</td>\n",
       "      <td>0</td>\n",
       "    </tr>\n",
       "    <tr>\n",
       "      <th>4</th>\n",
       "      <td>1021</td>\n",
       "      <td>Raging Bolt</td>\n",
       "      <td>9</td>\n",
       "      <td>Electric</td>\n",
       "      <td>Dragon</td>\n",
       "      <td>5.2</td>\n",
       "      <td>480.0</td>\n",
       "      <td>125</td>\n",
       "      <td>73</td>\n",
       "      <td>91</td>\n",
       "      <td>137</td>\n",
       "      <td>89</td>\n",
       "      <td>75</td>\n",
       "      <td>590</td>\n",
       "      <td>0</td>\n",
       "    </tr>\n",
       "    <tr>\n",
       "      <th>...</th>\n",
       "      <td>...</td>\n",
       "      <td>...</td>\n",
       "      <td>...</td>\n",
       "      <td>...</td>\n",
       "      <td>...</td>\n",
       "      <td>...</td>\n",
       "      <td>...</td>\n",
       "      <td>...</td>\n",
       "      <td>...</td>\n",
       "      <td>...</td>\n",
       "      <td>...</td>\n",
       "      <td>...</td>\n",
       "      <td>...</td>\n",
       "      <td>...</td>\n",
       "      <td>...</td>\n",
       "    </tr>\n",
       "    <tr>\n",
       "      <th>1020</th>\n",
       "      <td>5</td>\n",
       "      <td>Charmeleon</td>\n",
       "      <td>1</td>\n",
       "      <td>Fire</td>\n",
       "      <td>NaN</td>\n",
       "      <td>1.1</td>\n",
       "      <td>19.0</td>\n",
       "      <td>58</td>\n",
       "      <td>64</td>\n",
       "      <td>58</td>\n",
       "      <td>80</td>\n",
       "      <td>65</td>\n",
       "      <td>80</td>\n",
       "      <td>405</td>\n",
       "      <td>0</td>\n",
       "    </tr>\n",
       "    <tr>\n",
       "      <th>1021</th>\n",
       "      <td>4</td>\n",
       "      <td>Charmander</td>\n",
       "      <td>1</td>\n",
       "      <td>Fire</td>\n",
       "      <td>NaN</td>\n",
       "      <td>0.6</td>\n",
       "      <td>8.5</td>\n",
       "      <td>39</td>\n",
       "      <td>52</td>\n",
       "      <td>43</td>\n",
       "      <td>60</td>\n",
       "      <td>50</td>\n",
       "      <td>65</td>\n",
       "      <td>309</td>\n",
       "      <td>0</td>\n",
       "    </tr>\n",
       "    <tr>\n",
       "      <th>1022</th>\n",
       "      <td>3</td>\n",
       "      <td>Venusaur</td>\n",
       "      <td>1</td>\n",
       "      <td>Grass</td>\n",
       "      <td>Poison</td>\n",
       "      <td>2.0</td>\n",
       "      <td>100.0</td>\n",
       "      <td>80</td>\n",
       "      <td>82</td>\n",
       "      <td>83</td>\n",
       "      <td>100</td>\n",
       "      <td>100</td>\n",
       "      <td>80</td>\n",
       "      <td>525</td>\n",
       "      <td>0</td>\n",
       "    </tr>\n",
       "    <tr>\n",
       "      <th>1023</th>\n",
       "      <td>2</td>\n",
       "      <td>Ivysaur</td>\n",
       "      <td>1</td>\n",
       "      <td>Grass</td>\n",
       "      <td>Poison</td>\n",
       "      <td>1.0</td>\n",
       "      <td>13.0</td>\n",
       "      <td>60</td>\n",
       "      <td>62</td>\n",
       "      <td>63</td>\n",
       "      <td>80</td>\n",
       "      <td>80</td>\n",
       "      <td>60</td>\n",
       "      <td>405</td>\n",
       "      <td>0</td>\n",
       "    </tr>\n",
       "    <tr>\n",
       "      <th>1024</th>\n",
       "      <td>1</td>\n",
       "      <td>Bulbasaur</td>\n",
       "      <td>1</td>\n",
       "      <td>Grass</td>\n",
       "      <td>Poison</td>\n",
       "      <td>0.7</td>\n",
       "      <td>6.9</td>\n",
       "      <td>45</td>\n",
       "      <td>49</td>\n",
       "      <td>49</td>\n",
       "      <td>65</td>\n",
       "      <td>65</td>\n",
       "      <td>45</td>\n",
       "      <td>318</td>\n",
       "      <td>0</td>\n",
       "    </tr>\n",
       "  </tbody>\n",
       "</table>\n",
       "<p>1025 rows × 15 columns</p>\n",
       "</div>"
      ]
     },
     "execution_count": 16,
     "metadata": {},
     "output_type": "execute_result"
    }
   ],
   "execution_count": 16
  },
  {
   "cell_type": "code",
   "source": [
    "data_raw = data.copy() # usually, if memory allows it, it's a good idea to keep a raw version of your data"
   ],
   "metadata": {
    "execution": {
     "iopub.status.busy": "2023-10-09T10:04:03.140438Z",
     "iopub.execute_input": "2023-10-09T10:04:03.140795Z",
     "iopub.status.idle": "2023-10-09T10:04:03.145967Z",
     "shell.execute_reply.started": "2023-10-09T10:04:03.140766Z",
     "shell.execute_reply": "2023-10-09T10:04:03.144877Z"
    },
    "trusted": true,
    "id": "4xuE8RS0F-1L",
    "ExecuteTime": {
     "end_time": "2024-10-21T13:53:20.269982Z",
     "start_time": "2024-10-21T13:53:20.267959Z"
    }
   },
   "outputs": [],
   "execution_count": 17
  },
  {
   "cell_type": "markdown",
   "source": [
    "# Pre-processing / encoding"
   ],
   "metadata": {
    "id": "pW9qbuLEF-1L"
   }
  },
  {
   "cell_type": "code",
   "source": [
    "data.info()"
   ],
   "metadata": {
    "execution": {
     "iopub.status.busy": "2023-10-09T10:04:04.633636Z",
     "iopub.execute_input": "2023-10-09T10:04:04.634264Z",
     "iopub.status.idle": "2023-10-09T10:04:04.650997Z",
     "shell.execute_reply.started": "2023-10-09T10:04:04.634221Z",
     "shell.execute_reply": "2023-10-09T10:04:04.649508Z"
    },
    "trusted": true,
    "colab": {
     "base_uri": "https://localhost:8080/"
    },
    "id": "otv7GlCxF-1L",
    "outputId": "99454a16-68f4-46d0-d9be-26cba7bb4780",
    "ExecuteTime": {
     "end_time": "2024-10-21T13:53:20.288279Z",
     "start_time": "2024-10-21T13:53:20.283502Z"
    }
   },
   "outputs": [
    {
     "name": "stdout",
     "output_type": "stream",
     "text": [
      "<class 'pandas.core.frame.DataFrame'>\n",
      "RangeIndex: 1025 entries, 0 to 1024\n",
      "Data columns (total 15 columns):\n",
      " #   Column      Non-Null Count  Dtype  \n",
      "---  ------      --------------  -----  \n",
      " 0   dexnum      1025 non-null   int64  \n",
      " 1   name        1025 non-null   object \n",
      " 2   generation  1025 non-null   int64  \n",
      " 3   type1       1025 non-null   object \n",
      " 4   type2       526 non-null    object \n",
      " 5   height      1025 non-null   float64\n",
      " 6   weight      1025 non-null   float64\n",
      " 7   hp          1025 non-null   int64  \n",
      " 8   attack      1025 non-null   int64  \n",
      " 9   defense     1025 non-null   int64  \n",
      " 10  sp_atk      1025 non-null   int64  \n",
      " 11  sp_def      1025 non-null   int64  \n",
      " 12  speed       1025 non-null   int64  \n",
      " 13  total       1025 non-null   int64  \n",
      " 14  legendary   1025 non-null   int64  \n",
      "dtypes: float64(2), int64(10), object(3)\n",
      "memory usage: 120.2+ KB\n"
     ]
    }
   ],
   "execution_count": 18
  },
  {
   "cell_type": "code",
   "source": [
    "data.isna().sum()"
   ],
   "metadata": {
    "execution": {
     "iopub.status.busy": "2023-10-09T10:04:05.073162Z",
     "iopub.execute_input": "2023-10-09T10:04:05.073708Z",
     "iopub.status.idle": "2023-10-09T10:04:05.081791Z",
     "shell.execute_reply.started": "2023-10-09T10:04:05.073676Z",
     "shell.execute_reply": "2023-10-09T10:04:05.080673Z"
    },
    "trusted": true,
    "colab": {
     "base_uri": "https://localhost:8080/",
     "height": 554
    },
    "id": "RjZqyB6bF-1L",
    "outputId": "07479a70-1a7f-4245-c5fa-dff5c371e016",
    "ExecuteTime": {
     "end_time": "2024-10-21T13:53:20.322011Z",
     "start_time": "2024-10-21T13:53:20.319119Z"
    }
   },
   "outputs": [
    {
     "data": {
      "text/plain": [
       "dexnum          0\n",
       "name            0\n",
       "generation      0\n",
       "type1           0\n",
       "type2         499\n",
       "height          0\n",
       "weight          0\n",
       "hp              0\n",
       "attack          0\n",
       "defense         0\n",
       "sp_atk          0\n",
       "sp_def          0\n",
       "speed           0\n",
       "total           0\n",
       "legendary       0\n",
       "dtype: int64"
      ]
     },
     "execution_count": 19,
     "metadata": {},
     "output_type": "execute_result"
    }
   ],
   "execution_count": 19
  },
  {
   "cell_type": "code",
   "source": [
    "data = data.drop(['dexnum', 'name', 'type2'], axis=1)\n",
    "# dropping type 2 is actually a debeatable step, it may provide useful information\n",
    "# data = data.drop([\"#\", \"Name\"], axis=1)"
   ],
   "metadata": {
    "execution": {
     "iopub.status.busy": "2023-10-09T10:04:05.732052Z",
     "iopub.execute_input": "2023-10-09T10:04:05.732577Z",
     "iopub.status.idle": "2023-10-09T10:04:05.737607Z",
     "shell.execute_reply.started": "2023-10-09T10:04:05.732545Z",
     "shell.execute_reply": "2023-10-09T10:04:05.736726Z"
    },
    "trusted": true,
    "id": "4whGrOvSF-1L",
    "ExecuteTime": {
     "end_time": "2024-10-21T13:53:20.381111Z",
     "start_time": "2024-10-21T13:53:20.378740Z"
    }
   },
   "outputs": [],
   "execution_count": 20
  },
  {
   "cell_type": "code",
   "source": [
    "data['legendary'] = data['legendary'].astype(int)\n",
    "data['generation'] = data['generation'].astype(str)"
   ],
   "metadata": {
    "execution": {
     "iopub.status.busy": "2023-10-09T10:04:17.132078Z",
     "iopub.execute_input": "2023-10-09T10:04:17.132717Z",
     "iopub.status.idle": "2023-10-09T10:04:17.137572Z",
     "shell.execute_reply.started": "2023-10-09T10:04:17.132680Z",
     "shell.execute_reply": "2023-10-09T10:04:17.136616Z"
    },
    "trusted": true,
    "id": "ZabDJRZaF-1M",
    "ExecuteTime": {
     "end_time": "2024-10-21T13:53:20.442017Z",
     "start_time": "2024-10-21T13:53:20.439398Z"
    }
   },
   "outputs": [],
   "execution_count": 21
  },
  {
   "cell_type": "code",
   "source": [
    "data.dtypes"
   ],
   "metadata": {
    "execution": {
     "iopub.status.busy": "2023-10-09T10:04:25.424830Z",
     "iopub.execute_input": "2023-10-09T10:04:25.425522Z",
     "iopub.status.idle": "2023-10-09T10:04:25.433340Z",
     "shell.execute_reply.started": "2023-10-09T10:04:25.425473Z",
     "shell.execute_reply": "2023-10-09T10:04:25.432589Z"
    },
    "trusted": true,
    "colab": {
     "base_uri": "https://localhost:8080/",
     "height": 460
    },
    "id": "bqVbYkL3F-1M",
    "outputId": "6d33889f-88eb-4ba2-8c33-4bb35c3a5a0d",
    "ExecuteTime": {
     "end_time": "2024-10-21T13:53:20.494070Z",
     "start_time": "2024-10-21T13:53:20.491349Z"
    }
   },
   "outputs": [
    {
     "data": {
      "text/plain": [
       "generation     object\n",
       "type1          object\n",
       "height        float64\n",
       "weight        float64\n",
       "hp              int64\n",
       "attack          int64\n",
       "defense         int64\n",
       "sp_atk          int64\n",
       "sp_def          int64\n",
       "speed           int64\n",
       "total           int64\n",
       "legendary       int64\n",
       "dtype: object"
      ]
     },
     "execution_count": 22,
     "metadata": {},
     "output_type": "execute_result"
    }
   ],
   "execution_count": 22
  },
  {
   "cell_type": "markdown",
   "source": [
    "Categorical variables are one-hot encoded"
   ],
   "metadata": {
    "id": "j4DN8agr8Wp_"
   }
  },
  {
   "cell_type": "code",
   "source": [
    "def onehot_encode(df, column, prefix):\n",
    "    df = df.copy()\n",
    "    dummies = pd.get_dummies(df[column], prefix=prefix)\n",
    "    df = pd.concat([df, dummies], axis=1)\n",
    "    df = df.drop(column, axis=1)\n",
    "    return df"
   ],
   "metadata": {
    "execution": {
     "iopub.status.busy": "2023-10-09T10:04:27.609285Z",
     "iopub.execute_input": "2023-10-09T10:04:27.609994Z",
     "iopub.status.idle": "2023-10-09T10:04:27.616135Z",
     "shell.execute_reply.started": "2023-10-09T10:04:27.609945Z",
     "shell.execute_reply": "2023-10-09T10:04:27.615476Z"
    },
    "trusted": true,
    "id": "FCvblzRqF-1M",
    "ExecuteTime": {
     "end_time": "2024-10-21T13:53:20.533996Z",
     "start_time": "2024-10-21T13:53:20.532055Z"
    }
   },
   "outputs": [],
   "execution_count": 23
  },
  {
   "cell_type": "code",
   "source": [
    "data = onehot_encode(data, 'type1', 't')\n",
    "data = onehot_encode(data, 'generation', 'g')"
   ],
   "metadata": {
    "execution": {
     "iopub.status.busy": "2023-10-09T10:04:27.940418Z",
     "iopub.execute_input": "2023-10-09T10:04:27.941093Z",
     "iopub.status.idle": "2023-10-09T10:04:27.950841Z",
     "shell.execute_reply.started": "2023-10-09T10:04:27.941046Z",
     "shell.execute_reply": "2023-10-09T10:04:27.949833Z"
    },
    "trusted": true,
    "id": "IOOSfBXJF-1N",
    "ExecuteTime": {
     "end_time": "2024-10-21T13:53:20.596558Z",
     "start_time": "2024-10-21T13:53:20.592578Z"
    }
   },
   "outputs": [],
   "execution_count": 24
  },
  {
   "cell_type": "code",
   "source": [
    "data.shape"
   ],
   "metadata": {
    "execution": {
     "iopub.status.busy": "2023-10-09T10:04:28.321000Z",
     "iopub.execute_input": "2023-10-09T10:04:28.321322Z",
     "iopub.status.idle": "2023-10-09T10:04:28.345828Z",
     "shell.execute_reply.started": "2023-10-09T10:04:28.321293Z",
     "shell.execute_reply": "2023-10-09T10:04:28.344806Z"
    },
    "trusted": true,
    "colab": {
     "base_uri": "https://localhost:8080/"
    },
    "id": "lJmDYSiwF-1N",
    "outputId": "87f61303-f374-4438-eabd-a061227f1988",
    "ExecuteTime": {
     "end_time": "2024-10-21T13:53:20.633716Z",
     "start_time": "2024-10-21T13:53:20.631620Z"
    }
   },
   "outputs": [
    {
     "data": {
      "text/plain": [
       "(1025, 37)"
      ]
     },
     "execution_count": 25,
     "metadata": {},
     "output_type": "execute_result"
    }
   ],
   "execution_count": 25
  },
  {
   "cell_type": "markdown",
   "source": [
    "## Splitting and Scaling"
   ],
   "metadata": {
    "id": "30niefA6F-1N"
   }
  },
  {
   "cell_type": "code",
   "source": [
    "data.columns # note that only the first 9 features are continuous now"
   ],
   "metadata": {
    "id": "a9N2nv8O8iKT",
    "outputId": "b5fff5eb-5ca5-46f1-e5e6-549598b01fc4",
    "colab": {
     "base_uri": "https://localhost:8080/"
    },
    "ExecuteTime": {
     "end_time": "2024-10-21T13:53:20.667489Z",
     "start_time": "2024-10-21T13:53:20.664955Z"
    }
   },
   "outputs": [
    {
     "data": {
      "text/plain": [
       "Index(['height', 'weight', 'hp', 'attack', 'defense', 'sp_atk', 'sp_def',\n",
       "       'speed', 'total', 'legendary', 't_Bug', 't_Dark', 't_Dragon',\n",
       "       't_Electric', 't_Fairy', 't_Fighting', 't_Fire', 't_Flying', 't_Ghost',\n",
       "       't_Grass', 't_Ground', 't_Ice', 't_Normal', 't_Poison', 't_Psychic',\n",
       "       't_Rock', 't_Steel', 't_Water', 'g_1', 'g_2', 'g_3', 'g_4', 'g_5',\n",
       "       'g_6', 'g_7', 'g_8', 'g_9'],\n",
       "      dtype='object')"
      ]
     },
     "execution_count": 26,
     "metadata": {},
     "output_type": "execute_result"
    }
   ],
   "execution_count": 26
  },
  {
   "cell_type": "code",
   "source": [
    "y = data['legendary']\n",
    "X = data.drop('legendary', axis=1)"
   ],
   "metadata": {
    "execution": {
     "iopub.status.busy": "2023-10-09T10:04:36.261494Z",
     "iopub.execute_input": "2023-10-09T10:04:36.262122Z",
     "iopub.status.idle": "2023-10-09T10:04:36.269171Z",
     "shell.execute_reply.started": "2023-10-09T10:04:36.262071Z",
     "shell.execute_reply": "2023-10-09T10:04:36.268451Z"
    },
    "trusted": true,
    "id": "KR-yDxraF-1N",
    "ExecuteTime": {
     "end_time": "2024-10-21T13:53:20.699425Z",
     "start_time": "2024-10-21T13:53:20.697629Z"
    }
   },
   "outputs": [],
   "execution_count": 27
  },
  {
   "cell_type": "code",
   "source": [
    "scaler = StandardScaler()\n",
    "\n",
    "X_scaled = scaler.fit_transform(X.iloc[:,:9])\n",
    "X = np.concatenate((X_scaled, np.array(X.iloc[:,9:])), axis=1)"
   ],
   "metadata": {
    "execution": {
     "iopub.status.busy": "2023-10-09T10:04:37.531465Z",
     "iopub.execute_input": "2023-10-09T10:04:37.532104Z",
     "iopub.status.idle": "2023-10-09T10:04:37.542125Z",
     "shell.execute_reply.started": "2023-10-09T10:04:37.532051Z",
     "shell.execute_reply": "2023-10-09T10:04:37.541465Z"
    },
    "trusted": true,
    "id": "y14BFzZyF-1N",
    "ExecuteTime": {
     "end_time": "2024-10-21T13:53:20.713228Z",
     "start_time": "2024-10-21T13:53:20.709656Z"
    }
   },
   "outputs": [],
   "execution_count": 28
  },
  {
   "cell_type": "code",
   "source": [
    "# keep the proportions for the split equal and specify a seed of 42, we want a fair fight!\n",
    "# Note: end split should be 0.60,0.20,0.20 for train,valid,test\n",
    "\n",
    "train_size = 0.6\n",
    "valid_size = 0.4\n",
    "test_size = 0.5\n",
    "X_train, X_test, y_train, y_test = train_test_split(X, y, train_size=train_size, random_state=42)\n",
    "X_valid, X_test, y_valid, y_test = train_test_split(X_test, y_test, train_size=1-test_size, random_state=42)\n",
    "\n",
    "y_train.shape, y_valid.shape, y_test.shape # end split is 60,20,20"
   ],
   "metadata": {
    "execution": {
     "iopub.status.busy": "2023-10-09T10:04:40.091562Z",
     "iopub.execute_input": "2023-10-09T10:04:40.092048Z",
     "iopub.status.idle": "2023-10-09T10:04:40.097770Z",
     "shell.execute_reply.started": "2023-10-09T10:04:40.092017Z",
     "shell.execute_reply": "2023-10-09T10:04:40.096980Z"
    },
    "trusted": true,
    "id": "XyY5f5BxF-1N",
    "outputId": "bcc348ef-914f-4006-9865-b00bff20d2bb",
    "colab": {
     "base_uri": "https://localhost:8080/"
    },
    "ExecuteTime": {
     "end_time": "2024-10-21T13:53:20.726815Z",
     "start_time": "2024-10-21T13:53:20.723184Z"
    }
   },
   "outputs": [
    {
     "data": {
      "text/plain": [
       "((615,), (205,), (205,))"
      ]
     },
     "execution_count": 29,
     "metadata": {},
     "output_type": "execute_result"
    }
   ],
   "execution_count": 29
  },
  {
   "cell_type": "markdown",
   "source": [
    "# Model definition"
   ],
   "metadata": {
    "id": "SeI7sgXRF-1N"
   }
  },
  {
   "cell_type": "code",
   "source": [
    "device = \"cuda\" if torch.cuda.is_available() else \"cpu\"\n",
    "print(f\"Using {device} device\")"
   ],
   "metadata": {
    "execution": {
     "iopub.status.busy": "2023-10-09T10:04:41.289646Z",
     "iopub.execute_input": "2023-10-09T10:04:41.290174Z",
     "iopub.status.idle": "2023-10-09T10:04:41.296775Z",
     "shell.execute_reply.started": "2023-10-09T10:04:41.290135Z",
     "shell.execute_reply": "2023-10-09T10:04:41.295898Z"
    },
    "trusted": true,
    "colab": {
     "base_uri": "https://localhost:8080/"
    },
    "id": "eYpu0pOIF-1N",
    "outputId": "5e5e426a-c0da-4c81-c20d-134fefa0f0d1",
    "ExecuteTime": {
     "end_time": "2024-10-21T13:53:20.748679Z",
     "start_time": "2024-10-21T13:53:20.746981Z"
    }
   },
   "outputs": [
    {
     "name": "stdout",
     "output_type": "stream",
     "text": [
      "Using cpu device\n"
     ]
    }
   ],
   "execution_count": 30
  },
  {
   "cell_type": "code",
   "source": [
    "import copy\n",
    "\n",
    "class EarlyStopping():\n",
    "  def __init__(self, patience=5, min_delta=0, restore_best_weights=True):\n",
    "    self.patience = patience\n",
    "    self.min_delta = min_delta # minimum improvement to reset patience\n",
    "    self.restore_best_weights = restore_best_weights\n",
    "    self.best_model = None\n",
    "    self.best_loss = None\n",
    "    self.counter = 0\n",
    "    self.status = \"\"\n",
    "\n",
    "  def __call__(self, model, val_loss):\n",
    "    if self.best_loss is None:\n",
    "      self.best_loss = val_loss\n",
    "      self.best_model = copy.deepcopy(model)\n",
    "    elif self.best_loss - val_loss > self.min_delta:\n",
    "      self.best_loss = val_loss\n",
    "      self.counter = 0\n",
    "      self.best_model.load_state_dict(model.state_dict())\n",
    "    elif self.best_loss - val_loss < self.min_delta:\n",
    "      self.counter += 1\n",
    "      if self.counter >= self.patience:\n",
    "        self.status = f\"Stopped on {self.counter}\"\n",
    "        if self.restore_best_weights:\n",
    "          model.load_state_dict(self.best_model.state_dict())\n",
    "        return True\n",
    "    self.status = f\"{self.counter}/{self.patience}\"\n",
    "    return False\n"
   ],
   "metadata": {
    "id": "3bepX_UVyzmr",
    "ExecuteTime": {
     "end_time": "2024-10-21T13:53:20.779023Z",
     "start_time": "2024-10-21T13:53:20.776394Z"
    }
   },
   "outputs": [],
   "execution_count": 31
  },
  {
   "cell_type": "markdown",
   "source": [
    "### Define your model :"
   ],
   "metadata": {
    "id": "V6VZp4IQ9IpG"
   }
  },
  {
   "cell_type": "markdown",
   "source": [
    "Choose yourself in the model:\n",
    "- number of hidden layers\n",
    "- number of neurons per layer (careful with input and output, these are not a choice)\n",
    "- activation functions\n",
    "- any other possible component among those seen so far in theory."
   ],
   "metadata": {
    "id": "hnt0qXDZ_29X"
   }
  },
  {
   "cell_type": "code",
   "source": [
    "class is_legendary(nn.Module):\n",
    "    def __init__(self, input_size, output_size = 1):\n",
    "        super().__init__()\n",
    "        self.linear_relu_stack = nn.Sequential(\n",
    "            nn.Linear(input_size, 64),\n",
    "            nn.ReLU(),\n",
    "            nn.Dropout(0.3),\n",
    "            nn.Linear(64, 64),\n",
    "            nn.ReLU(),\n",
    "            nn.Dropout(0.3),\n",
    "            nn.Linear(64, output_size)\n",
    "        )\n",
    "\n",
    "    def forward(self, x):\n",
    "        output = nn.functional.sigmoid(self.linear_relu_stack(x))\n",
    "        return output"
   ],
   "metadata": {
    "execution": {
     "iopub.status.busy": "2023-10-09T10:04:42.309954Z",
     "iopub.execute_input": "2023-10-09T10:04:42.310280Z",
     "iopub.status.idle": "2023-10-09T10:04:42.317352Z",
     "shell.execute_reply.started": "2023-10-09T10:04:42.310252Z",
     "shell.execute_reply": "2023-10-09T10:04:42.316057Z"
    },
    "trusted": true,
    "id": "2x2t4rEtF-1N",
    "ExecuteTime": {
     "end_time": "2024-10-21T13:53:20.793802Z",
     "start_time": "2024-10-21T13:53:20.791660Z"
    }
   },
   "outputs": [],
   "execution_count": 32
  },
  {
   "cell_type": "markdown",
   "source": [
    "Instantiate your model and print it out"
   ],
   "metadata": {
    "id": "_QhXrIWerKfU"
   }
  },
  {
   "cell_type": "code",
   "source": [
    "model = is_legendary(X.shape[1]).to(device)\n",
    "early_stop = EarlyStopping(patience=5)\n",
    "print(model)"
   ],
   "metadata": {
    "execution": {
     "iopub.status.busy": "2023-10-09T10:04:49.934535Z",
     "iopub.execute_input": "2023-10-09T10:04:49.934880Z",
     "iopub.status.idle": "2023-10-09T10:04:49.962352Z",
     "shell.execute_reply.started": "2023-10-09T10:04:49.934850Z",
     "shell.execute_reply": "2023-10-09T10:04:49.961502Z"
    },
    "trusted": true,
    "colab": {
     "base_uri": "https://localhost:8080/"
    },
    "id": "E9ivUgk_F-1N",
    "outputId": "39106f03-32de-43e8-fcd8-426decb4f4bd",
    "ExecuteTime": {
     "end_time": "2024-10-21T13:53:20.805302Z",
     "start_time": "2024-10-21T13:53:20.802424Z"
    }
   },
   "outputs": [
    {
     "name": "stdout",
     "output_type": "stream",
     "text": [
      "is_legendary(\n",
      "  (linear_relu_stack): Sequential(\n",
      "    (0): Linear(in_features=36, out_features=64, bias=True)\n",
      "    (1): ReLU()\n",
      "    (2): Dropout(p=0.3, inplace=False)\n",
      "    (3): Linear(in_features=64, out_features=64, bias=True)\n",
      "    (4): ReLU()\n",
      "    (5): Dropout(p=0.3, inplace=False)\n",
      "    (6): Linear(in_features=64, out_features=1, bias=True)\n",
      "  )\n",
      ")\n"
     ]
    }
   ],
   "execution_count": 33
  },
  {
   "cell_type": "markdown",
   "source": [
    "### Hyperparameters:"
   ],
   "metadata": {
    "id": "sXCiwbQd_T-2"
   }
  },
  {
   "cell_type": "markdown",
   "source": [
    "Choose carefully your:\n",
    "- learning rate (this is usually the most important hyperparameter to get right, but some optimizers are more forgiving than others)\n",
    "- batch size\n",
    "- number of epochs.\n",
    "- other hyperparameters that you might need"
   ],
   "metadata": {
    "id": "L-1fTWhB_9HB"
   }
  },
  {
   "cell_type": "code",
   "source": [
    "learning_rate = 0.003\n",
    "batch_size = 8\n",
    "epochs = 100"
   ],
   "metadata": {
    "execution": {
     "iopub.status.busy": "2023-10-09T10:04:57.405999Z",
     "iopub.execute_input": "2023-10-09T10:04:57.406348Z",
     "iopub.status.idle": "2023-10-09T10:04:57.410729Z",
     "shell.execute_reply.started": "2023-10-09T10:04:57.406319Z",
     "shell.execute_reply": "2023-10-09T10:04:57.409643Z"
    },
    "trusted": true,
    "id": "GFumcDhCF-1N",
    "ExecuteTime": {
     "end_time": "2024-10-21T13:53:20.825641Z",
     "start_time": "2024-10-21T13:53:20.824052Z"
    }
   },
   "outputs": [],
   "execution_count": 34
  },
  {
   "cell_type": "markdown",
   "source": [
    "### Loss function and optimizer:"
   ],
   "metadata": {
    "id": "M9LK0StY_kyS"
   }
  },
  {
   "cell_type": "markdown",
   "source": [
    "- What's the appropriate loss function for the task?\n",
    "- Decide which optimizer you want to use ([Documentation](https://pytorch.org/docs/stable/optim.html))"
   ],
   "metadata": {
    "id": "KvHQnWrmABgx"
   }
  },
  {
   "cell_type": "code",
   "source": [
    "criterion = nn.BCELoss()\n",
    "optimizer = optim.SGD(model.parameters(), lr=learning_rate, momentum=0.95) #, weight_decay=1e-5)\n",
    "#scheduler = torch.optim.lr_scheduler.ReduceLROnPlateau(optimizer, 'min', patience=3)"
   ],
   "metadata": {
    "execution": {
     "iopub.status.busy": "2023-10-09T10:04:59.179191Z",
     "iopub.execute_input": "2023-10-09T10:04:59.179553Z",
     "iopub.status.idle": "2023-10-09T10:04:59.185130Z",
     "shell.execute_reply.started": "2023-10-09T10:04:59.179521Z",
     "shell.execute_reply": "2023-10-09T10:04:59.183865Z"
    },
    "trusted": true,
    "id": "hFYvvA8GF-1N",
    "ExecuteTime": {
     "end_time": "2024-10-21T13:53:21.276494Z",
     "start_time": "2024-10-21T13:53:20.834769Z"
    }
   },
   "outputs": [],
   "execution_count": 35
  },
  {
   "cell_type": "markdown",
   "source": [
    "Define your TensorDatasets and DataLoaders; remember to use the appropriate dtype for your tensors."
   ],
   "metadata": {
    "id": "ra1bhn_A_tTj"
   }
  },
  {
   "cell_type": "code",
   "source": [
    "trainset = torch.utils.data.TensorDataset(torch.tensor(X_train, dtype=torch.float32),\n",
    "                                          torch.tensor(y_train.values, dtype=torch.float32))\n",
    "validset = torch.utils.data.TensorDataset(torch.tensor(X_valid, dtype=torch.float32),\n",
    "                                         torch.tensor(y_valid.values, dtype=torch.float32))\n",
    "\n",
    "trainloader = torch.utils.data.DataLoader(trainset, batch_size=batch_size,\n",
    "                                          shuffle=True, num_workers=2)\n",
    "\n",
    "validloader = torch.utils.data.DataLoader(validset, batch_size=batch_size,\n",
    "                                         shuffle=False, num_workers=2)\n"
   ],
   "metadata": {
    "execution": {
     "iopub.status.busy": "2023-10-09T10:12:27.545708Z",
     "iopub.execute_input": "2023-10-09T10:12:27.546392Z",
     "iopub.status.idle": "2023-10-09T10:12:27.555392Z",
     "shell.execute_reply.started": "2023-10-09T10:12:27.546321Z",
     "shell.execute_reply": "2023-10-09T10:12:27.554394Z"
    },
    "trusted": true,
    "id": "LVpU6mGsF-1O",
    "ExecuteTime": {
     "end_time": "2024-10-21T13:53:21.289125Z",
     "start_time": "2024-10-21T13:53:21.286363Z"
    }
   },
   "outputs": [],
   "execution_count": 36
  },
  {
   "cell_type": "code",
   "source": [
    "train_loss_list = []\n",
    "valid_loss_list = []\n",
    "\n",
    "train_length = len(trainloader)\n",
    "valid_length = len(validloader)"
   ],
   "metadata": {
    "id": "ceHoIeQst3mA",
    "ExecuteTime": {
     "end_time": "2024-10-21T13:53:21.299575Z",
     "start_time": "2024-10-21T13:53:21.297875Z"
    }
   },
   "outputs": [],
   "execution_count": 37
  },
  {
   "cell_type": "code",
   "source": [
    "for epoch in range(epochs):  # loop over the dataset multiple times\n",
    "\n",
    "    train_loss = 0.\n",
    "    valid_loss = 0.\n",
    "\n",
    "    model.train()\n",
    "    for batch, (inputs, labels) in enumerate(trainloader):\n",
    "        # make sure both inputs and labels are on the proper device\n",
    "        inputs = inputs.to(device)\n",
    "        labels = labels.to(device)\n",
    "\n",
    "        # zero the parameter gradients\n",
    "        optimizer.zero_grad()\n",
    "\n",
    "        # forward + backward + optimize\n",
    "        outputs = model(inputs)\n",
    "        loss = criterion(torch.squeeze(outputs), labels)\n",
    "\n",
    "        loss.backward()\n",
    "        optimizer.step()\n",
    "\n",
    "        # keep track of the training loss\n",
    "        train_loss += loss.item()\n",
    "    train_loss_list.append(train_loss/train_length)\n",
    "\n",
    "    model.eval()\n",
    "    with torch.no_grad():\n",
    "      for inputs, labels in validloader:\n",
    "        # make sure both inputs and labels are on the proper device\n",
    "        inputs = inputs.to(device)\n",
    "        labels = labels.to(device)\n",
    "\n",
    "        # forward and loss calculation (no backward, no optimizer)\n",
    "        outputs = model(inputs)\n",
    "        loss = criterion(torch.squeeze(outputs), labels)\n",
    "\n",
    "        # keep track of the validation loss\n",
    "        valid_loss += loss.item()\n",
    "\n",
    "    valid_loss_list.append(valid_loss/valid_length)\n",
    "\n",
    "    # scheduler.step(valid_loss)\n",
    "\n",
    "    # print out training and validation loss\n",
    "    if epoch % 10 == 0:\n",
    "      print(f'Epoch: {epoch}\\t Train loss: {(train_loss/train_length):.10f}')\n",
    "      print(f'Epoch: {epoch}\\t Valid loss: {(valid_loss/valid_length):.10f}')\n",
    "\n",
    "    # Early stopping check\n",
    "    if early_stop(model, valid_loss/valid_length):\n",
    "      print(f\"Stopped trained at epoch {epoch}\")\n",
    "      break\n",
    "\n",
    "print('Finished Training')"
   ],
   "metadata": {
    "trusted": true,
    "colab": {
     "base_uri": "https://localhost:8080/"
    },
    "id": "EqK5jG1NF-1O",
    "outputId": "fb3df1d5-914c-491b-fe88-94de9d0403a3",
    "ExecuteTime": {
     "end_time": "2024-10-21T13:53:56.236301Z",
     "start_time": "2024-10-21T13:53:21.309447Z"
    }
   },
   "outputs": [
    {
     "name": "stdout",
     "output_type": "stream",
     "text": [
      "Epoch: 0\t Train loss: 0.4773488586\n",
      "Epoch: 0\t Valid loss: 0.2750742544\n",
      "Epoch: 10\t Train loss: 0.1578990165\n",
      "Epoch: 10\t Valid loss: 0.0928040025\n",
      "Stopped trained at epoch 15\n",
      "Finished Training\n"
     ]
    }
   ],
   "execution_count": 38
  },
  {
   "cell_type": "markdown",
   "source": [
    "# Results"
   ],
   "metadata": {
    "id": "w2u6ELJpF-1O"
   }
  },
  {
   "cell_type": "markdown",
   "source": [
    "### Plotting"
   ],
   "metadata": {
    "id": "lTAGxV5bMA4b"
   }
  },
  {
   "cell_type": "markdown",
   "source": [
    "Plot out the training and validation losses over the epochs"
   ],
   "metadata": {
    "id": "E5KnF__4LrGK"
   }
  },
  {
   "cell_type": "code",
   "source": [
    "plt.plot(np.arange(len(train_loss_list)), train_loss_list, label='train')\n",
    "plt.plot(np.arange(len(valid_loss_list)), valid_loss_list, label='valid')\n",
    "plt.legend(loc=\"best\")\n",
    "plt.grid(\"on\")\n",
    "plt.show()"
   ],
   "metadata": {
    "id": "t5ytQiecNIOC",
    "colab": {
     "base_uri": "https://localhost:8080/",
     "height": 430
    },
    "outputId": "a0ef8ea9-daec-4124-8f65-5bea58fbf00f",
    "ExecuteTime": {
     "end_time": "2024-10-21T13:53:56.350459Z",
     "start_time": "2024-10-21T13:53:56.251642Z"
    }
   },
   "outputs": [
    {
     "data": {
      "text/plain": [
       "<Figure size 640x480 with 1 Axes>"
      ],
      "image/png": "[encoded data removed]"
     },
     "metadata": {},
     "output_type": "display_data"
    }
   ],
   "execution_count": 39
  },
  {
   "cell_type": "markdown",
   "source": [
    "### Metrics"
   ],
   "metadata": {
    "id": "fPs9CwgJMLDq"
   }
  },
  {
   "cell_type": "markdown",
   "source": [
    "Print out appropriate metrics for the task"
   ],
   "metadata": {
    "id": "kAHRX5PgMOoZ"
   }
  },
  {
   "cell_type": "code",
   "source": [
    "from sklearn.metrics import accuracy_score, confusion_matrix, fbeta_score, classification_report\n",
    "\n",
    "with torch.no_grad():\n",
    "  model.eval()\n",
    "  pred = model(torch.from_numpy(X_test).to(device).to(torch.float32))\n",
    "  pred_classes = (pred >= 0.5).to(torch.float32)\n",
    "  confusion = confusion_matrix(y_test.values,pred_classes.cpu())\n",
    "  print(f\"Confusion matrix: \\n{confusion} \\n\\n\")\n",
    "  f2 = fbeta_score(y_test.values,pred_classes.cpu(),beta=2)\n",
    "  print(f\"F2-Score: {round(f2,4)}\\n\\n\")\n",
    "  report = classification_report(y_test.values,pred_classes.cpu())\n",
    "  print(f\"Classification report:\\n{report}\")"
   ],
   "metadata": {
    "colab": {
     "base_uri": "https://localhost:8080/"
    },
    "id": "0K48qnVJ0b3s",
    "outputId": "c72a1df4-31ef-4773-d7b1-3416da1f5bf6",
    "ExecuteTime": {
     "end_time": "2024-10-21T13:53:56.387419Z",
     "start_time": "2024-10-21T13:53:56.374102Z"
    }
   },
   "outputs": [
    {
     "name": "stdout",
     "output_type": "stream",
     "text": [
      "Confusion matrix: \n",
      "[[180   5]\n",
      " [  2  18]] \n",
      "\n",
      "\n",
      "F2-Score: 0.8738\n",
      "\n",
      "\n",
      "Classification report:\n",
      "              precision    recall  f1-score   support\n",
      "\n",
      "           0       0.99      0.97      0.98       185\n",
      "           1       0.78      0.90      0.84        20\n",
      "\n",
      "    accuracy                           0.97       205\n",
      "   macro avg       0.89      0.94      0.91       205\n",
      "weighted avg       0.97      0.97      0.97       205\n",
      "\n"
     ]
    }
   ],
   "execution_count": 40
  },
  {
   "cell_type": "code",
   "source": [
    "wrong_predictions = pred_classes.squeeze().cpu().numpy() != y_test.values"
   ],
   "metadata": {
    "id": "tc8Ffd5nC5cM",
    "ExecuteTime": {
     "end_time": "2024-10-21T13:53:56.415932Z",
     "start_time": "2024-10-21T13:53:56.412726Z"
    }
   },
   "outputs": [],
   "execution_count": 41
  },
  {
   "cell_type": "code",
   "source": [
    "mislabeled_indices = y_test[wrong_predictions].index"
   ],
   "metadata": {
    "id": "xKCamwNGC1yJ",
    "ExecuteTime": {
     "end_time": "2024-10-21T13:53:56.453304Z",
     "start_time": "2024-10-21T13:53:56.450171Z"
    }
   },
   "outputs": [],
   "execution_count": 42
  },
  {
   "cell_type": "code",
   "source": [
    "data_raw.loc[mislabeled_indices,:]"
   ],
   "metadata": {
    "id": "A99syZ43CDrl",
    "outputId": "f659be2a-d0aa-4668-9a83-8c1ab7cbc7a7",
    "colab": {
     "base_uri": "https://localhost:8080/",
     "height": 300
    },
    "ExecuteTime": {
     "end_time": "2024-10-21T13:53:56.483711Z",
     "start_time": "2024-10-21T13:53:56.475569Z"
    }
   },
   "outputs": [
    {
     "data": {
      "text/plain": [
       "     dexnum          name  generation    type1     type2  height  weight   hp  \\\n",
       "580     445      Garchomp           4   Dragon    Ground     1.9    95.0  108   \n",
       "3      1022  Iron Boulder           9     Rock   Psychic     1.5   162.5   90   \n",
       "231     794      Buzzwole           7      Bug  Fighting     2.4   333.6  107   \n",
       "10     1015     Munkidori           9   Poison   Psychic     1.0    12.2   88   \n",
       "319     706        Goodra           6   Dragon       NaN     2.0   150.5   90   \n",
       "5      1020  Gouging Fire           9     Fire    Dragon     3.5   590.0  105   \n",
       "235     790       Cosmoem           7  Psychic       NaN     0.1   999.9   43   \n",
       "\n",
       "     attack  defense  sp_atk  sp_def  speed  total  legendary  \n",
       "580     130       95      80      85    102    600          0  \n",
       "3       120       80      68     108    124    590          0  \n",
       "231     139      139      53      53     79    570          0  \n",
       "10       75       66     130      90    106    555          1  \n",
       "319     100       70     110     150     80    600          0  \n",
       "5       115      121      65      93     91    590          0  \n",
       "235      29      131      29     131     37    400          1  "
      ],
      "text/html": [
       "<div>\n",
       "<style scoped>\n",
       "    .dataframe tbody tr th:only-of-type {\n",
       "        vertical-align: middle;\n",
       "    }\n",
       "\n",
       "    .dataframe tbody tr th {\n",
       "        vertical-align: top;\n",
       "    }\n",
       "\n",
       "    .dataframe thead th {\n",
       "        text-align: right;\n",
       "    }\n",
       "</style>\n",
       "<table border=\"1\" class=\"dataframe\">\n",
       "  <thead>\n",
       "    <tr style=\"text-align: right;\">\n",
       "      <th></th>\n",
       "      <th>dexnum</th>\n",
       "      <th>name</th>\n",
       "      <th>generation</th>\n",
       "      <th>type1</th>\n",
       "      <th>type2</th>\n",
       "      <th>height</th>\n",
       "      <th>weight</th>\n",
       "      <th>hp</th>\n",
       "      <th>attack</th>\n",
       "      <th>defense</th>\n",
       "      <th>sp_atk</th>\n",
       "      <th>sp_def</th>\n",
       "      <th>speed</th>\n",
       "      <th>total</th>\n",
       "      <th>legendary</th>\n",
       "    </tr>\n",
       "  </thead>\n",
       "  <tbody>\n",
       "    <tr>\n",
       "      <th>580</th>\n",
       "      <td>445</td>\n",
       "      <td>Garchomp</td>\n",
       "      <td>4</td>\n",
       "      <td>Dragon</td>\n",
       "      <td>Ground</td>\n",
       "      <td>1.9</td>\n",
       "      <td>95.0</td>\n",
       "      <td>108</td>\n",
       "      <td>130</td>\n",
       "      <td>95</td>\n",
       "      <td>80</td>\n",
       "      <td>85</td>\n",
       "      <td>102</td>\n",
       "      <td>600</td>\n",
       "      <td>0</td>\n",
       "    </tr>\n",
       "    <tr>\n",
       "      <th>3</th>\n",
       "      <td>1022</td>\n",
       "      <td>Iron Boulder</td>\n",
       "      <td>9</td>\n",
       "      <td>Rock</td>\n",
       "      <td>Psychic</td>\n",
       "      <td>1.5</td>\n",
       "      <td>162.5</td>\n",
       "      <td>90</td>\n",
       "      <td>120</td>\n",
       "      <td>80</td>\n",
       "      <td>68</td>\n",
       "      <td>108</td>\n",
       "      <td>124</td>\n",
       "      <td>590</td>\n",
       "      <td>0</td>\n",
       "    </tr>\n",
       "    <tr>\n",
       "      <th>231</th>\n",
       "      <td>794</td>\n",
       "      <td>Buzzwole</td>\n",
       "      <td>7</td>\n",
       "      <td>Bug</td>\n",
       "      <td>Fighting</td>\n",
       "      <td>2.4</td>\n",
       "      <td>333.6</td>\n",
       "      <td>107</td>\n",
       "      <td>139</td>\n",
       "      <td>139</td>\n",
       "      <td>53</td>\n",
       "      <td>53</td>\n",
       "      <td>79</td>\n",
       "      <td>570</td>\n",
       "      <td>0</td>\n",
       "    </tr>\n",
       "    <tr>\n",
       "      <th>10</th>\n",
       "      <td>1015</td>\n",
       "      <td>Munkidori</td>\n",
       "      <td>9</td>\n",
       "      <td>Poison</td>\n",
       "      <td>Psychic</td>\n",
       "      <td>1.0</td>\n",
       "      <td>12.2</td>\n",
       "      <td>88</td>\n",
       "      <td>75</td>\n",
       "      <td>66</td>\n",
       "      <td>130</td>\n",
       "      <td>90</td>\n",
       "      <td>106</td>\n",
       "      <td>555</td>\n",
       "      <td>1</td>\n",
       "    </tr>\n",
       "    <tr>\n",
       "      <th>319</th>\n",
       "      <td>706</td>\n",
       "      <td>Goodra</td>\n",
       "      <td>6</td>\n",
       "      <td>Dragon</td>\n",
       "      <td>NaN</td>\n",
       "      <td>2.0</td>\n",
       "      <td>150.5</td>\n",
       "      <td>90</td>\n",
       "      <td>100</td>\n",
       "      <td>70</td>\n",
       "      <td>110</td>\n",
       "      <td>150</td>\n",
       "      <td>80</td>\n",
       "      <td>600</td>\n",
       "      <td>0</td>\n",
       "    </tr>\n",
       "    <tr>\n",
       "      <th>5</th>\n",
       "      <td>1020</td>\n",
       "      <td>Gouging Fire</td>\n",
       "      <td>9</td>\n",
       "      <td>Fire</td>\n",
       "      <td>Dragon</td>\n",
       "      <td>3.5</td>\n",
       "      <td>590.0</td>\n",
       "      <td>105</td>\n",
       "      <td>115</td>\n",
       "      <td>121</td>\n",
       "      <td>65</td>\n",
       "      <td>93</td>\n",
       "      <td>91</td>\n",
       "      <td>590</td>\n",
       "      <td>0</td>\n",
       "    </tr>\n",
       "    <tr>\n",
       "      <th>235</th>\n",
       "      <td>790</td>\n",
       "      <td>Cosmoem</td>\n",
       "      <td>7</td>\n",
       "      <td>Psychic</td>\n",
       "      <td>NaN</td>\n",
       "      <td>0.1</td>\n",
       "      <td>999.9</td>\n",
       "      <td>43</td>\n",
       "      <td>29</td>\n",
       "      <td>131</td>\n",
       "      <td>29</td>\n",
       "      <td>131</td>\n",
       "      <td>37</td>\n",
       "      <td>400</td>\n",
       "      <td>1</td>\n",
       "    </tr>\n",
       "  </tbody>\n",
       "</table>\n",
       "</div>"
      ]
     },
     "execution_count": 43,
     "metadata": {},
     "output_type": "execute_result"
    }
   ],
   "execution_count": 43
  },
  {
   "cell_type": "markdown",
   "source": [
    "We didn't catch 4 legendaries! :(\n",
    "\n",
    "Notice how the errors are mostly some extreme versions of pokemons, which indeed look legendary.  \n",
    "\n",
    "Did you manage to catch them all?"
   ],
   "metadata": {
    "id": "3VpmU6TtKVYy"
   }
  },
  {
   "cell_type": "markdown",
   "source": [
    "______________________________________________________________________________\n",
    "\n",
    "This notebook is largely inspired (with some improvements) by a video featured on [Data Every Day](https://www.youtube.com/watch?v=3Fr1npNxkJk)."
   ],
   "metadata": {
    "id": "_gt2ycYdqGk-"
   }
  }
 ]
}
