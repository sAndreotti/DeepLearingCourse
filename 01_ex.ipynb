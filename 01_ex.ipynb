{
 "cells": [
  {
   "cell_type": "markdown",
   "id": "6eadf8f3a440b0c5",
   "metadata": {},
   "source": [
    "# Exercise 1\n",
    "## Authors: E. Vercesi; A. Dei Rossi, G. Dominici, S. Huber\n",
    "\n",
    "This Notebook is a guideline for Exercise 1.\n",
    "\n",
    "Exercises marked with a (*) are a bit more challenging."
   ]
  },
  {
   "cell_type": "markdown",
   "id": "13c19f1afe426669",
   "metadata": {},
   "source": [
    "## Lists\n",
    "Lists are one of the fundamental data structures in Python. They are used to store ordered collections of items. \n",
    "\n",
    "Given the following list (of fruits), learn how to \n",
    "1. Access elements: print the first and last element (which is the index of the first element?).\n",
    "2. Modify elements (e.g, change the third element \"cherry\" to \"pineapple\").\n",
    "3. Get the length of the list.\n",
    "4. Add one element (\"blueberry\") at the end.\n",
    "5. Remove one element (\"banana\"). Take care of what functions `pop` or `remove` return and what happens to the original list. What is the meaning of *in-place* method?\n",
    "6. Learn about the meaning of slicing, then slice your list (get all elements in between index 1 and 3 inclusive).\n",
    "7. Learn about the meaning of [list comprehension](https://docs.python.org/3/tutorial/datastructures.html#list-comprehensions) and filter your list of fruits by keeping only fruits starting with \"a\". (*)"
   ]
  },
  {
   "cell_type": "code",
   "id": "3ade4c133437e723",
   "metadata": {
    "jupyter": {
     "is_executing": true
    }
   },
   "source": [
    "fruits = [\"apple\", \"banana\", \"cherry\", \"orange\", \"avocado\"]\n",
    "\n",
    "## 1: print first and last element\n",
    "print(fruits[0])\n",
    "print(fruits[-1])\n",
    "\n",
    "## 2: \"cherry\" -> \"pineapple\"\n",
    "fruits[3]='pineapple'\n",
    "\n",
    "## 3: length\n",
    "print(len(fruits))\n",
    "\n",
    "## 4: add \"blueberry\" at the end\n",
    "fruits.append('blueberry')\n",
    "\n",
    "## 5: remove \"banana\"\n",
    "fruits.pop(1)\n",
    "\n",
    "## 6: slicing: get elements between index 1 and 3 inclusive\n",
    "print(fruits[1:4:1])\n",
    "\n",
    "## 7: list comprehension: filter fruits that start with \"a\"\n",
    "a_fruits = []\n",
    "print([a_fruits.append(element) for element in fruits if element[0]=='a'])"
   ],
   "outputs": [],
   "execution_count": null
  },
  {
   "cell_type": "markdown",
   "id": "a691145cbf354f65",
   "metadata": {},
   "source": [
    "## Numpy\n",
    "NumPy is a fundamental Python library for numerical and scientific computing. It provides support for working with large, multi-dimensional arrays and matrices, as well as a collection of mathematical functions to operate on these arrays efficiently. \n",
    "In this part, we will start learning some numpy basics. Before continuing, make sure you have numpy installed in your virtual environment."
   ]
  },
  {
   "cell_type": "code",
   "id": "f10ff783313245d1",
   "metadata": {
    "ExecuteTime": {
     "end_time": "2024-10-14T12:07:40.484489Z",
     "start_time": "2024-10-02T08:21:22.394124Z"
    }
   },
   "source": [
    "import numpy as np"
   ],
   "outputs": [],
   "execution_count": 3
  },
  {
   "cell_type": "markdown",
   "id": "fe61d4815f5af551",
   "metadata": {},
   "source": [
    "### Create numpy arrays\n",
    "\n",
    "Create numpy arrays out of:\n",
    "- list (And try to change the value of the element in position [1, 1] from 5 to 10)\n",
    "- tuple\n",
    "- set (*)\n",
    "\n",
    "and print the shape and the `dtype` of the arrays. Do you notice anything unexpected? ."
   ]
  },
  {
   "cell_type": "code",
   "execution_count": 3,
   "id": "7a3318cb03fa4224",
   "metadata": {
    "ExecuteTime": {
     "end_time": "2024-10-14T12:07:40.487515Z",
     "start_time": "2024-09-12T08:28:17.171744Z"
    }
   },
   "outputs": [
    {
     "name": "stdout",
     "output_type": "stream",
     "text": [
      "[[1 2 3]\n",
      " [4 5 6]]\n",
      "[1 2 3]\n",
      "{1, 2, 3}\n"
     ]
    }
   ],
   "source": [
    "## 1: list\n",
    "my_list = [[1, 2, 3], [4, 5, 6]]\n",
    "print(np.array(my_list))\n",
    "\n",
    "## 2: tuple\n",
    "my_tuple = (1, 2, 3)\n",
    "print(np.array(my_tuple))\n",
    "\n",
    "## 3: set\n",
    "my_set = {1, 2, 3}\n",
    "print(np.array(my_set))\n"
   ]
  },
  {
   "cell_type": "markdown",
   "id": "5fb42413bd4c908c",
   "metadata": {},
   "source": [
    "Check functions [`np.arange`](https://numpy.org/doc/stable/reference/generated/numpy.arange.html#numpy.arange) and [`np.linspace`](https://numpy.org/doc/stable/reference/generated/numpy.linspace.html) and create vectors of size (3, 4) ([`np.reshape`](https://numpy.org/doc/stable/reference/generated/numpy.reshape.html)) with values from 0 to 11 using both functions.  "
   ]
  },
  {
   "cell_type": "code",
   "execution_count": 4,
   "id": "3eb755e5e8d582de",
   "metadata": {
    "ExecuteTime": {
     "end_time": "2024-10-14T12:07:40.487720Z",
     "start_time": "2024-09-13T13:06:16.573999Z"
    }
   },
   "outputs": [
    {
     "name": "stdout",
     "output_type": "stream",
     "text": [
      "[ 0  1  2  3  4  5  6  7  8  9 10 11]\n",
      "[ 0  1  2  3  4  5  6  7  8  9 10 11]\n",
      "[[ 0  1  2  3]\n",
      " [ 4  5  6  7]\n",
      " [ 8  9 10 11]]\n"
     ]
    }
   ],
   "source": [
    "# np.arange\n",
    "print(np.arange(12, dtype=np.uint8))\n",
    "\n",
    "# np.linspace\n",
    "arr = np.linspace(0, 11, 12, dtype=np.uint8)\n",
    "print(arr)\n",
    "arr = np.reshape(a=arr, newshape=(3,4))\n",
    "print(arr)"
   ]
  },
  {
   "cell_type": "markdown",
   "id": "e907a65b9222aa2c",
   "metadata": {},
   "source": [
    "### Slicing\n",
    "\n",
    "Take the above array of dimension (3, 4), and access (see [slicing](https://numpy.org/doc/stable/user/basics.indexing.html)):\n",
    "1) element in position [1,2].\n",
    "2) the third row.\n",
    "3) the third column.\n",
    "4) the 2x2 sub-matrix ranging in between the second and third row and first and second column."
   ]
  },
  {
   "cell_type": "code",
   "execution_count": 5,
   "id": "611910278d8d43a6",
   "metadata": {
    "ExecuteTime": {
     "end_time": "2024-10-14T12:07:40.487805Z",
     "start_time": "2024-09-12T14:38:48.729193Z"
    }
   },
   "outputs": [
    {
     "name": "stdout",
     "output_type": "stream",
     "text": [
      "6\n",
      "[[ 8  9 10 11]]\n",
      "[ 2  6 10]\n",
      "[[ 5  6]\n",
      " [ 9 10]]\n"
     ]
    }
   ],
   "source": [
    "## 1: access element\n",
    "print(arr[1,2])\n",
    "\n",
    "## 2: access row\n",
    "print(arr[2:])\n",
    "\n",
    "## 3: access column\n",
    "print(arr[..., 2])\n",
    "\n",
    "## 4: sub-matrix\n",
    "print(arr[1:3, 0:2])"
   ]
  },
  {
   "cell_type": "markdown",
   "id": "33ef4e084c586c85",
   "metadata": {},
   "source": [
    "### Random arrays\n",
    "Create random multidimensionals array and inspect their shape. Try different combinations of dimensions and different distributions (normal, uniform)\n",
    "\n",
    "1) Create a random array of size 4 of uniform floating point numbers in the interval [0, 1).\n",
    "2) Create a random array of size (3, 2) of uniform floating point numbers in the interval [0, 5).\n",
    "3) Create a random array of size (2, 1, 2) of integers in the interval [10, 20].\n",
    "4) Create a random array of size 10 over the normal distribution, mean 3 and std dev 2."
   ]
  },
  {
   "cell_type": "code",
   "execution_count": 6,
   "id": "286b556988670e1e",
   "metadata": {
    "ExecuteTime": {
     "end_time": "2024-10-14T12:07:40.488012Z",
     "start_time": "2024-09-13T13:09:01.315140Z"
    }
   },
   "outputs": [
    {
     "name": "stdout",
     "output_type": "stream",
     "text": [
      "[[0.97521739 0.42307352 0.44664472 0.45245959]]\n",
      "[[0.63853745 0.79271576]\n",
      " [3.40184091 0.36994119]\n",
      " [4.42149689 4.88966212]]\n",
      "[[[17 10]]\n",
      "\n",
      " [[11 14]]]\n",
      "[2.84775925 4.29161285 2.35082696 0.91608218 2.29878632 3.53481497\n",
      " 3.47419487 5.06612734 1.13615473 4.49741068]\n"
     ]
    }
   ],
   "source": [
    "## 1: \n",
    "print(np.random.rand(1,4))\n",
    "\n",
    "## 2: \n",
    "print(np.random.uniform(low=0, high=5, size=(3,2)))\n",
    "\n",
    "## 3: \n",
    "print(np.random.randint(low=10, high=20, size=(2, 1, 2)))\n",
    "\n",
    "## 4:\n",
    "print(3 + 2 * np.random.standard_normal(size=10))"
   ]
  },
  {
   "cell_type": "markdown",
   "id": "5d07c1af00ba053",
   "metadata": {},
   "source": [
    "### Copy arrays\n",
    "\n",
    "Please have a look at [`np.copy`](https://numpy.org/doc/stable/reference/generated/numpy.copy.html). \n",
    "1) Create a vector $v$ of size 3, copy it to a new vector $w$, change one entry of vector $w$ and make sure that $v$ is not affected.\n",
    "2) What if we wanted to change vector $v$ when changing the entries of $w$? "
   ]
  },
  {
   "cell_type": "code",
   "execution_count": 7,
   "id": "3761a9d50a9b219d",
   "metadata": {},
   "outputs": [
    {
     "name": "stdout",
     "output_type": "stream",
     "text": [
      "[0 1 2]\n",
      "[2 1 2]\n",
      "[0 1 2]\n",
      "\n",
      "[0 1 2]\n",
      "[2 1 2]\n",
      "[2 1 2]\n"
     ]
    }
   ],
   "source": [
    "## 1: Create vector v, copy it to w, change w and make sure v is unaltered.\n",
    "v = np.arange(3)\n",
    "print(v)\n",
    "w = v.copy()\n",
    "w[0] = 2\n",
    "print(w)\n",
    "print(v)\n",
    "\n",
    "print()\n",
    "## 2: Create vector v, copy it to w, change w and make sure v is altered as well.\n",
    "v = np.arange(3)\n",
    "print(v)\n",
    "w = v\n",
    "w[0] = 2\n",
    "print(w)\n",
    "print(v)"
   ]
  },
  {
   "cell_type": "markdown",
   "id": "a031a17e19749620",
   "metadata": {},
   "source": [
    "### Element-wise functions and broadcasting\n",
    "\n",
    "1) Given $v = [1, 2, 3], w = [4, 5, 6]$ compute $v - w$, that is, element-wise subtraction. \n",
    "\n",
    "2) What happens if $v = [1, 2]$? \n",
    "\n",
    "3) set $\\lambda=3$ and perform $\\lambda w$. Why can't you use as variable name the word \"lambda\"?\n",
    " \n",
    "4) And if $v = \\begin{bmatrix} 4 & 7 & 6 \\\\ 5 & 8 & 9 \\end{bmatrix}$ (shape (2, 3)) and you want to subtract $w$ to all the rows of $v$? (Read carefully [broadcasting](https://numpy.org/doc/stable/user/basics.broadcasting.html)) (*)\n",
    "\n",
    "5) And if $v = \\begin{bmatrix} 4 & 5 \\\\ 7 & 8 \\\\ 6 & 9 \\end{bmatrix}$ (shape (3, 2)) and you want to subtract $w$ to all the columns of $v$? (See [`np.newaxis`](https://stackoverflow.com/a/41267079), `np.vstack` or `.T` transpose operator) (*)\n",
    "\n"
   ]
  },
  {
   "cell_type": "code",
   "execution_count": 8,
   "id": "a847431f77c7f798",
   "metadata": {
    "ExecuteTime": {
     "end_time": "2024-10-14T12:07:40.488122Z",
     "start_time": "2024-09-13T13:14:22.958332Z"
    }
   },
   "outputs": [
    {
     "name": "stdout",
     "output_type": "stream",
     "text": [
      "[-3 -3 -3]\n",
      "[12 15 18]\n",
      "[[ 0 -2  0]\n",
      " [-1 -3 -3]]\n",
      "[[ 0 -2  0]\n",
      " [-1 -3 -3]]\n"
     ]
    }
   ],
   "source": [
    "v = np.array([1, 2, 3])\n",
    "w = np.array([4, 5, 6])\n",
    "\n",
    "## 1: Perform v - w using numpy arrays\n",
    "print(v-w)\n",
    "\n",
    "## 2: v is smaller, what does v - w do?\n",
    "v2 = np.array([1, 2])\n",
    "#print(v2-w) error on dimensions\n",
    "\n",
    "## 3: Multiply all entries of w by lambda = 3.\n",
    "print(3*w)\n",
    "\n",
    "## 4: v is higher dimensional, subtract w from all the rows of v.\n",
    "v4 = np.array([[4, 7, 6], [5, 8, 9]])\n",
    "print(v4-w)\n",
    "\n",
    "## 5: v is higher dimensional, subtract w from all the columns of v.\n",
    "v5 = np.array([[4, 5], [7, 8], [6, 9]])\n",
    "print(w-v5.T)"
   ]
  },
  {
   "cell_type": "markdown",
   "id": "a2446822fcf0acf8",
   "metadata": {},
   "source": [
    "### Max, min, sum, along different axis\n",
    "\n",
    "1) Get the max value in the matrix $v = \\begin{bmatrix} 1 & 5 & 3 \\\\ 3 & 4 & 7 \\end{bmatrix}$.\n",
    "2) Get the max value in the matrix $v$ along the columns (see [axis](https://www.pythonpool.com/numpy-axis/)). Predict the shape of the result vector.\n",
    "3) Get the max value in the matrix $v$ along the rows. Predict the shape of the result vector.\n",
    "4) Create a random array of shape (2, 3, 4) and get the min along axis 1. Predict the shape of the result and understand what is going on. (*)\n",
    "\n"
   ]
  },
  {
   "cell_type": "code",
   "execution_count": 9,
   "id": "1eba5922244c5997",
   "metadata": {
    "ExecuteTime": {
     "end_time": "2024-10-14T12:07:40.488181Z",
     "start_time": "2024-09-13T13:16:03.945439Z"
    }
   },
   "outputs": [
    {
     "name": "stdout",
     "output_type": "stream",
     "text": [
      "7\n",
      "[5 7]\n",
      "[3 5 7]\n",
      "[[0.08314093 0.16048238 0.91053787 0.49236726]\n",
      " [0.45942165 0.11045122 0.1791001  0.02837168]]\n"
     ]
    }
   ],
   "source": [
    "v = np.array([[1, 5, 3], [3, 4, 7]])\n",
    "\n",
    "## 1: get max value.\n",
    "print(np.max(v))\n",
    "\n",
    "## 2: get max value along the columns.\n",
    "print(np.max(v, axis=1))\n",
    "\n",
    "## 3: get the max value along the rows.\n",
    "print(np.max(v, axis=0))\n",
    "\n",
    "## 4: Create a random array of shape (2, 3, 4) and get the min along axis = 1. Predict the shape of the output matrix.\n",
    "arr = np.random.rand(2, 3, 4)\n",
    "print(np.min(a=arr, axis=1))"
   ]
  },
  {
   "cell_type": "markdown",
   "id": "c87dac73669cd268",
   "metadata": {},
   "source": [
    "### `np.matmul`, `np.dot`, `@` and `*`\n",
    "\n",
    "Learn the difference between these operands. (Keep in mind that `np.dot` does not get used frequently for high dimensional vectors).\n",
    "\n",
    "1. Take the dot product between two integer random vectors of size 3. Can you do it in multiple ways? In case you can, check that the result is the same.\n",
    "2. Take the element-wise product (Hadamard product) between two integer random matrices of size (4, 2). Predict the shape of the result.\n",
    "3. Take the dot product between an integer random matrix of size (3, 2) and an integer random vector of size (2). Predict the shape of the result. Can you do it in multiple ways? In case you can, check that the result is the same.\n",
    "4. Take the dot product between an integer random matrix of size (4, 3) and another integer random matrix of size (3, 2). Predict the shape of the result. Can you do it in multiple ways? In case you can, check that the result is the same.\n",
    "5. (Optional) see the difference between the `np.dot` and `np.matmul` of two integer random matrices of shape (2, 3, 3). Predict the shape of the two results. (*)\n"
   ]
  },
  {
   "cell_type": "code",
   "execution_count": 10,
   "id": "afef90beac636a80",
   "metadata": {
    "ExecuteTime": {
     "end_time": "2024-10-14T12:07:40.488236Z",
     "start_time": "2024-09-12T14:27:06.303792Z"
    }
   },
   "outputs": [
    {
     "name": "stdout",
     "output_type": "stream",
     "text": [
      "45\n",
      "[[15  8]\n",
      " [ 5 30]\n",
      " [10 54]\n",
      " [12  6]]\n",
      "[[10  9]\n",
      " [45  6]\n",
      " [10  6]\n",
      " [20 15]]\n",
      "[[129 105]\n",
      " [ 62  54]\n",
      " [145 117]\n",
      " [ 54  42]]\n",
      "[[[[111  34 106]\n",
      "   [ 44  60  60]]\n",
      "\n",
      "  [[127  88 125]\n",
      "   [ 56  61  94]]\n",
      "\n",
      "  [[126  44 122]\n",
      "   [ 55  66  69]]]\n",
      "\n",
      "\n",
      " [[[ 77  38  78]\n",
      "   [ 44  36  44]]\n",
      "\n",
      "  [[138  72 134]\n",
      "   [ 58  70  90]]\n",
      "\n",
      "  [[145  80 139]\n",
      "   [ 54  75 100]]]]\n",
      "[[[111  34 106]\n",
      "  [127  88 125]\n",
      "  [126  44 122]]\n",
      "\n",
      " [[ 44  36  44]\n",
      "  [ 58  70  90]\n",
      "  [ 54  75 100]]]\n"
     ]
    }
   ],
   "source": [
    "## 1: take dot product of 1 dimensional vectors.\n",
    "v = np.random.randint(1, high=10, size=3)\n",
    "w = np.random.randint(1, high=10, size=3)\n",
    "print(np.dot(v, w))\n",
    "\n",
    "## 2: take the Hadamard product of two matrices.\n",
    "v = np.random.randint(1, high=10, size=(4,2))\n",
    "w = np.random.randint(1, high=10, size=(4,2))\n",
    "print(np.multiply(v, w))\n",
    "\n",
    "## 3: take dot product matrix-vector.\n",
    "v = np.random.randint(1, high=10, size=(4,2))\n",
    "w = np.random.randint(1, high=10, size=2)\n",
    "print(v*w)\n",
    "\n",
    "## 4: take dot product matrix-matrix.\n",
    "v = np.random.randint(1, high=10, size=(4,3))\n",
    "w = np.random.randint(1, high=10, size=(3,2))\n",
    "print(np.dot(v,w))\n",
    "\n",
    "## 5: np.dot vs np.matmul. \n",
    "v = np.random.randint(1, high=10, size=(2, 3, 3))\n",
    "w = np.random.randint(1, high=10, size=(2, 3, 3))\n",
    "print(np.dot(v,w))\n",
    "print(np.matmul(v,w))"
   ]
  },
  {
   "cell_type": "markdown",
   "id": "690584d32ab976c7",
   "metadata": {},
   "source": [
    "### Apply functions to vectors\n",
    "\n",
    "Define a simple python function that computes $f(x,y) = xy + x + y$ for integer $x,y\\in\\mathbb{Z}$. \n",
    "Use numpy to apply such a function to two vectors of size 3, element by element. \n",
    "\n",
    "e.g. $v = [1,2,3]$, $w=[0,3,4]$, $f(v,w) = [1, 11, 19]$\n",
    "\n",
    "Hint: see [`np.vectorize`](https://numpy.org/doc/stable/reference/generated/numpy.vectorize.html)"
   ]
  },
  {
   "cell_type": "code",
   "execution_count": 12,
   "id": "3fc5ab3a1c46b083",
   "metadata": {
    "ExecuteTime": {
     "end_time": "2024-10-14T12:07:40.488295Z",
     "start_time": "2024-09-12T14:33:20.482615Z"
    }
   },
   "outputs": [
    {
     "name": "stdout",
     "output_type": "stream",
     "text": [
      "[ 1 11 19]\n"
     ]
    }
   ],
   "source": [
    "## Define function f\n",
    "def f(x: int, y: int) -> int:\n",
    "    return x*y + x + y\n",
    "\n",
    "## Apply function f to vectors v, w element by element\n",
    "vfunc = np.vectorize(f)\n",
    "res = vfunc([1,2,3], [0,3,4])\n",
    "print(res)"
   ]
  },
  {
   "cell_type": "markdown",
   "id": "269ff1e57e3cce08",
   "metadata": {},
   "source": [
    "### Filtering\n",
    "\n",
    "Create a random vector of integers in the interval [0, 10) of size 10, and filter all elements larger than 4 and less than 8 and set them to 20. Try to do it using both [boolean masks](https://www.programiz.com/python-programming/numpy/boolean-indexing) and [`np.where`](https://numpy.org/doc/stable/reference/generated/numpy.where.html)"
   ]
  },
  {
   "cell_type": "code",
   "execution_count": 37,
   "id": "e3fa9a6ec6c7d959",
   "metadata": {
    "ExecuteTime": {
     "end_time": "2024-10-14T12:07:40.488354Z",
     "start_time": "2024-09-13T13:21:28.999983Z"
    }
   },
   "outputs": [
    {
     "name": "stdout",
     "output_type": "stream",
     "text": [
      "[5 5 0 1 0 4 1 7 1 5]\n",
      "[20 20  0  1  0  4  1 20  1 20]\n",
      "[20, 20, 20, 20]\n"
     ]
    }
   ],
   "source": [
    "## Filter elements in the interval [5, 8) and set them to 20\n",
    "arr = np.random.randint(low=0, high=10, size=10)\n",
    "res = arr.copy()\n",
    "print(arr)\n",
    "\n",
    "## 1: boolean masks.\n",
    "bool_mask = (res>4) & (res<8)\n",
    "res[bool_mask==True] = 20\n",
    "print(res)\n",
    "\n",
    "## 2: np.where.\n",
    "inter = arr.copy()\n",
    "inter = np.where(4<inter, inter, -inter)\n",
    "inter = np.where(8>inter, inter, -inter)\n",
    "res = [e*0+20 for e in inter if e<0]\n",
    "\n",
    "print(res)"
   ]
  },
  {
   "cell_type": "markdown",
   "id": "3a618e6b3861fa31",
   "metadata": {},
   "source": [
    "## The curse of dimensionality\n",
    "\n",
    "In this exercise you are going to experience the \"curse of dimensionality\": namely, data in a high dimensional space becomes increasingly sparse.\n",
    "\n",
    "We are going to visualize it graphically by plotting 10 random points in unit hypercubes of increasing dimensions (1, 2, 3)."
   ]
  },
  {
   "cell_type": "markdown",
   "id": "d4965585ce77150",
   "metadata": {},
   "source": [
    "1) To begin with, let us create a random vector of 10 data points uniformly distributed in the interval [0, 1). Plot this distribution using `matplotlib` see method `plt.scatter`.\n",
    "In order to scatter points, you need 2-dimensional points (axes $x,y$). In this case, just set the $y$ axis value to 0."
   ]
  },
  {
   "cell_type": "code",
   "execution_count": 38,
   "id": "c885a00a8df920de",
   "metadata": {
    "ExecuteTime": {
     "end_time": "2024-10-14T12:07:40.488408Z",
     "start_time": "2024-09-13T10:25:07.191217Z"
    }
   },
   "outputs": [],
   "source": [
    "import matplotlib.pyplot as plt"
   ]
  },
  {
   "cell_type": "code",
   "execution_count": 45,
   "id": "70f595d3c9aeb90",
   "metadata": {
    "ExecuteTime": {
     "end_time": "2024-10-14T12:07:40.488460Z",
     "start_time": "2024-09-14T09:17:52.780744Z"
    }
   },
   "outputs": [
    {
     "data": {
      "text/plain": [
       "<matplotlib.collections.PathCollection at 0x7a173298a760>"
      ]
     },
     "execution_count": 45,
     "metadata": {},
     "output_type": "execute_result"
    },
    {
     "data": {
      "image/png": "[encoded data removed]",
      "text/plain": [
       "<Figure size 640x480 with 1 Axes>"
      ]
     },
     "metadata": {},
     "output_type": "display_data"
    }
   ],
   "source": [
    "## 1: Create 10 points in 1 dimension, and plot them on a line.\n",
    "\n",
    "data1d = np.random.random(size=(10,1))  # Make sure its shape is (10, 1)\n",
    "plt.scatter(data1d, y=np.zeros(shape=(10,1)))"
   ]
  },
  {
   "cell_type": "markdown",
   "id": "34816f5cc630403",
   "metadata": {},
   "source": [
    "2) Then, do the same for a 2-dimensional space: create 10 random points in the 2-dimensional unit hypercube (a square), and plot them."
   ]
  },
  {
   "cell_type": "code",
   "execution_count": 52,
   "id": "3cc8a662c0cb7419",
   "metadata": {
    "ExecuteTime": {
     "end_time": "2024-10-14T12:07:40.489964Z",
     "start_time": "2024-09-13T16:25:19.566159Z"
    }
   },
   "outputs": [
    {
     "data": {
      "text/plain": [
       "<matplotlib.collections.PathCollection at 0x7a17326bdb50>"
      ]
     },
     "execution_count": 52,
     "metadata": {},
     "output_type": "execute_result"
    },
    {
     "data": {
      "image/png": "[encoded data removed]",
      "text/plain": [
       "<Figure size 640x480 with 1 Axes>"
      ]
     },
     "metadata": {},
     "output_type": "display_data"
    }
   ],
   "source": [
    "## 2: Create 10 points in 2 dimensions, and plot them in the 2D plane.\n",
    "\n",
    "data2d = np.random.random(size=(10,2))  # Make sure its shape is (10, 2)\n",
    "plt.scatter(x=data2d[:, 0], y=data2d[:, 1])"
   ]
  },
  {
   "cell_type": "markdown",
   "id": "d72d81c31af22992",
   "metadata": {},
   "source": [
    "What do you notice? Do you think points are more spread out in the 2-dimensional or in the 1-dimensional hypercube?"
   ]
  },
  {
   "cell_type": "markdown",
   "id": "1398e35aceda9043",
   "metadata": {},
   "source": [
    "3) Let us try also with the 3-dimensional space: create 10 random points in the 3-dimensional unit hypercube (a cube), and plot them using [`ax.scatter3D`](https://www.geeksforgeeks.org/3d-scatter-plotting-in-python-using-matplotlib/)."
   ]
  },
  {
   "cell_type": "code",
   "execution_count": 53,
   "id": "326f11e900bbdf07",
   "metadata": {
    "ExecuteTime": {
     "end_time": "2024-10-14T12:07:40.490107Z",
     "start_time": "2024-09-13T16:25:15.157692Z"
    }
   },
   "outputs": [
    {
     "data": {
      "text/plain": [
       "<mpl_toolkits.mplot3d.art3d.Path3DCollection at 0x7a173264ab80>"
      ]
     },
     "execution_count": 53,
     "metadata": {},
     "output_type": "execute_result"
    },
    {
     "data": {
      "image/png": "[encoded data removed]",
      "text/plain": [
       "<Figure size 1000x700 with 1 Axes>"
      ]
     },
     "metadata": {},
     "output_type": "display_data"
    }
   ],
   "source": [
    "## 3: Create 10 points in 3D, and plot them in the 3D plane.\n",
    "\n",
    "data3d = np.random.random(size=(10,3))  # Make sure its shape is (10, 3)\n",
    "\n",
    "# Creating figure\n",
    "fig = plt.figure(figsize = (10, 7))\n",
    "ax = plt.axes(projection =\"3d\")\n",
    " \n",
    "# Creating plot\n",
    "ax.scatter3D(data3d[:, 0], data3d[:, 1], data3d[:, 2], color = \"green\")"
   ]
  },
  {
   "cell_type": "markdown",
   "id": "2552cb661a19ecc5",
   "metadata": {},
   "source": [
    "What do you notice? Do you think points are more spread out in the 3-dimensional, 2-dimensional or 1-dimensional hypercube?"
   ]
  },
  {
   "cell_type": "markdown",
   "id": "e86fff05f7701287",
   "metadata": {},
   "source": [
    "Let us try to quantify numerically how distant from each other the points in the three hypercubes are. \n",
    "\n",
    "Write a function that, taken a list of 10 $k$-dimensional points (shape (10, $k$), for any $k\\in\\mathbb{N}$), computes the average pairwise distance between all pairs of points. (*) \n",
    "\n",
    "The distance between two $k$-dimensional points $x, y$ is given by the formula $dist(x, y) = \\sqrt{\\sum_{i=1}^k (x_i - y_i)^2}$, for $x,y\\in\\mathbb{R}^k$.\n",
    "\n",
    "The average pairwise distance of a list $v$ of 10 $k$-dimensional points is given by the formula: $\\frac{\\sum_{i=1}^{9} \\sum_{j=i+1}^{10} dist(v_i, v_j)}{\\sum_{i=1}^{9} \\sum_{j=i+1}^{10} 1}$. Notice that $v$ has shape (10, $k$), and $v_i, v_j$ have both shape $k$. \n",
    "\n",
    "Try to use numpy core functions and broadcasting when possible."
   ]
  },
  {
   "cell_type": "code",
   "execution_count": 54,
   "id": "76883d3519e4b172",
   "metadata": {
    "ExecuteTime": {
     "end_time": "2024-10-14T12:07:40.490185Z",
     "start_time": "2024-09-13T16:19:13.768900Z"
    }
   },
   "outputs": [],
   "source": [
    "def dist(x: np.array, y: np.array) -> float:\n",
    "    d = x-y\n",
    "    squared_diff = d**2\n",
    "    sum_squared = np.sum(squared_diff)\n",
    "    dist = np.sqrt(sum_squared)\n",
    "\n",
    "    return dist\n",
    "\n",
    "\n",
    "def avg_pairwise_distance(v: np.array) -> float:\n",
    "    n = len(v)\n",
    "    total_pairs = n*(n-1)/2\n",
    "    total_distance = 0\n",
    "\n",
    "    for i in range(n - 1):\n",
    "        for j in range(i + 1, n):\n",
    "            total_distance += dist(v[i], v[j])\n",
    "\n",
    "    average_distance = total_distance / total_pairs\n",
    "\n",
    "    return average_distance"
   ]
  },
  {
   "cell_type": "markdown",
   "id": "2bf4233a82c0770d",
   "metadata": {},
   "source": [
    "Use the above function to compute the average distance between points in `data1d`, between points in `data2d` and between points in `data3d`. Which one is larger?"
   ]
  },
  {
   "cell_type": "code",
   "execution_count": 55,
   "id": "401120275a135b59",
   "metadata": {},
   "outputs": [
    {
     "name": "stdout",
     "output_type": "stream",
     "text": [
      "0.2917111616464051\n",
      "0.409318297057647\n",
      "0.6824491704960831\n"
     ]
    }
   ],
   "source": [
    "print(avg_pairwise_distance(data1d))\n",
    "print(avg_pairwise_distance(data2d))\n",
    "print(avg_pairwise_distance(data3d))"
   ]
  }
 ],
 "metadata": {
  "kernelspec": {
   "display_name": "Python 3",
   "language": "python",
   "name": "python3"
  },
  "language_info": {
   "codemirror_mode": {
    "name": "ipython",
    "version": 3
   },
   "file_extension": ".py",
   "mimetype": "text/x-python",
   "name": "python",
   "nbconvert_exporter": "python",
   "pygments_lexer": "ipython3",
   "version": "3.9.18"
  }
 },
 "nbformat": 4,
 "nbformat_minor": 5
}
