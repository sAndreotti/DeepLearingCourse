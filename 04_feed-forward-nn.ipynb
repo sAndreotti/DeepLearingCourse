{
 "metadata": {
  "kernelspec": {
   "language": "python",
   "display_name": "Python 3",
   "name": "python3"
  },
  "language_info": {
   "name": "python",
   "version": "3.10.14",
   "mimetype": "text/x-python",
   "codemirror_mode": {
    "name": "ipython",
    "version": 3
   },
   "pygments_lexer": "ipython3",
   "nbconvert_exporter": "python",
   "file_extension": ".py"
  },
  "kaggle": {
   "accelerator": "none",
   "dataSources": [],
   "dockerImageVersionId": 30775,
   "isInternetEnabled": true,
   "language": "python",
   "sourceType": "notebook",
   "isGpuEnabled": false
  }
 },
 "nbformat_minor": 4,
 "nbformat": 4,
 "cells": [
  {
   "cell_type": "markdown",
   "source": "# Feedforward Neural Network with PyTorch for the MNIST dataset\n\nProbably, you need GPUs for this notebook\n\n## Packages",
   "metadata": {}
  },
  {
   "cell_type": "code",
   "source": "#!pip install torch==2.4 # Run just once\nimport torch\nimport torch.nn as nn\nimport torch.nn.functional as F\nimport torchvision.datasets as datasets\nfrom torchvision import transforms\nimport matplotlib.pyplot as plt\nfrom torch.utils.data import DataLoader\nimport torch.optim as optim",
   "metadata": {
    "execution": {
     "iopub.status.busy": "2024-10-03T16:54:16.310758Z",
     "iopub.execute_input": "2024-10-03T16:54:16.311164Z",
     "iopub.status.idle": "2024-10-03T16:54:19.506640Z",
     "shell.execute_reply.started": "2024-10-03T16:54:16.311125Z",
     "shell.execute_reply": "2024-10-03T16:54:19.505408Z"
    },
    "trusted": true,
    "ExecuteTime": {
     "end_time": "2024-10-16T15:22:31.379046Z",
     "start_time": "2024-10-16T15:22:31.373571Z"
    }
   },
   "outputs": [],
   "execution_count": 30
  },
  {
   "cell_type": "markdown",
   "source": "## Dataset\nFirst, we load the [MNIST dataset](https://pytorch.org/vision/main/generated/torchvision.datasets.MNIST.html) directly from PyTorch, then we inspect it, as well as its elements",
   "metadata": {}
  },
  {
   "cell_type": "code",
   "source": "dataset_train = datasets.MNIST('.', train=True, download=True, transform=transforms.ToTensor()) # download = True just once\ndataset_test = datasets.MNIST('.', train=False, download=True, transform=transforms.ToTensor())\n\nprint(\"We have \", len(dataset_train), \"train samples\")\nprint(\"We have \", len(dataset_test), \"validation/test samples\")\n\nprint(\"Type of these elements:\", type(dataset_train), type(dataset_test))\n\nprint(\"\\n\")\n\n# Get an item and its class\nk = torch.randint(1, len(dataset_train), (1,))\nk = int(k)\nX, y = dataset_train[k]\n\n# Show just one item\nprint(\"An example: \")\nplt.imshow(X.squeeze(), cmap=\"gray\")\nplt.show()",
   "metadata": {
    "_uuid": "8f6a5da5-69e7-4614-a084-7cd35ecbd901",
    "_cell_guid": "8f902d51-ee11-4bb2-8aba-c180178f2b51",
    "collapsed": false,
    "jupyter": {
     "outputs_hidden": false
    },
    "execution": {
     "iopub.status.busy": "2024-10-03T16:54:19.508814Z",
     "iopub.execute_input": "2024-10-03T16:54:19.509368Z",
     "iopub.status.idle": "2024-10-03T16:54:33.438314Z",
     "shell.execute_reply.started": "2024-10-03T16:54:19.509324Z",
     "shell.execute_reply": "2024-10-03T16:54:33.436998Z"
    },
    "trusted": true,
    "ExecuteTime": {
     "end_time": "2024-10-16T15:22:31.474479Z",
     "start_time": "2024-10-16T15:22:31.395164Z"
    }
   },
   "outputs": [
    {
     "name": "stdout",
     "output_type": "stream",
     "text": [
      "We have  60000 train samples\n",
      "We have  10000 validation/test samples\n",
      "Type of these elements: <class 'torchvision.datasets.mnist.MNIST'> <class 'torchvision.datasets.mnist.MNIST'>\n",
      "\n",
      "\n",
      "An example: \n"
     ]
    },
    {
     "data": {
      "text/plain": [
       "<Figure size 640x480 with 1 Axes>"
      ],
      "image/png": "[encoded data removed]"
     },
     "metadata": {},
     "output_type": "display_data"
    }
   ],
   "execution_count": 31
  },
  {
   "cell_type": "markdown",
   "source": "**Question**: what happens if you remove the `squeeze` function?\n\nNow we perform what we called `dataset_test` in validation and test",
   "metadata": {}
  },
  {
   "cell_type": "code",
   "source": [
    "dataset_validation, dataset_test = torch.utils.data.random_split(dataset_test, [0.5, 0.5])\n",
    "print(\"We have\", len(dataset_validation), \"items for validation and\", len(dataset_test), \"items for test\")"
   ],
   "metadata": {
    "execution": {
     "iopub.status.busy": "2024-10-03T16:54:33.440140Z",
     "iopub.execute_input": "2024-10-03T16:54:33.440639Z",
     "iopub.status.idle": "2024-10-03T16:54:33.458654Z",
     "shell.execute_reply.started": "2024-10-03T16:54:33.440586Z",
     "shell.execute_reply": "2024-10-03T16:54:33.456657Z"
    },
    "trusted": true,
    "ExecuteTime": {
     "end_time": "2024-10-16T15:22:31.903516Z",
     "start_time": "2024-10-16T15:22:31.900832Z"
    }
   },
   "outputs": [
    {
     "name": "stdout",
     "output_type": "stream",
     "text": [
      "We have 5000 items for validation and 5000 items for test\n"
     ]
    }
   ],
   "execution_count": 32
  },
  {
   "cell_type": "markdown",
   "source": "We are ready now for the dataloaders",
   "metadata": {}
  },
  {
   "cell_type": "code",
   "source": [
    "batch_size = 64 # Reduce it in case you need it\n",
    "\n",
    "train_loader = DataLoader(dataset_train, batch_size=batch_size)\n",
    "validation_loader = DataLoader(dataset_validation, batch_size=len(dataset_validation))\n",
    "test_loader = DataLoader(dataset_test, batch_size=len(dataset_test))"
   ],
   "metadata": {
    "execution": {
     "iopub.status.busy": "2024-10-03T16:54:33.461595Z",
     "iopub.execute_input": "2024-10-03T16:54:33.462100Z",
     "iopub.status.idle": "2024-10-03T16:54:33.468257Z",
     "shell.execute_reply.started": "2024-10-03T16:54:33.462047Z",
     "shell.execute_reply": "2024-10-03T16:54:33.467076Z"
    },
    "trusted": true,
    "ExecuteTime": {
     "end_time": "2024-10-16T15:22:32.229782Z",
     "start_time": "2024-10-16T15:22:32.224513Z"
    }
   },
   "outputs": [],
   "execution_count": 33
  },
  {
   "cell_type": "markdown",
   "source": "## Model\n\nin this part, we want to define the model. In our case, we want to have 2 hidden layers. Input and output dimensions are given by the problem",
   "metadata": {}
  },
  {
   "cell_type": "code",
   "source": "class Model(nn.Module):\n    def __init__(self, input_size, d_1, d_2, output_size):\n        super(Model, self).__init__()\n        self.fc1 = nn.Linear(input_size, d_1)\n        self.fc2 = nn.Linear(d_1, d_2)\n        self.fc3 = nn.Linear(d_2, output_size)\n\n    def forward(self, x):\n        x = self.fc1(x)\n        x = F.relu(x)\n        x = self.fc2(x)\n        x = F.relu(x)\n        x = self.fc3(x)\n        return x\n\n# Hyperparameters\nd_1 = 100\nd_2 = 50\nmodel = Model(28*28, d_1, d_2, 10)",
   "metadata": {
    "execution": {
     "iopub.status.busy": "2024-10-03T16:54:33.469912Z",
     "iopub.execute_input": "2024-10-03T16:54:33.470402Z",
     "iopub.status.idle": "2024-10-03T16:54:33.487177Z",
     "shell.execute_reply.started": "2024-10-03T16:54:33.470349Z",
     "shell.execute_reply": "2024-10-03T16:54:33.485329Z"
    },
    "trusted": true,
    "ExecuteTime": {
     "end_time": "2024-10-16T15:22:32.536568Z",
     "start_time": "2024-10-16T15:22:32.533603Z"
    }
   },
   "outputs": [],
   "execution_count": 34
  },
  {
   "cell_type": "code",
   "source": "print(model)",
   "metadata": {
    "execution": {
     "iopub.status.busy": "2024-10-03T16:54:33.489876Z",
     "iopub.execute_input": "2024-10-03T16:54:33.490731Z",
     "iopub.status.idle": "2024-10-03T16:54:33.500307Z",
     "shell.execute_reply.started": "2024-10-03T16:54:33.490658Z",
     "shell.execute_reply": "2024-10-03T16:54:33.497513Z"
    },
    "trusted": true,
    "ExecuteTime": {
     "end_time": "2024-10-16T15:22:32.844995Z",
     "start_time": "2024-10-16T15:22:32.843266Z"
    }
   },
   "outputs": [
    {
     "name": "stdout",
     "output_type": "stream",
     "text": [
      "Model(\n",
      "  (fc1): Linear(in_features=784, out_features=100, bias=True)\n",
      "  (fc2): Linear(in_features=100, out_features=50, bias=True)\n",
      "  (fc3): Linear(in_features=50, out_features=10, bias=True)\n",
      ")\n"
     ]
    }
   ],
   "execution_count": 35
  },
  {
   "cell_type": "markdown",
   "source": "**Question** : After printing the form, you may have noticed that something is missing. What is it?\n\nYu can print the model weights -- remember that, at the very beginning these are not trained",
   "metadata": {}
  },
  {
   "cell_type": "code",
   "source": "for key, value in model.state_dict().items():\n    print(key, value)",
   "metadata": {
    "execution": {
     "iopub.status.busy": "2024-10-03T16:54:33.502658Z",
     "iopub.execute_input": "2024-10-03T16:54:33.503163Z",
     "iopub.status.idle": "2024-10-03T16:54:33.574656Z",
     "shell.execute_reply.started": "2024-10-03T16:54:33.503105Z",
     "shell.execute_reply": "2024-10-03T16:54:33.572639Z"
    },
    "trusted": true,
    "ExecuteTime": {
     "end_time": "2024-10-16T15:22:33.151686Z",
     "start_time": "2024-10-16T15:22:33.147162Z"
    }
   },
   "outputs": [
    {
     "name": "stdout",
     "output_type": "stream",
     "text": [
      "fc1.weight tensor([[-0.0171, -0.0059,  0.0211,  ...,  0.0066,  0.0218,  0.0320],\n",
      "        [-0.0097,  0.0061,  0.0086,  ..., -0.0219,  0.0016,  0.0024],\n",
      "        [-0.0020, -0.0118, -0.0289,  ...,  0.0098,  0.0192, -0.0339],\n",
      "        ...,\n",
      "        [-0.0221, -0.0249,  0.0184,  ..., -0.0091, -0.0050, -0.0126],\n",
      "        [ 0.0128,  0.0185, -0.0076,  ...,  0.0300,  0.0170, -0.0210],\n",
      "        [ 0.0356,  0.0032,  0.0068,  ..., -0.0272,  0.0310, -0.0262]])\n",
      "fc1.bias tensor([-1.2159e-02, -3.0037e-02,  3.3552e-02, -1.8436e-02,  1.1016e-02,\n",
      "        -3.1194e-02,  1.9492e-02,  4.8242e-03,  2.0827e-02,  2.9838e-02,\n",
      "         1.6806e-02,  3.0876e-02,  3.1822e-02, -2.9825e-02, -7.3102e-03,\n",
      "         9.1264e-03,  1.2367e-02, -4.9669e-03, -3.4223e-02, -1.5726e-02,\n",
      "         1.1198e-02, -2.6960e-02,  1.0202e-02, -2.9426e-02,  1.5221e-02,\n",
      "        -2.0187e-02,  2.0896e-02, -2.5410e-02,  1.6973e-02,  6.2477e-03,\n",
      "         3.4349e-02,  3.2659e-02, -1.9575e-02,  2.1334e-05, -1.2080e-02,\n",
      "         2.9410e-02, -8.7671e-03, -6.9614e-04,  1.6212e-02,  2.4871e-02,\n",
      "         2.6932e-02, -1.2954e-02,  6.8178e-04,  1.9843e-03,  1.4334e-02,\n",
      "        -1.5561e-02, -9.9172e-03, -2.2625e-02, -2.9248e-02,  1.5289e-03,\n",
      "        -1.0219e-02, -8.0805e-03, -9.6031e-03,  1.6132e-02, -9.3619e-03,\n",
      "        -1.0629e-02, -3.3586e-03, -1.4155e-02,  2.3305e-02, -1.2411e-02,\n",
      "         2.0695e-02, -2.9443e-02,  3.2954e-02, -2.8212e-02,  2.6399e-03,\n",
      "         3.2142e-02, -4.0962e-03, -1.9389e-02, -1.5568e-02,  4.5223e-03,\n",
      "         6.3096e-04, -5.9710e-04, -2.4695e-02,  1.8591e-02, -3.3883e-02,\n",
      "        -7.5052e-03, -9.8938e-03,  3.1744e-02, -1.7687e-02, -3.3508e-02,\n",
      "         4.5827e-03,  2.4395e-02, -1.2078e-02,  4.3828e-03,  3.3082e-02,\n",
      "         3.0626e-02, -2.5394e-02,  9.9411e-03,  3.3584e-02,  3.4521e-02,\n",
      "        -7.1384e-03,  2.5350e-02,  1.2754e-02,  5.4349e-03,  1.6793e-02,\n",
      "        -3.0820e-02, -3.3953e-02, -8.0001e-04,  1.9277e-02, -2.8125e-02])\n",
      "fc2.weight tensor([[ 0.0928, -0.0748,  0.0941,  ...,  0.0792, -0.0070,  0.0503],\n",
      "        [-0.0477,  0.0189,  0.0144,  ...,  0.0818, -0.0176,  0.0101],\n",
      "        [ 0.0018,  0.0824, -0.0421,  ...,  0.0068, -0.0459,  0.0689],\n",
      "        ...,\n",
      "        [-0.0768, -0.0126, -0.0602,  ..., -0.0246,  0.0887, -0.0605],\n",
      "        [ 0.0521,  0.0344, -0.0321,  ..., -0.0420,  0.0409,  0.0035],\n",
      "        [-0.0846,  0.0378, -0.0784,  ...,  0.0092,  0.0888,  0.0488]])\n",
      "fc2.bias tensor([ 0.0386, -0.0774, -0.0104, -0.0200, -0.0802, -0.0477,  0.0067,  0.0324,\n",
      "         0.0372, -0.0768,  0.0089, -0.0980,  0.0442,  0.0628,  0.0128, -0.0829,\n",
      "         0.0137, -0.0967, -0.0364,  0.0156,  0.0618, -0.0788, -0.0022,  0.0305,\n",
      "        -0.0924, -0.0513,  0.0527, -0.0329,  0.0822,  0.0900, -0.0680,  0.0232,\n",
      "        -0.0063, -0.0905, -0.0514, -0.0097, -0.0871, -0.0625, -0.0777,  0.0276,\n",
      "        -0.0691,  0.0574, -0.0946,  0.0297,  0.0237,  0.0107, -0.0934,  0.0644,\n",
      "         0.0373, -0.0120])\n",
      "fc3.weight tensor([[-1.5827e-02,  1.2450e-01,  1.0350e-01, -7.3671e-02, -7.9413e-02,\n",
      "         -8.7330e-02, -5.4400e-02,  1.0905e-01, -1.2698e-01,  2.4251e-02,\n",
      "          8.2138e-02,  1.1779e-01,  6.8212e-02,  6.5554e-02,  1.0284e-01,\n",
      "          5.8270e-02, -1.2272e-01,  6.6921e-02,  7.9653e-02, -4.8872e-02,\n",
      "         -5.4055e-02, -4.4445e-02,  8.7151e-02, -6.2272e-02, -1.2513e-01,\n",
      "          6.6929e-02, -3.3876e-02, -1.2846e-01,  7.4197e-02, -9.0296e-02,\n",
      "         -3.8391e-03, -2.3465e-02, -4.0437e-02,  4.9393e-02, -7.1759e-02,\n",
      "         -1.2431e-01,  7.0473e-02, -7.5115e-02,  5.6258e-02,  9.2784e-02,\n",
      "         -6.2724e-02, -9.4336e-02, -6.6608e-02,  5.0425e-03,  3.6893e-02,\n",
      "         -5.4329e-02,  1.1798e-01,  1.1508e-01,  4.7517e-02,  7.2761e-02],\n",
      "        [ 2.8638e-02, -1.0643e-01,  1.6039e-03,  6.1682e-02, -3.4475e-02,\n",
      "         -5.4590e-02,  4.2737e-02,  1.0958e-01,  1.1958e-01,  3.6318e-03,\n",
      "          3.7706e-02, -2.8685e-02, -1.3921e-01,  1.2482e-01, -1.0904e-01,\n",
      "         -2.9905e-02,  2.0574e-03, -6.6460e-02,  4.5440e-02,  3.3965e-02,\n",
      "         -1.0407e-01, -8.3106e-02, -1.2080e-01,  1.1897e-02, -8.5671e-02,\n",
      "         -7.4757e-02,  5.4282e-02,  1.3104e-01, -6.1924e-02, -9.6244e-02,\n",
      "          7.2503e-02, -2.5507e-02,  1.2256e-01, -1.0287e-01,  2.7735e-02,\n",
      "         -9.6686e-02, -9.7746e-02, -2.2985e-02,  3.0239e-02, -4.8894e-02,\n",
      "          4.8150e-02, -9.5198e-03, -5.0240e-02,  1.1092e-01,  1.3932e-01,\n",
      "         -1.0480e-01,  2.4720e-02, -1.6841e-02, -3.8831e-02,  3.9292e-02],\n",
      "        [ 6.3403e-02, -1.2189e-01, -4.3930e-02,  5.3609e-02, -1.3867e-01,\n",
      "          1.2486e-01, -1.2078e-01, -4.0408e-03,  1.3229e-01,  3.0168e-02,\n",
      "          3.4448e-02,  1.8417e-02, -6.6166e-02, -5.3461e-02, -1.1860e-01,\n",
      "         -1.2516e-01, -4.6444e-02, -5.8376e-02,  1.4728e-02,  8.6028e-02,\n",
      "          5.1387e-02, -1.3322e-01,  2.3804e-02, -1.1982e-01,  3.9991e-02,\n",
      "         -2.2160e-03, -5.5097e-02, -6.6080e-02,  4.5204e-02, -8.4112e-02,\n",
      "          2.4498e-02,  9.8492e-02,  1.3091e-01, -6.9261e-02, -8.6828e-02,\n",
      "          1.1611e-01, -3.3874e-02, -1.2415e-01,  8.4664e-02, -1.1219e-01,\n",
      "          8.6061e-02,  6.1042e-02, -9.4920e-02, -8.5830e-02, -6.7596e-02,\n",
      "         -2.5647e-03, -1.2811e-01, -9.8197e-02,  2.1140e-02, -1.3332e-01],\n",
      "        [ 6.7045e-02, -1.1548e-01,  2.5539e-02,  2.4996e-02, -2.3008e-02,\n",
      "         -1.3554e-01, -7.2487e-02,  5.9803e-02,  5.2924e-02, -6.5259e-02,\n",
      "          1.0819e-01, -4.3715e-02,  2.5649e-02,  1.0501e-01, -8.5772e-02,\n",
      "          8.8500e-02, -3.6516e-02, -7.5484e-02,  9.4563e-02, -1.1907e-02,\n",
      "         -1.1002e-01,  1.1009e-01, -1.3501e-01,  1.1074e-01,  9.7325e-02,\n",
      "          1.2808e-01, -1.1683e-01,  1.1921e-01,  4.8436e-02, -1.3334e-01,\n",
      "         -8.3602e-02,  1.2053e-01, -4.0672e-02, -4.2510e-02, -5.7762e-02,\n",
      "          2.2295e-02,  3.2582e-02, -4.0352e-02,  6.6550e-02,  8.4689e-02,\n",
      "          7.2522e-02,  1.1983e-01,  8.0271e-02,  5.2724e-02,  1.6964e-02,\n",
      "          1.0374e-01, -1.1408e-01,  1.3424e-02, -1.5784e-02, -3.1938e-03],\n",
      "        [ 6.2334e-02,  6.2093e-02, -1.0921e-01, -7.1966e-02, -2.8854e-03,\n",
      "          2.9856e-03,  1.1268e-01, -1.3333e-01, -3.1837e-02,  1.7132e-02,\n",
      "          3.4212e-02, -5.1066e-02, -6.5053e-02, -1.0278e-02, -2.8442e-02,\n",
      "         -3.6256e-02, -1.2262e-02, -1.1071e-01, -1.1179e-01,  1.0885e-01,\n",
      "         -1.0939e-01, -1.3820e-02,  1.2106e-01, -1.1897e-01,  8.0932e-02,\n",
      "         -1.3143e-01, -5.4224e-02, -4.6987e-02,  4.7091e-02,  6.2136e-02,\n",
      "         -6.8697e-02, -6.5554e-02, -4.0658e-02, -1.6259e-02,  3.7419e-02,\n",
      "         -1.1347e-01, -7.8333e-02,  4.3763e-02, -2.9433e-02,  8.5523e-02,\n",
      "          5.3957e-02, -1.6509e-02, -4.9883e-02, -9.5214e-02, -6.9374e-02,\n",
      "         -5.0990e-02, -9.4288e-02,  1.8129e-02,  1.1297e-02,  3.9759e-02],\n",
      "        [ 4.4152e-02, -5.4418e-02,  9.7321e-02, -1.2436e-01, -1.2350e-01,\n",
      "          4.5290e-02, -1.2656e-01,  1.0977e-01,  2.7571e-02,  1.2818e-01,\n",
      "         -1.1290e-01, -1.2066e-01,  3.5853e-02, -5.6045e-02,  9.7912e-02,\n",
      "         -2.8040e-02, -4.8929e-02, -1.4719e-02, -1.3459e-01, -8.4075e-02,\n",
      "          3.4084e-03, -2.8678e-02, -5.0534e-02,  9.8076e-02,  5.2367e-02,\n",
      "          3.2275e-02,  9.4601e-02, -7.3032e-02,  4.7814e-02,  1.2175e-01,\n",
      "          1.1501e-01, -5.9642e-02,  5.5754e-04, -9.6413e-02,  1.9887e-04,\n",
      "          9.8802e-02, -4.0815e-02, -4.9514e-02, -1.3488e-01, -7.2387e-02,\n",
      "          4.7860e-02,  2.8419e-02, -2.4546e-02,  7.6771e-02,  4.4266e-02,\n",
      "          7.4566e-02,  9.3374e-02,  6.2994e-02, -1.8201e-02, -7.4197e-02],\n",
      "        [-1.3278e-01,  3.5354e-03, -8.7562e-02,  1.0734e-01,  6.7400e-02,\n",
      "          2.3740e-02, -3.8945e-02, -1.0923e-01,  1.2013e-01,  1.2927e-01,\n",
      "         -2.4626e-02, -5.4348e-02, -1.0330e-02,  1.2043e-01,  4.9305e-03,\n",
      "          5.4634e-02,  1.0413e-01, -3.0615e-02, -1.1100e-01, -7.1491e-02,\n",
      "         -1.0467e-01,  9.3557e-02, -1.2721e-01, -5.5709e-02,  2.3543e-02,\n",
      "          5.8077e-02, -2.1138e-02,  1.0498e-01,  3.2687e-02, -7.9328e-02,\n",
      "          9.4065e-02,  5.6908e-03, -4.0602e-02, -1.2750e-01,  1.1342e-01,\n",
      "         -9.1894e-02, -1.1647e-02, -1.3726e-02,  8.1886e-02, -1.4136e-01,\n",
      "         -8.9272e-02, -1.2635e-01,  5.4442e-02,  4.8401e-03, -4.6397e-02,\n",
      "         -1.0083e-01, -1.1754e-01, -1.0630e-02,  8.9300e-02, -2.9425e-02],\n",
      "        [-6.0264e-02,  3.8172e-03,  1.1236e-01, -4.0312e-02, -9.4808e-02,\n",
      "          6.1827e-02, -8.2217e-02,  2.5306e-02, -7.9179e-02,  1.0411e-01,\n",
      "          1.0925e-01,  4.3000e-02, -6.9425e-02, -6.5057e-03,  9.3221e-03,\n",
      "          3.9312e-03, -6.0523e-02,  6.9823e-02, -6.3213e-02, -1.3686e-01,\n",
      "          6.5958e-02,  6.3315e-02,  1.2241e-02,  3.7168e-02, -1.7376e-02,\n",
      "          1.0964e-01,  1.1743e-01, -8.1615e-02,  7.8121e-02, -1.0026e-01,\n",
      "          1.8280e-02,  6.3367e-02, -8.2203e-02, -4.2665e-02, -1.2274e-01,\n",
      "          9.8436e-02, -1.1004e-02, -2.4096e-02, -9.1226e-02, -5.5777e-02,\n",
      "         -9.6199e-02,  7.5310e-03, -1.2903e-01, -8.6045e-02,  3.3314e-02,\n",
      "         -3.0961e-02,  1.2836e-01,  1.2185e-01, -1.2180e-02, -9.6412e-02],\n",
      "        [ 1.0680e-01, -1.6118e-02,  9.7100e-02,  8.1637e-02,  7.7409e-02,\n",
      "          9.1281e-02,  7.6788e-02, -1.7447e-02, -1.3645e-01, -3.3827e-02,\n",
      "          8.1319e-02, -1.2621e-02, -6.6009e-02, -1.1086e-01, -6.0291e-03,\n",
      "          8.2993e-02,  8.7019e-02,  4.4822e-02,  1.1985e-01,  4.7375e-02,\n",
      "          6.9320e-02,  1.1205e-01,  6.0414e-02, -9.3078e-02, -5.4598e-02,\n",
      "          5.8106e-02,  1.1057e-02, -1.3822e-01, -6.3920e-02,  1.0974e-01,\n",
      "          6.5867e-02,  7.2550e-02,  7.5899e-02, -1.0311e-02,  3.0402e-02,\n",
      "         -6.8205e-02,  3.7787e-02, -9.2506e-02, -1.4058e-01, -8.9576e-02,\n",
      "          6.0541e-02,  1.2852e-03,  9.7117e-03,  2.3501e-02, -1.1212e-01,\n",
      "          3.1936e-03, -9.3208e-03,  5.0701e-02, -9.3441e-04,  7.8881e-02],\n",
      "        [ 2.5544e-02,  9.9311e-02,  1.5303e-02,  7.2770e-02,  7.5345e-02,\n",
      "         -1.5391e-02,  1.1774e-04, -1.1282e-02, -1.4614e-02,  9.8117e-02,\n",
      "          7.5764e-02,  7.7520e-02,  1.1606e-01,  1.0867e-01, -1.0529e-01,\n",
      "         -1.2772e-01, -1.0428e-01,  1.0782e-01, -9.9799e-02, -1.2770e-01,\n",
      "         -9.1547e-02,  3.7782e-02, -4.1942e-02, -7.8047e-02,  4.7946e-02,\n",
      "         -7.0440e-02,  2.7404e-02,  4.2706e-02, -9.1289e-02,  1.1465e-01,\n",
      "          3.4752e-02,  9.7551e-02, -8.5273e-02,  9.3325e-02, -8.7245e-02,\n",
      "          6.4143e-02, -1.2997e-01,  7.1931e-02,  6.2965e-02,  5.6479e-02,\n",
      "          1.3505e-01,  9.2820e-02,  3.1948e-02, -9.3977e-02,  1.1368e-01,\n",
      "          1.0035e-01,  8.6138e-02, -1.2997e-01, -1.1321e-01,  3.5976e-02]])\n",
      "fc3.bias tensor([ 1.1869e-01,  1.2627e-01,  1.3566e-01,  1.1695e-04,  1.4059e-02,\n",
      "         5.7490e-02,  1.0581e-01, -1.6357e-02, -8.7360e-02,  7.0717e-04])\n"
     ]
    }
   ],
   "execution_count": 36
  },
  {
   "cell_type": "markdown",
   "source": "## Training loop\n\nFirst, we define Loss and Optimizer",
   "metadata": {}
  },
  {
   "cell_type": "code",
   "source": [
    "# Hyperparameter!\n",
    "learning_rate = 0.001\n",
    "optimizer = optim.Adam(model.parameters(), lr=learning_rate)\n",
    "loss_fn = nn.CrossEntropyLoss()"
   ],
   "metadata": {
    "execution": {
     "iopub.status.busy": "2024-10-03T16:54:33.576475Z",
     "iopub.execute_input": "2024-10-03T16:54:33.577050Z",
     "iopub.status.idle": "2024-10-03T16:54:33.585308Z",
     "shell.execute_reply.started": "2024-10-03T16:54:33.577001Z",
     "shell.execute_reply": "2024-10-03T16:54:33.583296Z"
    },
    "trusted": true,
    "ExecuteTime": {
     "end_time": "2024-10-16T15:22:33.466447Z",
     "start_time": "2024-10-16T15:22:33.464260Z"
    }
   },
   "outputs": [],
   "execution_count": 37
  },
  {
   "cell_type": "markdown",
   "source": "Then, we decide which device we want to use",
   "metadata": {}
  },
  {
   "cell_type": "code",
   "source": [
    "DEVICE = torch.device('cuda' if torch.cuda.is_available() else 'mps' \n",
    "    if torch.backends.mps.is_available() else 'cpu')\n",
    "model = model.to(DEVICE)\n",
    "print(\"Working on\", DEVICE)"
   ],
   "metadata": {
    "execution": {
     "iopub.status.busy": "2024-10-03T16:54:33.587302Z",
     "iopub.execute_input": "2024-10-03T16:54:33.587819Z",
     "iopub.status.idle": "2024-10-03T16:54:33.607747Z",
     "shell.execute_reply.started": "2024-10-03T16:54:33.587756Z",
     "shell.execute_reply": "2024-10-03T16:54:33.605610Z"
    },
    "trusted": true,
    "ExecuteTime": {
     "end_time": "2024-10-16T15:22:33.770881Z",
     "start_time": "2024-10-16T15:22:33.767795Z"
    }
   },
   "outputs": [
    {
     "name": "stdout",
     "output_type": "stream",
     "text": [
      "Working on mps\n"
     ]
    }
   ],
   "execution_count": 38
  },
  {
   "cell_type": "markdown",
   "source": "Lastly, we set a number of epochs and perform standard training loop",
   "metadata": {}
  },
  {
   "cell_type": "code",
   "source": "n_epochs = 5\ntrain_loss_list = []\nvalidation_loss_list = []\nfor epoch in range(n_epochs):\n    for data, target in train_loader:\n        # Set the model in training mode\n        model.train()\n        data, target = data.to(DEVICE), target.to(DEVICE)\n        # You have to flatten the data!\n        data = data.reshape(-1,28*28)\n        # Set the gradient to 0\n        optimizer.zero_grad()\n        # Make a prediction\n        output = model(data)\n        # Compute the loss function\n        loss = loss_fn(output, target)\n        # Backpropagation\n        loss.backward()\n        # Update parameters\n        optimizer.step()\n        \n    train_loss = loss.item()\n    train_loss_list.append(train_loss)\n    # At the end of every epoch, check the validation loss value\n    with torch.no_grad():\n        model.eval()\n        for data, target in validation_loader: # Just one batch\n            data, target = data.to(DEVICE), target.to(DEVICE)\n             # You have to flatten the data!\n            data = data.reshape(-1,28*28)\n            # Make a prediction\n            output = model(data)\n            # Compute the loss function\n            validation_loss = loss_fn(output, target).item()\n            print(f\"Epoch {epoch + 1}: Train loss: {train_loss}, Validation loss {validation_loss}\")\n            validation_loss_list.append(validation_loss)\n    ",
   "metadata": {
    "execution": {
     "iopub.status.busy": "2024-10-03T16:54:33.611499Z",
     "iopub.execute_input": "2024-10-03T16:54:33.612463Z",
     "iopub.status.idle": "2024-10-03T16:55:22.073088Z",
     "shell.execute_reply.started": "2024-10-03T16:54:33.612414Z",
     "shell.execute_reply": "2024-10-03T16:55:22.071814Z"
    },
    "trusted": true,
    "ExecuteTime": {
     "end_time": "2024-10-16T15:22:34.601179Z",
     "start_time": "2024-10-16T15:22:34.093955Z"
    }
   },
   "outputs": [
    {
     "name": "stderr",
     "output_type": "stream",
     "text": [
      "/Users/stefano/miniconda3/envs/DeepL/lib/python3.12/site-packages/torch/nn/modules/loss.py:538: UserWarning: Using a target size (torch.Size([64])) that is different to the input size (torch.Size([64, 10])). This will likely lead to incorrect results due to broadcasting. Please ensure they have the same size.\n",
      "  return F.mse_loss(input, target, reduction=self.reduction)\n"
     ]
    },
    {
     "ename": "RuntimeError",
     "evalue": "The size of tensor a (10) must match the size of tensor b (64) at non-singleton dimension 1",
     "output_type": "error",
     "traceback": [
      "\u001B[0;31m---------------------------------------------------------------------------\u001B[0m",
      "\u001B[0;31mRuntimeError\u001B[0m                              Traceback (most recent call last)",
      "Cell \u001B[0;32mIn[39], line 16\u001B[0m\n\u001B[1;32m     14\u001B[0m output \u001B[38;5;241m=\u001B[39m model(data)\n\u001B[1;32m     15\u001B[0m \u001B[38;5;66;03m# Compute the loss function\u001B[39;00m\n\u001B[0;32m---> 16\u001B[0m loss \u001B[38;5;241m=\u001B[39m loss_fn(output, target)\n\u001B[1;32m     17\u001B[0m \u001B[38;5;66;03m# Backpropagation\u001B[39;00m\n\u001B[1;32m     18\u001B[0m loss\u001B[38;5;241m.\u001B[39mbackward()\n",
      "File \u001B[0;32m~/miniconda3/envs/DeepL/lib/python3.12/site-packages/torch/nn/modules/module.py:1553\u001B[0m, in \u001B[0;36mModule._wrapped_call_impl\u001B[0;34m(self, *args, **kwargs)\u001B[0m\n\u001B[1;32m   1551\u001B[0m     \u001B[38;5;28;01mreturn\u001B[39;00m \u001B[38;5;28mself\u001B[39m\u001B[38;5;241m.\u001B[39m_compiled_call_impl(\u001B[38;5;241m*\u001B[39margs, \u001B[38;5;241m*\u001B[39m\u001B[38;5;241m*\u001B[39mkwargs)  \u001B[38;5;66;03m# type: ignore[misc]\u001B[39;00m\n\u001B[1;32m   1552\u001B[0m \u001B[38;5;28;01melse\u001B[39;00m:\n\u001B[0;32m-> 1553\u001B[0m     \u001B[38;5;28;01mreturn\u001B[39;00m \u001B[38;5;28mself\u001B[39m\u001B[38;5;241m.\u001B[39m_call_impl(\u001B[38;5;241m*\u001B[39margs, \u001B[38;5;241m*\u001B[39m\u001B[38;5;241m*\u001B[39mkwargs)\n",
      "File \u001B[0;32m~/miniconda3/envs/DeepL/lib/python3.12/site-packages/torch/nn/modules/module.py:1562\u001B[0m, in \u001B[0;36mModule._call_impl\u001B[0;34m(self, *args, **kwargs)\u001B[0m\n\u001B[1;32m   1557\u001B[0m \u001B[38;5;66;03m# If we don't have any hooks, we want to skip the rest of the logic in\u001B[39;00m\n\u001B[1;32m   1558\u001B[0m \u001B[38;5;66;03m# this function, and just call forward.\u001B[39;00m\n\u001B[1;32m   1559\u001B[0m \u001B[38;5;28;01mif\u001B[39;00m \u001B[38;5;129;01mnot\u001B[39;00m (\u001B[38;5;28mself\u001B[39m\u001B[38;5;241m.\u001B[39m_backward_hooks \u001B[38;5;129;01mor\u001B[39;00m \u001B[38;5;28mself\u001B[39m\u001B[38;5;241m.\u001B[39m_backward_pre_hooks \u001B[38;5;129;01mor\u001B[39;00m \u001B[38;5;28mself\u001B[39m\u001B[38;5;241m.\u001B[39m_forward_hooks \u001B[38;5;129;01mor\u001B[39;00m \u001B[38;5;28mself\u001B[39m\u001B[38;5;241m.\u001B[39m_forward_pre_hooks\n\u001B[1;32m   1560\u001B[0m         \u001B[38;5;129;01mor\u001B[39;00m _global_backward_pre_hooks \u001B[38;5;129;01mor\u001B[39;00m _global_backward_hooks\n\u001B[1;32m   1561\u001B[0m         \u001B[38;5;129;01mor\u001B[39;00m _global_forward_hooks \u001B[38;5;129;01mor\u001B[39;00m _global_forward_pre_hooks):\n\u001B[0;32m-> 1562\u001B[0m     \u001B[38;5;28;01mreturn\u001B[39;00m forward_call(\u001B[38;5;241m*\u001B[39margs, \u001B[38;5;241m*\u001B[39m\u001B[38;5;241m*\u001B[39mkwargs)\n\u001B[1;32m   1564\u001B[0m \u001B[38;5;28;01mtry\u001B[39;00m:\n\u001B[1;32m   1565\u001B[0m     result \u001B[38;5;241m=\u001B[39m \u001B[38;5;28;01mNone\u001B[39;00m\n",
      "File \u001B[0;32m~/miniconda3/envs/DeepL/lib/python3.12/site-packages/torch/nn/modules/loss.py:538\u001B[0m, in \u001B[0;36mMSELoss.forward\u001B[0;34m(self, input, target)\u001B[0m\n\u001B[1;32m    537\u001B[0m \u001B[38;5;28;01mdef\u001B[39;00m \u001B[38;5;21mforward\u001B[39m(\u001B[38;5;28mself\u001B[39m, \u001B[38;5;28minput\u001B[39m: Tensor, target: Tensor) \u001B[38;5;241m-\u001B[39m\u001B[38;5;241m>\u001B[39m Tensor:\n\u001B[0;32m--> 538\u001B[0m     \u001B[38;5;28;01mreturn\u001B[39;00m F\u001B[38;5;241m.\u001B[39mmse_loss(\u001B[38;5;28minput\u001B[39m, target, reduction\u001B[38;5;241m=\u001B[39m\u001B[38;5;28mself\u001B[39m\u001B[38;5;241m.\u001B[39mreduction)\n",
      "File \u001B[0;32m~/miniconda3/envs/DeepL/lib/python3.12/site-packages/torch/nn/functional.py:3383\u001B[0m, in \u001B[0;36mmse_loss\u001B[0;34m(input, target, size_average, reduce, reduction)\u001B[0m\n\u001B[1;32m   3380\u001B[0m \u001B[38;5;28;01mif\u001B[39;00m size_average \u001B[38;5;129;01mis\u001B[39;00m \u001B[38;5;129;01mnot\u001B[39;00m \u001B[38;5;28;01mNone\u001B[39;00m \u001B[38;5;129;01mor\u001B[39;00m reduce \u001B[38;5;129;01mis\u001B[39;00m \u001B[38;5;129;01mnot\u001B[39;00m \u001B[38;5;28;01mNone\u001B[39;00m:\n\u001B[1;32m   3381\u001B[0m     reduction \u001B[38;5;241m=\u001B[39m _Reduction\u001B[38;5;241m.\u001B[39mlegacy_get_string(size_average, reduce)\n\u001B[0;32m-> 3383\u001B[0m expanded_input, expanded_target \u001B[38;5;241m=\u001B[39m torch\u001B[38;5;241m.\u001B[39mbroadcast_tensors(\u001B[38;5;28minput\u001B[39m, target)\n\u001B[1;32m   3384\u001B[0m \u001B[38;5;28;01mreturn\u001B[39;00m torch\u001B[38;5;241m.\u001B[39m_C\u001B[38;5;241m.\u001B[39m_nn\u001B[38;5;241m.\u001B[39mmse_loss(expanded_input, expanded_target, _Reduction\u001B[38;5;241m.\u001B[39mget_enum(reduction))\n",
      "File \u001B[0;32m~/miniconda3/envs/DeepL/lib/python3.12/site-packages/torch/functional.py:77\u001B[0m, in \u001B[0;36mbroadcast_tensors\u001B[0;34m(*tensors)\u001B[0m\n\u001B[1;32m     75\u001B[0m \u001B[38;5;28;01mif\u001B[39;00m has_torch_function(tensors):\n\u001B[1;32m     76\u001B[0m     \u001B[38;5;28;01mreturn\u001B[39;00m handle_torch_function(broadcast_tensors, tensors, \u001B[38;5;241m*\u001B[39mtensors)\n\u001B[0;32m---> 77\u001B[0m \u001B[38;5;28;01mreturn\u001B[39;00m _VF\u001B[38;5;241m.\u001B[39mbroadcast_tensors(tensors)\n",
      "\u001B[0;31mRuntimeError\u001B[0m: The size of tensor a (10) must match the size of tensor b (64) at non-singleton dimension 1"
     ]
    }
   ],
   "execution_count": 39
  },
  {
   "cell_type": "markdown",
   "source": "**Questions**: \n1. Try to use and not use GPUs: is there any difference?\n2. Are we cheating somewher in computing the loss values?\n3. Try to play a little bit with the learning rate, using values such as 0.05 or even 0.1. What can you observe?\n\nWe do a simple plot of the two loss functions",
   "metadata": {}
  },
  {
   "cell_type": "code",
   "source": "plt.figure()\nplt.plot(range(n_epochs), train_loss_list)\nplt.plot(range(n_epochs), validation_loss_list)\nplt.legend([\"Train loss\", \"Validation Loss\"])\nplt.xlabel(\"Epochs\")\nplt.ylabel(\"Loss value\")\nplt.show()",
   "metadata": {
    "execution": {
     "iopub.status.busy": "2024-10-03T16:55:22.074852Z",
     "iopub.execute_input": "2024-10-03T16:55:22.075271Z",
     "iopub.status.idle": "2024-10-03T16:55:22.361422Z",
     "shell.execute_reply.started": "2024-10-03T16:55:22.075233Z",
     "shell.execute_reply": "2024-10-03T16:55:22.360154Z"
    },
    "trusted": true,
    "ExecuteTime": {
     "end_time": "2024-10-16T15:22:34.603994Z",
     "start_time": "2024-10-16T12:52:05.122876Z"
    }
   },
   "outputs": [
    {
     "data": {
      "text/plain": [
       "<Figure size 640x480 with 1 Axes>"
      ],
      "image/png": "[encoded data removed]"
     },
     "metadata": {},
     "output_type": "display_data"
    }
   ],
   "execution_count": 24
  },
  {
   "cell_type": "markdown",
   "source": "## Test\n\nIn this section, we test our model on new data by computing the accuracy",
   "metadata": {}
  },
  {
   "cell_type": "code",
   "source": "with torch.no_grad():\n    n_correct = 0\n    n_samples = 0\n    for data, target in test_loader:\n        data, target = data.to(DEVICE), target.to(DEVICE)\n        # You have to flatten the data!\n        data = data.reshape(-1,28*28)\n        outputs = model(data)\n        _, predicted = torch.max(outputs.data, 1)\n        n_samples += target.size(0)\n        n_correct += (predicted == target).sum().item()\n\n    acc = 100.0 * n_correct / n_samples\nprint(\"Accuracy on the test set:\", acc, \"%\")",
   "metadata": {
    "execution": {
     "iopub.status.busy": "2024-10-03T16:55:22.363017Z",
     "iopub.execute_input": "2024-10-03T16:55:22.363515Z",
     "iopub.status.idle": "2024-10-03T16:55:22.960323Z",
     "shell.execute_reply.started": "2024-10-03T16:55:22.363467Z",
     "shell.execute_reply": "2024-10-03T16:55:22.959049Z"
    },
    "trusted": true,
    "ExecuteTime": {
     "end_time": "2024-10-16T15:22:34.604135Z",
     "start_time": "2024-10-16T12:52:05.199796Z"
    }
   },
   "outputs": [
    {
     "name": "stdout",
     "output_type": "stream",
     "text": [
      "Accuracy on the test set: 96.78 %\n"
     ]
    }
   ],
   "execution_count": 25
  },
  {
   "cell_type": "markdown",
   "source": "## Save & Load models",
   "metadata": {}
  },
  {
   "cell_type": "code",
   "source": [
    "state = {\n",
    "    'model_state' : model.state_dict(),\n",
    "    'optimizer' : optimizer.state_dict()\n",
    "}\n",
    "torch.save(state, 'Models/model_04.pt')"
   ],
   "metadata": {
    "execution": {
     "iopub.status.busy": "2024-10-03T16:55:44.174410Z",
     "iopub.execute_input": "2024-10-03T16:55:44.174840Z",
     "iopub.status.idle": "2024-10-03T16:55:44.185364Z",
     "shell.execute_reply.started": "2024-10-03T16:55:44.174800Z",
     "shell.execute_reply": "2024-10-03T16:55:44.184291Z"
    },
    "trusted": true,
    "ExecuteTime": {
     "end_time": "2024-10-16T15:22:34.604168Z",
     "start_time": "2024-10-16T12:52:05.352175Z"
    }
   },
   "outputs": [],
   "execution_count": 26
  },
  {
   "cell_type": "code",
   "source": [
    "model = Model(28*28, d_1, d_2, 10)\n",
    "optimizer = optim.Adam(model.parameters(), lr=learning_rate)\n",
    "checkpoint = torch.load(\"Models/model_04.pt\", weights_only=True)\n",
    "model.load_state_dict(checkpoint['model_state'])\n",
    "optimizer.load_state_dict(checkpoint['optimizer'])"
   ],
   "metadata": {
    "execution": {
     "iopub.status.busy": "2024-10-03T16:56:52.643599Z",
     "iopub.execute_input": "2024-10-03T16:56:52.644021Z",
     "iopub.status.idle": "2024-10-03T16:56:52.657284Z",
     "shell.execute_reply.started": "2024-10-03T16:56:52.643981Z",
     "shell.execute_reply": "2024-10-03T16:56:52.656239Z"
    },
    "trusted": true,
    "ExecuteTime": {
     "end_time": "2024-10-16T15:22:34.604200Z",
     "start_time": "2024-10-16T12:52:05.628684Z"
    }
   },
   "outputs": [],
   "execution_count": 27
  },
  {
   "cell_type": "markdown",
   "source": "You loaded a trained model, so it should make good preditcions, let's see",
   "metadata": {}
  },
  {
   "cell_type": "code",
   "source": "k = torch.randint(1, len(dataset_test), (1,))\nk = int(k)\nX, y = dataset_test[k]\n\n# Show just one item\nprint(\"Here we want to predict digit \", y)\nplt.imshow(X.squeeze(), cmap=\"gray\")\nplt.show()\n\ndata = X.reshape(-1,28*28)\noutputs = model(data)\n_, predicted = torch.max(outputs.data, 1)\n\nprint(\"\\n We predicted\", predicted)",
   "metadata": {
    "execution": {
     "iopub.status.busy": "2024-10-03T16:59:50.681204Z",
     "iopub.execute_input": "2024-10-03T16:59:50.681636Z",
     "iopub.status.idle": "2024-10-03T16:59:50.899528Z",
     "shell.execute_reply.started": "2024-10-03T16:59:50.681592Z",
     "shell.execute_reply": "2024-10-03T16:59:50.898428Z"
    },
    "trusted": true,
    "ExecuteTime": {
     "end_time": "2024-10-16T15:22:34.604229Z",
     "start_time": "2024-10-16T12:52:05.970780Z"
    }
   },
   "outputs": [
    {
     "name": "stdout",
     "output_type": "stream",
     "text": [
      "Here we want to predict digit  6\n"
     ]
    },
    {
     "data": {
      "text/plain": [
       "<Figure size 640x480 with 1 Axes>"
      ],
      "image/png": "[encoded data removed]"
     },
     "metadata": {},
     "output_type": "display_data"
    },
    {
     "name": "stdout",
     "output_type": "stream",
     "text": [
      "\n",
      " We predicted tensor([6])\n"
     ]
    }
   ],
   "execution_count": 28
  },
  {
   "cell_type": "markdown",
   "source": "# Training loop with Neptune*\n\nThis section is more advanced, and we recomment dive into it only if you plan to use Neptune",
   "metadata": {}
  },
  {
   "cell_type": "code",
   "source": [
    "#!pip install neptune\n",
    "import neptune\n",
    "\n",
    "# Replace empty strings with your values\n",
    "run = neptune.init_run(\n",
    "    project=\"\",\n",
    "    api_token=\"\",\n",
    ") \n",
    "\n",
    "params = {\"learning_rate\": learning_rate, \"optimizer\": \"Adam\"}\n",
    "run[\"parameters\"] = params\n",
    "\n",
    "# Re initialize the optimizer, model and loss function\n",
    "model = Model(28*28, d_1, d_2, 10)\n",
    "model.to(DEVICE)\n",
    "\n",
    "# Hyperparameter!\n",
    "learning_rate = 0.001\n",
    "optimizer = optim.Adam(model.parameters(), lr=learning_rate)\n",
    "loss_fn = nn.CrossEntropyLoss()\n",
    "\n",
    "\n",
    "n_epochs = 10\n",
    "for epoch in range(n_epochs):\n",
    "    for data, target in train_loader:\n",
    "        # Set the model in training mode\n",
    "        model.train()\n",
    "        data, target = data.to(DEVICE), target.to(DEVICE)\n",
    "        # You have to flatten the data!\n",
    "        data = data.reshape(-1,28*28)\n",
    "        # Set the gradient to 0\n",
    "        optimizer.zero_grad()\n",
    "        # Make a prediction\n",
    "        output = model(data)\n",
    "        # Compute the loss function\n",
    "        loss = loss_fn(output, target)\n",
    "        # Backpropagation\n",
    "        loss.backward()\n",
    "        # Update parameters\n",
    "        optimizer.step()\n",
    "        \n",
    "    train_loss = loss.item()\n",
    "    run[\"train/loss_train\"].append(train_loss)\n",
    "    # At the end of every epoch, check the validation loss value\n",
    "    with torch.no_grad():\n",
    "        model.eval()\n",
    "        for data, target in validation_loader: # Just one batch\n",
    "            data, target = data.to(DEVICE), target.to(DEVICE)\n",
    "             # You have to flatten the data!\n",
    "            data = data.reshape(-1,28*28)\n",
    "            # Make a prediction\n",
    "            output = model(data)\n",
    "            # Compute the loss function\n",
    "            validation_loss = loss_fn(output, target).item()\n",
    "            print(f\"Epoch {epoch + 1}: Train loss: {train_loss}, Validation loss {validation_loss}\")\n",
    "            run[\"train/loss_eval\"].append(validation_loss)\n",
    "    \n",
    "run.stop()"
   ],
   "metadata": {
    "trusted": true,
    "ExecuteTime": {
     "end_time": "2024-10-16T15:22:34.604275Z",
     "start_time": "2024-10-16T12:52:06.326120Z"
    }
   },
   "outputs": [
    {
     "name": "stderr",
     "output_type": "stream",
     "text": [
      "[neptune] [warning] NeptuneWarning: By default, these monitoring options are disabled in interactive sessions: 'capture_stdout', 'capture_stderr', 'capture_traceback', 'capture_hardware_metrics'. You can set them to 'True' when initializing the run and the monitoring will continue until you call run.stop() or the kernel stops. NOTE: To track the source files, pass their paths to the 'source_code' argument. For help, see: https://docs.neptune.ai/logging/source_code/\n"
     ]
    },
    {
     "ename": "NeptuneInvalidApiTokenException",
     "evalue": "\n\u001B[95m\n----NeptuneInvalidApiTokenException------------------------------------------------\n\u001B[0m\nThe provided API token is invalid.\nMake sure you copied and provided your API token correctly.\n\nYou can get it or check if it is correct here:\n    - https://app.neptune.ai/get_my_api_token\n\nThere are two options to add it:\n    - specify it in your code\n    - set it as an environment variable in your operating system.\n\n\u001B[94mCODE\u001B[0m\nPass the token to the \u001B[1minit_run()\u001B[0m function via the \u001B[1mapi_token\u001B[0m argument:\n    \u001B[96mneptune.init_run(project='WORKSPACE_NAME/PROJECT_NAME', api_token='YOUR_API_TOKEN')\u001B[0m\n\n\u001B[94mENVIRONMENT VARIABLE\u001B[0m \u001B[92m(Recommended option)\u001B[0m\nor export or set an environment variable depending on your operating system:\n\n    \u001B[92mLinux/Unix\u001B[0m\n    In your terminal run:\n        \u001B[95mexport NEPTUNE_API_TOKEN=\"YOUR_API_TOKEN\"\u001B[0m\n\n    \u001B[92mWindows\u001B[0m\n    In your CMD run:\n        \u001B[95mset NEPTUNE_API_TOKEN=\"YOUR_API_TOKEN\"\u001B[0m\n\nand skip the \u001B[1mapi_token\u001B[0m argument of the \u001B[1minit_run()\u001B[0m function:\n    \u001B[96mneptune.init_run(project='WORKSPACE_NAME/PROJECT_NAME')\u001B[0m\n\nYou may also want to check the following docs page:\n    - https://docs.neptune.ai/setup/setting_api_token/\n\n\u001B[92mNeed help?\u001B[0m-> https://docs.neptune.ai/getting_help\n",
     "output_type": "error",
     "traceback": [
      "\u001B[0;31m---------------------------------------------------------------------------\u001B[0m",
      "\u001B[0;31mJSONDecodeError\u001B[0m                           Traceback (most recent call last)",
      "File \u001B[0;32m~/miniconda3/envs/DeepL/lib/python3.12/site-packages/neptune/internal/credentials.py:68\u001B[0m, in \u001B[0;36mCredentials._api_token_to_dict\u001B[0;34m(api_token)\u001B[0m\n\u001B[1;32m     67\u001B[0m \u001B[38;5;28;01mtry\u001B[39;00m:\n\u001B[0;32m---> 68\u001B[0m     \u001B[38;5;28;01mreturn\u001B[39;00m json\u001B[38;5;241m.\u001B[39mloads(base64\u001B[38;5;241m.\u001B[39mb64decode(api_token\u001B[38;5;241m.\u001B[39mencode())\u001B[38;5;241m.\u001B[39mdecode(\u001B[38;5;124m\"\u001B[39m\u001B[38;5;124mutf-8\u001B[39m\u001B[38;5;124m\"\u001B[39m))\n\u001B[1;32m     69\u001B[0m \u001B[38;5;28;01mexcept\u001B[39;00m \u001B[38;5;167;01mException\u001B[39;00m:\n",
      "File \u001B[0;32m~/miniconda3/envs/DeepL/lib/python3.12/json/__init__.py:346\u001B[0m, in \u001B[0;36mloads\u001B[0;34m(s, cls, object_hook, parse_float, parse_int, parse_constant, object_pairs_hook, **kw)\u001B[0m\n\u001B[1;32m    343\u001B[0m \u001B[38;5;28;01mif\u001B[39;00m (\u001B[38;5;28mcls\u001B[39m \u001B[38;5;129;01mis\u001B[39;00m \u001B[38;5;28;01mNone\u001B[39;00m \u001B[38;5;129;01mand\u001B[39;00m object_hook \u001B[38;5;129;01mis\u001B[39;00m \u001B[38;5;28;01mNone\u001B[39;00m \u001B[38;5;129;01mand\u001B[39;00m\n\u001B[1;32m    344\u001B[0m         parse_int \u001B[38;5;129;01mis\u001B[39;00m \u001B[38;5;28;01mNone\u001B[39;00m \u001B[38;5;129;01mand\u001B[39;00m parse_float \u001B[38;5;129;01mis\u001B[39;00m \u001B[38;5;28;01mNone\u001B[39;00m \u001B[38;5;129;01mand\u001B[39;00m\n\u001B[1;32m    345\u001B[0m         parse_constant \u001B[38;5;129;01mis\u001B[39;00m \u001B[38;5;28;01mNone\u001B[39;00m \u001B[38;5;129;01mand\u001B[39;00m object_pairs_hook \u001B[38;5;129;01mis\u001B[39;00m \u001B[38;5;28;01mNone\u001B[39;00m \u001B[38;5;129;01mand\u001B[39;00m \u001B[38;5;129;01mnot\u001B[39;00m kw):\n\u001B[0;32m--> 346\u001B[0m     \u001B[38;5;28;01mreturn\u001B[39;00m _default_decoder\u001B[38;5;241m.\u001B[39mdecode(s)\n\u001B[1;32m    347\u001B[0m \u001B[38;5;28;01mif\u001B[39;00m \u001B[38;5;28mcls\u001B[39m \u001B[38;5;129;01mis\u001B[39;00m \u001B[38;5;28;01mNone\u001B[39;00m:\n",
      "File \u001B[0;32m~/miniconda3/envs/DeepL/lib/python3.12/json/decoder.py:337\u001B[0m, in \u001B[0;36mJSONDecoder.decode\u001B[0;34m(self, s, _w)\u001B[0m\n\u001B[1;32m    333\u001B[0m \u001B[38;5;250m\u001B[39m\u001B[38;5;124;03m\"\"\"Return the Python representation of ``s`` (a ``str`` instance\u001B[39;00m\n\u001B[1;32m    334\u001B[0m \u001B[38;5;124;03mcontaining a JSON document).\u001B[39;00m\n\u001B[1;32m    335\u001B[0m \n\u001B[1;32m    336\u001B[0m \u001B[38;5;124;03m\"\"\"\u001B[39;00m\n\u001B[0;32m--> 337\u001B[0m obj, end \u001B[38;5;241m=\u001B[39m \u001B[38;5;28mself\u001B[39m\u001B[38;5;241m.\u001B[39mraw_decode(s, idx\u001B[38;5;241m=\u001B[39m_w(s, \u001B[38;5;241m0\u001B[39m)\u001B[38;5;241m.\u001B[39mend())\n\u001B[1;32m    338\u001B[0m end \u001B[38;5;241m=\u001B[39m _w(s, end)\u001B[38;5;241m.\u001B[39mend()\n",
      "File \u001B[0;32m~/miniconda3/envs/DeepL/lib/python3.12/json/decoder.py:355\u001B[0m, in \u001B[0;36mJSONDecoder.raw_decode\u001B[0;34m(self, s, idx)\u001B[0m\n\u001B[1;32m    354\u001B[0m \u001B[38;5;28;01mexcept\u001B[39;00m \u001B[38;5;167;01mStopIteration\u001B[39;00m \u001B[38;5;28;01mas\u001B[39;00m err:\n\u001B[0;32m--> 355\u001B[0m     \u001B[38;5;28;01mraise\u001B[39;00m JSONDecodeError(\u001B[38;5;124m\"\u001B[39m\u001B[38;5;124mExpecting value\u001B[39m\u001B[38;5;124m\"\u001B[39m, s, err\u001B[38;5;241m.\u001B[39mvalue) \u001B[38;5;28;01mfrom\u001B[39;00m \u001B[38;5;28;01mNone\u001B[39;00m\n\u001B[1;32m    356\u001B[0m \u001B[38;5;28;01mreturn\u001B[39;00m obj, end\n",
      "\u001B[0;31mJSONDecodeError\u001B[0m: Expecting value: line 1 column 1 (char 0)",
      "\nDuring handling of the above exception, another exception occurred:\n",
      "\u001B[0;31mNeptuneInvalidApiTokenException\u001B[0m           Traceback (most recent call last)",
      "Cell \u001B[0;32mIn[29], line 5\u001B[0m\n\u001B[1;32m      2\u001B[0m \u001B[38;5;28;01mimport\u001B[39;00m \u001B[38;5;21;01mneptune\u001B[39;00m\n\u001B[1;32m      4\u001B[0m \u001B[38;5;66;03m# Replace empty strings with your values\u001B[39;00m\n\u001B[0;32m----> 5\u001B[0m run \u001B[38;5;241m=\u001B[39m neptune\u001B[38;5;241m.\u001B[39minit_run(\n\u001B[1;32m      6\u001B[0m     project\u001B[38;5;241m=\u001B[39m\u001B[38;5;124m\"\u001B[39m\u001B[38;5;124m\"\u001B[39m,\n\u001B[1;32m      7\u001B[0m     api_token\u001B[38;5;241m=\u001B[39m\u001B[38;5;124m\"\u001B[39m\u001B[38;5;124m\"\u001B[39m,\n\u001B[1;32m      8\u001B[0m ) \n\u001B[1;32m     10\u001B[0m params \u001B[38;5;241m=\u001B[39m {\u001B[38;5;124m\"\u001B[39m\u001B[38;5;124mlearning_rate\u001B[39m\u001B[38;5;124m\"\u001B[39m: learning_rate, \u001B[38;5;124m\"\u001B[39m\u001B[38;5;124moptimizer\u001B[39m\u001B[38;5;124m\"\u001B[39m: \u001B[38;5;124m\"\u001B[39m\u001B[38;5;124mAdam\u001B[39m\u001B[38;5;124m\"\u001B[39m}\n\u001B[1;32m     11\u001B[0m run[\u001B[38;5;124m\"\u001B[39m\u001B[38;5;124mparameters\u001B[39m\u001B[38;5;124m\"\u001B[39m] \u001B[38;5;241m=\u001B[39m params\n",
      "File \u001B[0;32m~/miniconda3/envs/DeepL/lib/python3.12/site-packages/neptune/metadata_containers/run.py:410\u001B[0m, in \u001B[0;36mRun.__init__\u001B[0;34m(self, with_id, project, api_token, custom_run_id, mode, name, description, tags, source_files, capture_stdout, capture_stderr, capture_hardware_metrics, fail_on_exception, monitoring_namespace, flush_period, proxies, capture_traceback, git_ref, dependencies, async_lag_callback, async_lag_threshold, async_no_progress_callback, async_no_progress_threshold, **kwargs)\u001B[0m\n\u001B[1;32m    407\u001B[0m \u001B[38;5;28;01mif\u001B[39;00m mode \u001B[38;5;241m==\u001B[39m Mode\u001B[38;5;241m.\u001B[39mOFFLINE \u001B[38;5;129;01mor\u001B[39;00m mode \u001B[38;5;241m==\u001B[39m Mode\u001B[38;5;241m.\u001B[39mDEBUG:\n\u001B[1;32m    408\u001B[0m     project \u001B[38;5;241m=\u001B[39m OFFLINE_PROJECT_QUALIFIED_NAME\n\u001B[0;32m--> 410\u001B[0m \u001B[38;5;28msuper\u001B[39m()\u001B[38;5;241m.\u001B[39m\u001B[38;5;21m__init__\u001B[39m(\n\u001B[1;32m    411\u001B[0m     project\u001B[38;5;241m=\u001B[39mproject,\n\u001B[1;32m    412\u001B[0m     api_token\u001B[38;5;241m=\u001B[39mapi_token,\n\u001B[1;32m    413\u001B[0m     mode\u001B[38;5;241m=\u001B[39mmode,\n\u001B[1;32m    414\u001B[0m     flush_period\u001B[38;5;241m=\u001B[39mflush_period,\n\u001B[1;32m    415\u001B[0m     proxies\u001B[38;5;241m=\u001B[39mproxies,\n\u001B[1;32m    416\u001B[0m     async_lag_callback\u001B[38;5;241m=\u001B[39masync_lag_callback,\n\u001B[1;32m    417\u001B[0m     async_lag_threshold\u001B[38;5;241m=\u001B[39masync_lag_threshold,\n\u001B[1;32m    418\u001B[0m     async_no_progress_callback\u001B[38;5;241m=\u001B[39masync_no_progress_callback,\n\u001B[1;32m    419\u001B[0m     async_no_progress_threshold\u001B[38;5;241m=\u001B[39masync_no_progress_threshold,\n\u001B[1;32m    420\u001B[0m )\n",
      "File \u001B[0;32m~/miniconda3/envs/DeepL/lib/python3.12/site-packages/neptune/metadata_containers/metadata_container.py:160\u001B[0m, in \u001B[0;36mMetadataContainer.__init__\u001B[0;34m(self, project, api_token, mode, flush_period, proxies, async_lag_callback, async_lag_threshold, async_no_progress_callback, async_no_progress_threshold)\u001B[0m\n\u001B[1;32m    157\u001B[0m \u001B[38;5;28mself\u001B[39m\u001B[38;5;241m.\u001B[39m_signals_queue: \u001B[38;5;124m\"\u001B[39m\u001B[38;5;124mQueue[Signal]\u001B[39m\u001B[38;5;124m\"\u001B[39m \u001B[38;5;241m=\u001B[39m Queue()\n\u001B[1;32m    158\u001B[0m \u001B[38;5;28mself\u001B[39m\u001B[38;5;241m.\u001B[39m_logger: logging\u001B[38;5;241m.\u001B[39mLogger \u001B[38;5;241m=\u001B[39m get_logger()\n\u001B[0;32m--> 160\u001B[0m \u001B[38;5;28mself\u001B[39m\u001B[38;5;241m.\u001B[39m_backend: NeptuneBackend \u001B[38;5;241m=\u001B[39m get_backend(mode\u001B[38;5;241m=\u001B[39mmode, api_token\u001B[38;5;241m=\u001B[39mapi_token, proxies\u001B[38;5;241m=\u001B[39mproxies)\n\u001B[1;32m    162\u001B[0m \u001B[38;5;28mself\u001B[39m\u001B[38;5;241m.\u001B[39m_project_qualified_name: Optional[\u001B[38;5;28mstr\u001B[39m] \u001B[38;5;241m=\u001B[39m conform_optional(project, QualifiedName)\n\u001B[1;32m    163\u001B[0m \u001B[38;5;28mself\u001B[39m\u001B[38;5;241m.\u001B[39m_project_api_object: Project \u001B[38;5;241m=\u001B[39m project_name_lookup(\n\u001B[1;32m    164\u001B[0m     backend\u001B[38;5;241m=\u001B[39m\u001B[38;5;28mself\u001B[39m\u001B[38;5;241m.\u001B[39m_backend, name\u001B[38;5;241m=\u001B[39m\u001B[38;5;28mself\u001B[39m\u001B[38;5;241m.\u001B[39m_project_qualified_name\n\u001B[1;32m    165\u001B[0m )\n",
      "File \u001B[0;32m~/miniconda3/envs/DeepL/lib/python3.12/site-packages/neptune/internal/backends/factory.py:31\u001B[0m, in \u001B[0;36mget_backend\u001B[0;34m(mode, api_token, proxies)\u001B[0m\n\u001B[1;32m     29\u001B[0m \u001B[38;5;28;01mdef\u001B[39;00m \u001B[38;5;21mget_backend\u001B[39m(mode: Mode, api_token: Optional[\u001B[38;5;28mstr\u001B[39m] \u001B[38;5;241m=\u001B[39m \u001B[38;5;28;01mNone\u001B[39;00m, proxies: Optional[\u001B[38;5;28mdict\u001B[39m] \u001B[38;5;241m=\u001B[39m \u001B[38;5;28;01mNone\u001B[39;00m) \u001B[38;5;241m-\u001B[39m\u001B[38;5;241m>\u001B[39m NeptuneBackend:\n\u001B[1;32m     30\u001B[0m     \u001B[38;5;28;01mif\u001B[39;00m mode \u001B[38;5;241m==\u001B[39m Mode\u001B[38;5;241m.\u001B[39mASYNC:\n\u001B[0;32m---> 31\u001B[0m         \u001B[38;5;28;01mreturn\u001B[39;00m HostedNeptuneBackend(credentials\u001B[38;5;241m=\u001B[39mCredentials\u001B[38;5;241m.\u001B[39mfrom_token(api_token\u001B[38;5;241m=\u001B[39mapi_token), proxies\u001B[38;5;241m=\u001B[39mproxies)\n\u001B[1;32m     32\u001B[0m     \u001B[38;5;28;01melif\u001B[39;00m mode \u001B[38;5;241m==\u001B[39m Mode\u001B[38;5;241m.\u001B[39mSYNC:\n\u001B[1;32m     33\u001B[0m         \u001B[38;5;28;01mreturn\u001B[39;00m HostedNeptuneBackend(credentials\u001B[38;5;241m=\u001B[39mCredentials\u001B[38;5;241m.\u001B[39mfrom_token(api_token\u001B[38;5;241m=\u001B[39mapi_token), proxies\u001B[38;5;241m=\u001B[39mproxies)\n",
      "File \u001B[0;32m~/miniconda3/envs/DeepL/lib/python3.12/site-packages/neptune/internal/credentials.py:52\u001B[0m, in \u001B[0;36mCredentials.from_token\u001B[0;34m(cls, api_token)\u001B[0m\n\u001B[1;32m     49\u001B[0m     \u001B[38;5;28;01mraise\u001B[39;00m NeptuneMissingApiTokenException()\n\u001B[1;32m     51\u001B[0m api_token \u001B[38;5;241m=\u001B[39m api_token\u001B[38;5;241m.\u001B[39mstrip()\n\u001B[0;32m---> 52\u001B[0m token_dict \u001B[38;5;241m=\u001B[39m Credentials\u001B[38;5;241m.\u001B[39m_api_token_to_dict(api_token)\n\u001B[1;32m     53\u001B[0m \u001B[38;5;66;03m# TODO: Consider renaming 'api_address' (breaking backward compatibility)\u001B[39;00m\n\u001B[1;32m     54\u001B[0m \u001B[38;5;28;01mif\u001B[39;00m \u001B[38;5;124m\"\u001B[39m\u001B[38;5;124mapi_address\u001B[39m\u001B[38;5;124m\"\u001B[39m \u001B[38;5;129;01mnot\u001B[39;00m \u001B[38;5;129;01min\u001B[39;00m token_dict:\n",
      "File \u001B[0;32m~/miniconda3/envs/DeepL/lib/python3.12/site-packages/neptune/internal/credentials.py:70\u001B[0m, in \u001B[0;36mCredentials._api_token_to_dict\u001B[0;34m(api_token)\u001B[0m\n\u001B[1;32m     68\u001B[0m     \u001B[38;5;28;01mreturn\u001B[39;00m json\u001B[38;5;241m.\u001B[39mloads(base64\u001B[38;5;241m.\u001B[39mb64decode(api_token\u001B[38;5;241m.\u001B[39mencode())\u001B[38;5;241m.\u001B[39mdecode(\u001B[38;5;124m\"\u001B[39m\u001B[38;5;124mutf-8\u001B[39m\u001B[38;5;124m\"\u001B[39m))\n\u001B[1;32m     69\u001B[0m \u001B[38;5;28;01mexcept\u001B[39;00m \u001B[38;5;167;01mException\u001B[39;00m:\n\u001B[0;32m---> 70\u001B[0m     \u001B[38;5;28;01mraise\u001B[39;00m NeptuneInvalidApiTokenException()\n",
      "\u001B[0;31mNeptuneInvalidApiTokenException\u001B[0m: \n\u001B[95m\n----NeptuneInvalidApiTokenException------------------------------------------------\n\u001B[0m\nThe provided API token is invalid.\nMake sure you copied and provided your API token correctly.\n\nYou can get it or check if it is correct here:\n    - https://app.neptune.ai/get_my_api_token\n\nThere are two options to add it:\n    - specify it in your code\n    - set it as an environment variable in your operating system.\n\n\u001B[94mCODE\u001B[0m\nPass the token to the \u001B[1minit_run()\u001B[0m function via the \u001B[1mapi_token\u001B[0m argument:\n    \u001B[96mneptune.init_run(project='WORKSPACE_NAME/PROJECT_NAME', api_token='YOUR_API_TOKEN')\u001B[0m\n\n\u001B[94mENVIRONMENT VARIABLE\u001B[0m \u001B[92m(Recommended option)\u001B[0m\nor export or set an environment variable depending on your operating system:\n\n    \u001B[92mLinux/Unix\u001B[0m\n    In your terminal run:\n        \u001B[95mexport NEPTUNE_API_TOKEN=\"YOUR_API_TOKEN\"\u001B[0m\n\n    \u001B[92mWindows\u001B[0m\n    In your CMD run:\n        \u001B[95mset NEPTUNE_API_TOKEN=\"YOUR_API_TOKEN\"\u001B[0m\n\nand skip the \u001B[1mapi_token\u001B[0m argument of the \u001B[1minit_run()\u001B[0m function:\n    \u001B[96mneptune.init_run(project='WORKSPACE_NAME/PROJECT_NAME')\u001B[0m\n\nYou may also want to check the following docs page:\n    - https://docs.neptune.ai/setup/setting_api_token/\n\n\u001B[92mNeed help?\u001B[0m-> https://docs.neptune.ai/getting_help\n"
     ]
    }
   ],
   "execution_count": 29
  },
  {
   "cell_type": "markdown",
   "source": "**Question**: Do we really need to initialize everything from scratch?",
   "metadata": {}
  }
 ]
}
