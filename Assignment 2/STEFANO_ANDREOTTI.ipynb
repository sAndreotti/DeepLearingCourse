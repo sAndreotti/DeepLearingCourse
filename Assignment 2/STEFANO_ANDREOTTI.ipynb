{
 "cells": [
  {
   "cell_type": "code",
   "id": "initial_id",
   "metadata": {
    "collapsed": true,
    "ExecuteTime": {
     "end_time": "2024-10-23T20:13:41.901137Z",
     "start_time": "2024-10-23T20:13:40.967873Z"
    }
   },
   "source": [
    "from cProfile import label\n",
    "\n",
    "from fontTools.misc.bezierTools import calcQuadraticArcLength\n",
    "\n",
    "'''\n",
    "Assignment 2\n",
    "Student: NAME SURNAME\n",
    "'''\n",
    "\n",
    "# *** Packages ***\n",
    "#!pip install torch==2.4 # Run just once\n",
    "import torch.nn as nn\n",
    "import torch.nn.functional as F\n",
    "from math import floor\n",
    "import torch\n",
    "\n",
    "if __name__ == \"__main__\":\n",
    "    # Write your code here\n",
    "    print(\"Hello World!\")\n",
    "\n",
    "    '''\n",
    "    DON'T MODIFY THE SEED!\n",
    "    '''\n",
    "    # Set the seed for reproducibility\n",
    "    manual_seed = 42\n",
    "    torch.manual_seed(manual_seed)"
   ],
   "outputs": [
    {
     "name": "stdout",
     "output_type": "stream",
     "text": [
      "Hello World!\n"
     ]
    }
   ],
   "execution_count": 1
  },
  {
   "metadata": {
    "ExecuteTime": {
     "end_time": "2024-10-23T20:13:42.825565Z",
     "start_time": "2024-10-23T20:13:42.810659Z"
    }
   },
   "cell_type": "code",
   "source": [
    "manual_seed = 42\n",
    "torch.manual_seed(manual_seed)\n",
    "# first dimension stay equal, second value change\n",
    "torch.randint(1, 10 , (1,1))"
   ],
   "id": "d476e6e68deccfce",
   "outputs": [
    {
     "data": {
      "text/plain": [
       "tensor([[7]])"
      ]
     },
     "execution_count": 2,
     "metadata": {},
     "output_type": "execute_result"
    }
   ],
   "execution_count": 2
  },
  {
   "metadata": {
    "ExecuteTime": {
     "end_time": "2024-10-24T09:05:13.563233Z",
     "start_time": "2024-10-24T09:05:12.162521Z"
    }
   },
   "cell_type": "code",
   "source": [
    "import torchvision.datasets as datasets\n",
    "from torchvision import transforms\n",
    "from torch.utils.data import DataLoader\n",
    "import matplotlib.pyplot as plt\n",
    "import numpy as np\n",
    "\n",
    "# Q4 - Normalize data\n",
    "transformer = transforms.Compose([transforms.ToTensor(), transforms.Normalize(mean=0, std=1)])\n",
    "\n",
    "trainset = datasets.CIFAR10(root='./data', train=True,download=True, transform=transformer)\n",
    "testset = datasets.CIFAR10(root='./data', train=False,download=True, transform=transformer)"
   ],
   "id": "c5606a70b803fcc7",
   "outputs": [
    {
     "name": "stdout",
     "output_type": "stream",
     "text": [
      "Files already downloaded and verified\n",
      "Files already downloaded and verified\n"
     ]
    }
   ],
   "execution_count": 25
  },
  {
   "metadata": {
    "ExecuteTime": {
     "end_time": "2024-10-23T20:26:05.673680Z",
     "start_time": "2024-10-23T20:26:05.670992Z"
    }
   },
   "cell_type": "code",
   "source": [
    "batch_size = 32\n",
    "trainloader = DataLoader(trainset, batch_size=batch_size, shuffle=True)\n",
    "testloader = DataLoader(testset, batch_size=len(testset))"
   ],
   "id": "b21a51a91f0debac",
   "outputs": [],
   "execution_count": 18
  },
  {
   "metadata": {
    "ExecuteTime": {
     "end_time": "2024-10-24T09:50:54.467285Z",
     "start_time": "2024-10-24T09:50:54.183869Z"
    }
   },
   "cell_type": "code",
   "source": [
    "import torchvision\n",
    "\n",
    "classes = ('plane', 'car', 'bird', 'cat','deer', 'dog', 'frog', 'horse', 'ship', 'truck')\n",
    "\n",
    "# functions to show an image\n",
    "def imshow(img):\n",
    "    img = img / 2 + 0.5     # unnormalize\n",
    "    npimg = img.numpy()\n",
    "    plt.imshow(np.transpose(npimg, (1, 2, 0)))\n",
    "    plt.axis('off')\n",
    "    plt.show()\n",
    "\n",
    "dist_train_classes = dict.fromkeys(classes, 0)\n",
    "dist_test_classes = dict.fromkeys(classes, 0)\n",
    "img_list = []\n",
    "class_list = []\n",
    "\n",
    "#for j in range(len(testloader)):\n",
    "dataiter = iter(testloader)\n",
    "for i in range(batch_size):\n",
    "    images, labels = next(dataiter)\n",
    "    current_class = classes[labels[i].item()]\n",
    "    \n",
    "    dist_test_classes[current_class] = dist_test_classes[current_class] + 1\n",
    "\n",
    "for j in range(len(trainloader)):\n",
    "    dataiter = iter(trainloader)\n",
    "    for i in range(batch_size):\n",
    "        images, labels = next(dataiter)\n",
    "        current_class = classes[labels[i].item()]\n",
    "        \n",
    "        if dist_train_classes[current_class] == 0:\n",
    "            img_list.append(images[i])\n",
    "            class_list.append(current_class)\n",
    "        \n",
    "        dist_train_classes[current_class] = dist_train_classes[current_class] + 1\n",
    "        \n",
    "imshow(torchvision.utils.make_grid(img_list))\n",
    "print(f\"Classes: {class_list}\")"
   ],
   "id": "aa5718e13c514723",
   "outputs": [
    {
     "ename": "StopIteration",
     "evalue": "",
     "output_type": "error",
     "traceback": [
      "\u001B[0;31m---------------------------------------------------------------------------\u001B[0m",
      "\u001B[0;31mStopIteration\u001B[0m                             Traceback (most recent call last)",
      "Cell \u001B[0;32mIn[28], line 21\u001B[0m\n\u001B[1;32m     19\u001B[0m dataiter \u001B[38;5;241m=\u001B[39m \u001B[38;5;28miter\u001B[39m(testloader)\n\u001B[1;32m     20\u001B[0m \u001B[38;5;28;01mfor\u001B[39;00m i \u001B[38;5;129;01min\u001B[39;00m \u001B[38;5;28mrange\u001B[39m(batch_size):\n\u001B[0;32m---> 21\u001B[0m     images, labels \u001B[38;5;241m=\u001B[39m \u001B[38;5;28mnext\u001B[39m(dataiter)\n\u001B[1;32m     22\u001B[0m     current_class \u001B[38;5;241m=\u001B[39m classes[labels[i]\u001B[38;5;241m.\u001B[39mitem()]\n\u001B[1;32m     24\u001B[0m     dist_test_classes[current_class] \u001B[38;5;241m=\u001B[39m dist_test_classes[current_class] \u001B[38;5;241m+\u001B[39m \u001B[38;5;241m1\u001B[39m\n",
      "File \u001B[0;32m~/miniconda3/envs/DeepL/lib/python3.12/site-packages/torch/utils/data/dataloader.py:630\u001B[0m, in \u001B[0;36m_BaseDataLoaderIter.__next__\u001B[0;34m(self)\u001B[0m\n\u001B[1;32m    627\u001B[0m \u001B[38;5;28;01mif\u001B[39;00m \u001B[38;5;28mself\u001B[39m\u001B[38;5;241m.\u001B[39m_sampler_iter \u001B[38;5;129;01mis\u001B[39;00m \u001B[38;5;28;01mNone\u001B[39;00m:\n\u001B[1;32m    628\u001B[0m     \u001B[38;5;66;03m# TODO(https://github.com/pytorch/pytorch/issues/76750)\u001B[39;00m\n\u001B[1;32m    629\u001B[0m     \u001B[38;5;28mself\u001B[39m\u001B[38;5;241m.\u001B[39m_reset()  \u001B[38;5;66;03m# type: ignore[call-arg]\u001B[39;00m\n\u001B[0;32m--> 630\u001B[0m data \u001B[38;5;241m=\u001B[39m \u001B[38;5;28mself\u001B[39m\u001B[38;5;241m.\u001B[39m_next_data()\n\u001B[1;32m    631\u001B[0m \u001B[38;5;28mself\u001B[39m\u001B[38;5;241m.\u001B[39m_num_yielded \u001B[38;5;241m+\u001B[39m\u001B[38;5;241m=\u001B[39m \u001B[38;5;241m1\u001B[39m\n\u001B[1;32m    632\u001B[0m \u001B[38;5;28;01mif\u001B[39;00m \u001B[38;5;28mself\u001B[39m\u001B[38;5;241m.\u001B[39m_dataset_kind \u001B[38;5;241m==\u001B[39m _DatasetKind\u001B[38;5;241m.\u001B[39mIterable \u001B[38;5;129;01mand\u001B[39;00m \\\n\u001B[1;32m    633\u001B[0m         \u001B[38;5;28mself\u001B[39m\u001B[38;5;241m.\u001B[39m_IterableDataset_len_called \u001B[38;5;129;01mis\u001B[39;00m \u001B[38;5;129;01mnot\u001B[39;00m \u001B[38;5;28;01mNone\u001B[39;00m \u001B[38;5;129;01mand\u001B[39;00m \\\n\u001B[1;32m    634\u001B[0m         \u001B[38;5;28mself\u001B[39m\u001B[38;5;241m.\u001B[39m_num_yielded \u001B[38;5;241m>\u001B[39m \u001B[38;5;28mself\u001B[39m\u001B[38;5;241m.\u001B[39m_IterableDataset_len_called:\n",
      "File \u001B[0;32m~/miniconda3/envs/DeepL/lib/python3.12/site-packages/torch/utils/data/dataloader.py:672\u001B[0m, in \u001B[0;36m_SingleProcessDataLoaderIter._next_data\u001B[0;34m(self)\u001B[0m\n\u001B[1;32m    671\u001B[0m \u001B[38;5;28;01mdef\u001B[39;00m \u001B[38;5;21m_next_data\u001B[39m(\u001B[38;5;28mself\u001B[39m):\n\u001B[0;32m--> 672\u001B[0m     index \u001B[38;5;241m=\u001B[39m \u001B[38;5;28mself\u001B[39m\u001B[38;5;241m.\u001B[39m_next_index()  \u001B[38;5;66;03m# may raise StopIteration\u001B[39;00m\n\u001B[1;32m    673\u001B[0m     data \u001B[38;5;241m=\u001B[39m \u001B[38;5;28mself\u001B[39m\u001B[38;5;241m.\u001B[39m_dataset_fetcher\u001B[38;5;241m.\u001B[39mfetch(index)  \u001B[38;5;66;03m# may raise StopIteration\u001B[39;00m\n\u001B[1;32m    674\u001B[0m     \u001B[38;5;28;01mif\u001B[39;00m \u001B[38;5;28mself\u001B[39m\u001B[38;5;241m.\u001B[39m_pin_memory:\n",
      "File \u001B[0;32m~/miniconda3/envs/DeepL/lib/python3.12/site-packages/torch/utils/data/dataloader.py:620\u001B[0m, in \u001B[0;36m_BaseDataLoaderIter._next_index\u001B[0;34m(self)\u001B[0m\n\u001B[1;32m    619\u001B[0m \u001B[38;5;28;01mdef\u001B[39;00m \u001B[38;5;21m_next_index\u001B[39m(\u001B[38;5;28mself\u001B[39m):\n\u001B[0;32m--> 620\u001B[0m     \u001B[38;5;28;01mreturn\u001B[39;00m \u001B[38;5;28mnext\u001B[39m(\u001B[38;5;28mself\u001B[39m\u001B[38;5;241m.\u001B[39m_sampler_iter)\n",
      "\u001B[0;31mStopIteration\u001B[0m: "
     ]
    }
   ],
   "execution_count": 28
  },
  {
   "metadata": {
    "ExecuteTime": {
     "end_time": "2024-10-23T20:22:43.865692Z",
     "start_time": "2024-10-23T20:22:43.806561Z"
    }
   },
   "cell_type": "code",
   "source": [
    "# Extract keys and values for plotting\n",
    "keys = list(dist_train_classes.keys())\n",
    "values = list(dist_train_classes.values())\n",
    "\n",
    "# Create the histogram\n",
    "plt.bar(keys, values, color='blue')\n",
    "\n",
    "# Add labels and title\n",
    "plt.xlabel('Classes')\n",
    "plt.ylabel('Values')\n",
    "plt.title('Class Distribution Train set')\n",
    "\n",
    "# Show the plot\n",
    "plt.show()"
   ],
   "id": "842ebf4d24005042",
   "outputs": [
    {
     "data": {
      "text/plain": [
       "<Figure size 640x480 with 1 Axes>"
      ],
      "image/png": "[encoded data removed]"
     },
     "metadata": {},
     "output_type": "display_data"
    }
   ],
   "execution_count": 7
  },
  {
   "metadata": {
    "ExecuteTime": {
     "end_time": "2024-10-23T20:22:46.101738Z",
     "start_time": "2024-10-23T20:22:46.047603Z"
    }
   },
   "cell_type": "code",
   "source": [
    "# Extract keys and values for plotting\n",
    "keys = list(dist_test_classes.keys())\n",
    "values = list(dist_test_classes.values())\n",
    "\n",
    "# Create the histogram\n",
    "plt.bar(keys, values, color='blue')\n",
    "\n",
    "# Add labels and title\n",
    "plt.xlabel('Classes')\n",
    "plt.ylabel('Values')\n",
    "plt.title('Class Distribution Test set')\n",
    "\n",
    "# Show the plot\n",
    "plt.show()"
   ],
   "id": "6ffc4356f0e2f4af",
   "outputs": [
    {
     "data": {
      "text/plain": [
       "<Figure size 640x480 with 1 Axes>"
      ],
      "image/png": "[encoded data removed]"
     },
     "metadata": {},
     "output_type": "display_data"
    }
   ],
   "execution_count": 8
  },
  {
   "metadata": {
    "ExecuteTime": {
     "end_time": "2024-10-23T20:26:09.854551Z",
     "start_time": "2024-10-23T20:26:09.848010Z"
    }
   },
   "cell_type": "code",
   "source": [
    "# Q3 - cast images\n",
    "# we want a 3x32x32 => 3 channels, 32 width, 32 height\n",
    "dataiter = iter(testloader)\n",
    "images, labels = next(dataiter)\n",
    "\n",
    "# [batch size, channels, height, width]\n",
    "print(images.shape)\n",
    "print(images[0].shape)"
   ],
   "id": "29a5cff34d881df1",
   "outputs": [
    {
     "name": "stdout",
     "output_type": "stream",
     "text": [
      "torch.Size([32, 3, 32, 32])\n",
      "torch.Size([3, 32, 32])\n"
     ]
    }
   ],
   "execution_count": 19
  },
  {
   "metadata": {
    "ExecuteTime": {
     "end_time": "2024-10-23T20:26:11.517075Z",
     "start_time": "2024-10-23T20:26:11.512639Z"
    }
   },
   "cell_type": "code",
   "source": [
    "# Q5 - Make validation\n",
    "validset, testset = torch.utils.data.random_split(testset, [0.5, 0.5])\n",
    "testloader = DataLoader(testset, batch_size=len(testset))\n",
    "validloader = DataLoader(validset, batch_size=len(validset))\n",
    "print(\"We have\", len(validset), \"items for validation and\", len(testset), \"items for test\")"
   ],
   "id": "eb84d70d430874ef",
   "outputs": [
    {
     "name": "stdout",
     "output_type": "stream",
     "text": [
      "We have 5000 items for validation and 5000 items for test\n"
     ]
    }
   ],
   "execution_count": 20
  },
  {
   "metadata": {
    "ExecuteTime": {
     "end_time": "2024-10-23T20:26:14.008052Z",
     "start_time": "2024-10-23T20:26:13.999989Z"
    }
   },
   "cell_type": "code",
   "source": [
    "# Q6 - CNN\n",
    "def out_dimensions(conv_layer, h_in, w_in):\n",
    "    '''\n",
    "    This function computes the output dimension of each convolutional layers in the most general way. \n",
    "    '''\n",
    "    h_out = floor((h_in + 2 * conv_layer.padding[0] - conv_layer.dilation[0] * (conv_layer.kernel_size[0] - 1) - 1) /\n",
    "                  conv_layer.stride[0] + 1)\n",
    "    w_out = floor((w_in + 2 * conv_layer.padding[1] - conv_layer.dilation[1] * (conv_layer.kernel_size[1] - 1) - 1) /\n",
    "                  conv_layer.stride[1] + 1)\n",
    "    return h_out, w_out\n",
    "    \n",
    "# You can start by modifying what we have done in class, or define your model from scratch\n",
    "class CNN(nn.Module):\n",
    "    def __init__(self):\n",
    "        super(CNN, self).__init__()\n",
    "        self.conv1 = nn.Conv2d(in_channels=3, out_channels=64, kernel_size=(3, 3), padding=0, stride=1)\n",
    "        h_out, w_out = out_dimensions(self.conv1, 32, 32)\n",
    "        self.conv2 = nn.Conv2d(in_channels=64, out_channels=128, kernel_size=(3, 3), padding=0, stride=1) \n",
    "        h_out, w_out = out_dimensions(self.conv2, h_out, w_out)\n",
    "        \n",
    "        self.pool1 = nn.MaxPool2d(2, 2)\n",
    "        h_out, w_out = int(h_out/2), int(w_out/2)\n",
    "        \n",
    "        self.conv3 = nn.Conv2d(in_channels=128, out_channels=256, kernel_size=(3, 3), padding=0, stride=1) \n",
    "        h_out, w_out = out_dimensions(self.conv3, h_out, w_out)\n",
    "        self.conv5 = nn.Conv2d(in_channels=256, out_channels=128, kernel_size=(3, 3), padding=0, stride=1) \n",
    "        h_out, w_out = out_dimensions(self.conv5, h_out, w_out)\n",
    "        h_out, w_out = int(h_out/2), int(w_out/2)\n",
    "        \n",
    "        self.conv6 = nn.Conv2d(in_channels=128, out_channels=32, kernel_size=(3, 3), padding=0, stride=1) \n",
    "        h_out, w_out = out_dimensions(self.conv6, h_out, w_out)\n",
    "        h_out, w_out = int(h_out/2), int(w_out/2)\n",
    "        \n",
    "        # You can double this block! \n",
    "        self.fc1 = nn.Linear(32 * h_out * w_out, 10) # What does 32 represent?\n",
    "        # You can add one fully connected layer. What do you have to change?\n",
    "        self.dimensions_final = (32, h_out, w_out)\n",
    "\n",
    "    def forward(self, x):\n",
    "        x = self.conv1(x)\n",
    "        x = self.conv2(x)\n",
    "        x = F.relu(x)\n",
    "        x = self.pool1(x)\n",
    "        \n",
    "        x = self.conv3(x)\n",
    "        x = self.conv5(x)\n",
    "        x = F.relu(x)\n",
    "        x = self.pool1(x)\n",
    "        \n",
    "        x = self.conv6(x)\n",
    "        x = F.relu(x)\n",
    "        x = self.pool1(x)\n",
    "        \n",
    "        n_channels, h, w = self.dimensions_final\n",
    "        x = x.view(-1, n_channels * h * w)\n",
    "        x = self.fc1(x)\n",
    "        return x\n",
    "    \n",
    "class CCNS(nn.Module):\n",
    "    def __init__(self):\n",
    "        super(CCNS, self).__init__()\n",
    "        self.conv1 = nn.Conv2d(in_channels=3, out_channels=32, kernel_size=(3, 3), padding=0, stride=1)\n",
    "        h_out, w_out = out_dimensions(self.conv1, 32, 32)\n",
    "        self.conv2 = nn.Conv2d(in_channels=32, out_channels=64, kernel_size=(3, 3), padding=0, stride=1)\n",
    "        h_out, w_out = out_dimensions(self.conv2, h_out, w_out)\n",
    "        self.relu1 = nn.ReLU()\n",
    "        self.pool1 = nn.MaxPool2d(2, 2)\n",
    "        h_out, w_out = int(h_out/2), int(w_out/2)\n",
    "        \n",
    "        self.conv3 = nn.Conv2d(in_channels=64, out_channels=128, kernel_size=(3, 3), padding=0, stride=1)\n",
    "        h_out, w_out = out_dimensions(self.conv3, h_out, w_out)\n",
    "        self.conv4 = nn.Conv2d(in_channels=128, out_channels=32, kernel_size=(3, 3), padding=0, stride=1)\n",
    "        h_out, w_out = out_dimensions(self.conv4, h_out, w_out)\n",
    "        h_out, w_out = int(h_out/2), int(w_out/2)\n",
    "        \n",
    "        self.fc1 = nn.Linear(32 * h_out * w_out, 10)\n",
    "        self.dimensions_final = (32, h_out, w_out)\n",
    "\n",
    "    def forward(self, x):\n",
    "        x = self.conv1(x)\n",
    "        x = self.conv2(x)\n",
    "        x = self.relu1(x)\n",
    "        x = self.pool1(x)\n",
    "        \n",
    "        x = self.conv3(x)\n",
    "        x = self.conv4(x)\n",
    "        x = self.relu1(x)\n",
    "        x = self.pool1(x)\n",
    "        \n",
    "        n_channels, h, w = self.dimensions_final\n",
    "        x = x.view(-1, n_channels * h * w)\n",
    "        x = self.fc1(x)\n",
    "        \n",
    "        return x"
   ],
   "id": "badd9bea0923d9f0",
   "outputs": [],
   "execution_count": 21
  },
  {
   "metadata": {
    "ExecuteTime": {
     "end_time": "2024-10-23T20:26:17.096819Z",
     "start_time": "2024-10-23T20:26:17.090535Z"
    }
   },
   "cell_type": "code",
   "source": [
    "#Q7 - Training\n",
    "import torch.optim as optim\n",
    "\n",
    "model = CNN()\n",
    "learning_rate = 0.031\n",
    "n_epochs = 4 #7 might overfit but can be a minimum(?)\n",
    "optimizer = optim.SGD(model.parameters(), lr=learning_rate)\n",
    "loss_fn = nn.CrossEntropyLoss()"
   ],
   "id": "cb2a79b05227ce12",
   "outputs": [],
   "execution_count": 22
  },
  {
   "metadata": {
    "ExecuteTime": {
     "end_time": "2024-10-24T09:05:10.446127Z",
     "start_time": "2024-10-23T20:26:18.662777Z"
    }
   },
   "cell_type": "code",
   "source": [
    "DEVICE = torch.device('cuda' if torch.cuda.is_available() else 'mps' \n",
    "    if torch.backends.mps.is_available() else 'cpu')\n",
    "model = model.to(DEVICE)\n",
    "print(\"Working on\", DEVICE)\n",
    "\n",
    "train_loss_list = []\n",
    "validation_loss_list = []\n",
    "for epoch in range(n_epochs):\n",
    "    loss_train = 0\n",
    "    for data, target in trainloader:\n",
    "        # Set the model in training mode\n",
    "        model.train()\n",
    "        data, target = data.to(DEVICE), target.to(DEVICE)\n",
    "        # Set the gradient to 0\n",
    "        optimizer.zero_grad()\n",
    "        # Make a prediction\n",
    "        output = model(data)\n",
    "        # Compute the loss function\n",
    "        loss = loss_fn(output, target)\n",
    "        loss_train += loss.item()\n",
    "        # Backpropagation\n",
    "        loss.backward()\n",
    "        # Update parameters\n",
    "        optimizer.step()\n",
    "        \n",
    "    loss_train = loss_train / len(trainloader) # Consider this alternative method of tracking training loss. \n",
    "    train_loss_list.append(loss_train)\n",
    "    \n",
    "    # At the end of every epoch, check the validation loss value\n",
    "    with torch.no_grad():\n",
    "        model.eval()\n",
    "        for data, target in validloader: # Just one batch\n",
    "            data, target = data.to(DEVICE), target.to(DEVICE)\n",
    "            # Make a prediction\n",
    "            output = model(data)\n",
    "            # Compute the loss function\n",
    "            validation_loss = loss_fn(output, target).item()\n",
    "            print(f\"Epoch {epoch + 1}: Train loss: {loss_train}, Validation loss {validation_loss}\")\n",
    "            validation_loss_list.append(validation_loss)\n",
    "    "
   ],
   "id": "1920b612fbc592a9",
   "outputs": [
    {
     "name": "stdout",
     "output_type": "stream",
     "text": [
      "Working on mps\n",
      "Epoch 1: Train loss: 2.0732645710843234, Validation loss 1.7527580261230469\n",
      "Epoch 2: Train loss: 1.5938730786339412, Validation loss 1.5248535871505737\n",
      "Epoch 3: Train loss: 1.33492541046228, Validation loss 1.2926243543624878\n",
      "Epoch 4: Train loss: 1.156615661415471, Validation loss 1.1065880060195923\n"
     ]
    }
   ],
   "execution_count": 23
  },
  {
   "metadata": {},
   "cell_type": "markdown",
   "source": [
    "Using more than 4 epochs lead to overfitting, if we try with 15 epochs we can easly see that the loss during training will decrease for each epochs while the validation loss continue to go up and down showing a overfitting. \n",
    "\n",
    "Using a very high learning rate cause the training loss to decrease while validation loss will continue to increase, a very small learning rate will lead to a good accuracy after a lot of epochs.\n",
    "\n",
    "i tried to add  more conv layer consecutively but it get worse, too loss of information (?), adding more layers is counter productive because it will need more epochs to have a good loss (tried 3 layers of 2 conv with relu and max but go overfitting)"
   ],
   "id": "1d15e7af549aaea2"
  },
  {
   "metadata": {
    "ExecuteTime": {
     "end_time": "2024-10-23T20:25:02.368705Z",
     "start_time": "2024-10-23T20:25:02.252636Z"
    }
   },
   "cell_type": "code",
   "source": [
    "# Q8 - train and val loss\n",
    "plt.figure()\n",
    "plt.plot(range(n_epochs), train_loss_list)\n",
    "plt.plot(range(n_epochs), validation_loss_list)\n",
    "plt.legend([\"Train loss\", \"Validation Loss\"])\n",
    "plt.xlabel(\"Epochs\")\n",
    "plt.ylabel(\"Loss value\")\n",
    "plt.show()"
   ],
   "id": "9329ab956cc265d2",
   "outputs": [
    {
     "data": {
      "text/plain": [
       "<Figure size 640x480 with 1 Axes>"
      ],
      "image/png": "[encoded data removed]"
     },
     "metadata": {},
     "output_type": "display_data"
    }
   ],
   "execution_count": 14
  },
  {
   "metadata": {
    "ExecuteTime": {
     "end_time": "2024-10-23T20:25:06.256959Z",
     "start_time": "2024-10-23T20:25:05.867423Z"
    }
   },
   "cell_type": "code",
   "source": [
    "# test\n",
    "with torch.no_grad():\n",
    "    n_correct = 0\n",
    "    n_samples = 0\n",
    "    for data, target in testloader:\n",
    "        data, target = data.to(DEVICE), target.to(DEVICE)\n",
    "        outputs = model(data)\n",
    "        _, predicted = torch.max(outputs.data, 1)\n",
    "        n_samples += target.size(0)\n",
    "        n_correct += (predicted == target).sum().item()\n",
    "\n",
    "    acc = 100.0 * n_correct / n_samples\n",
    "print(\"Accuracy on the test set:\", acc, \"%\")"
   ],
   "id": "21bade939c01d525",
   "outputs": [
    {
     "name": "stdout",
     "output_type": "stream",
     "text": [
      "Accuracy on the test set: 54.06 %\n"
     ]
    }
   ],
   "execution_count": 15
  }
 ],
 "metadata": {
  "kernelspec": {
   "display_name": "Python 3",
   "language": "python",
   "name": "python3"
  },
  "language_info": {
   "codemirror_mode": {
    "name": "ipython",
    "version": 2
   },
   "file_extension": ".py",
   "mimetype": "text/x-python",
   "name": "python",
   "nbconvert_exporter": "python",
   "pygments_lexer": "ipython2",
   "version": "2.7.6"
  }
 },
 "nbformat": 4,
 "nbformat_minor": 5
}
